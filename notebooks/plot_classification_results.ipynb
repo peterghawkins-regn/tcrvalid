{
 "cells": [
  {
   "cell_type": "code",
   "execution_count": 1,
   "id": "5801acb0-cc2c-4493-a5e2-433fd4fcdcad",
   "metadata": {
    "execution": {
     "iopub.execute_input": "2023-12-18T19:21:05.748581Z",
     "iopub.status.busy": "2023-12-18T19:21:05.748389Z",
     "iopub.status.idle": "2023-12-18T19:21:05.751946Z",
     "shell.execute_reply": "2023-12-18T19:21:05.751353Z",
     "shell.execute_reply.started": "2023-12-18T19:21:05.748562Z"
    },
    "tags": []
   },
   "outputs": [],
   "source": [
    "# Copyright 2023 Regeneron Pharmaceuticals Inc.\n",
    "#\n",
    "# Licensed under the Apache License, Version 2.0 (the \"License\");\n",
    "# you may not use this file except in compliance with the License.\n",
    "# You may obtain a copy of the License at\n",
    "#\n",
    "#     http://www.apache.org/licenses/LICENSE-2.0\n",
    "#\n",
    "# Unless required by applicable law or agreed to in writing, software\n",
    "# distributed under the License is distributed on an \"AS IS\" BASIS,\n",
    "# WITHOUT WARRANTIES OR CONDITIONS OF ANY KIND, either express or implied.\n",
    "# See the License for the specific language governing permissions and\n",
    "# limitations under the License."
   ]
  },
  {
   "cell_type": "code",
   "execution_count": 2,
   "id": "838023cd-7643-4bc0-933d-8b939bbc3d94",
   "metadata": {
    "execution": {
     "iopub.execute_input": "2023-12-18T19:21:05.753506Z",
     "iopub.status.busy": "2023-12-18T19:21:05.753140Z",
     "iopub.status.idle": "2023-12-18T19:21:07.941727Z",
     "shell.execute_reply": "2023-12-18T19:21:07.941016Z",
     "shell.execute_reply.started": "2023-12-18T19:21:05.753486Z"
    },
    "tags": []
   },
   "outputs": [],
   "source": [
    "import pandas as pd\n",
    "import numpy as np\n",
    "import os\n",
    "from scipy import stats\n",
    "from sklearn.metrics import roc_auc_score\n",
    "\n",
    "import matplotlib.pyplot as plt\n",
    "import seaborn as sns\n",
    "\n",
    "from tcrvalid.plot_utils import set_simple_rc_params\n",
    "set_simple_rc_params()\n",
    "\n",
    "import matplotlib as mpl"
   ]
  },
  {
   "cell_type": "code",
   "execution_count": 3,
   "id": "4c999f55-e930-4331-904c-6729b382f934",
   "metadata": {
    "execution": {
     "iopub.execute_input": "2023-12-18T19:21:07.943278Z",
     "iopub.status.busy": "2023-12-18T19:21:07.942933Z",
     "iopub.status.idle": "2023-12-18T19:21:07.985894Z",
     "shell.execute_reply": "2023-12-18T19:21:07.985226Z",
     "shell.execute_reply.started": "2023-12-18T19:21:07.943256Z"
    },
    "tags": []
   },
   "outputs": [],
   "source": [
    "base_dir = '/data/home/peter.hawkins/repos/mp_bb/tcrvalid/results_data/classification_data'\n",
    "\n",
    "df_deeptcr = pd.read_csv(os.path.join(base_dir,'ood_confidence_deeptcr_repeat_1.csv'))\n",
    "df_tcrvalid = pd.read_csv(os.path.join(base_dir,'ood_confidence_tcrvalid_repeat_1.csv'))\n",
    "df_deeptcr['method'] = 'deepTCR'\n",
    "df_tcrvalid['method'] = 'TCRVALID'\n",
    "\n",
    "df_roc_deeptcr = pd.read_csv(os.path.join(base_dir,'classroc_deeptcr_repeat_1.csv'))\n",
    "df_roc_tcrvalid = pd.read_csv(os.path.join(base_dir,'classroc_tcrvalid_repeat_1.csv'))\n",
    "df_roc_deeptcr['method'] = 'deepTCR'\n",
    "df_roc_tcrvalid['method'] = 'TCRVALID'\n",
    "\n",
    "df_tcrvalid_ul = pd.read_csv(os.path.join(base_dir,'unlabeled_ood_roc_tcrvalid_repeat_1.csv'))\n",
    "df_tcrvalid_ul['method'] = 'TCRVALID'"
   ]
  },
  {
   "cell_type": "code",
   "execution_count": 4,
   "id": "dee39740-7735-465f-9c98-d5c0d010ca7c",
   "metadata": {
    "execution": {
     "iopub.execute_input": "2023-12-18T19:21:07.987307Z",
     "iopub.status.busy": "2023-12-18T19:21:07.986903Z",
     "iopub.status.idle": "2023-12-18T19:21:07.991794Z",
     "shell.execute_reply": "2023-12-18T19:21:07.991063Z",
     "shell.execute_reply.started": "2023-12-18T19:21:07.987276Z"
    },
    "tags": []
   },
   "outputs": [],
   "source": [
    "def toname(row):\n",
    "    if row['balance']>-0.1:\n",
    "        return row['method']+'\\n alpha={:.0f}'.format(row['balance'])\n",
    "    else:\n",
    "        return row['method']"
   ]
  },
  {
   "cell_type": "code",
   "execution_count": 5,
   "id": "b3ee63ff-f91e-4b8a-8359-83b7388ce9c0",
   "metadata": {
    "execution": {
     "iopub.execute_input": "2023-12-18T19:21:07.994332Z",
     "iopub.status.busy": "2023-12-18T19:21:07.994016Z",
     "iopub.status.idle": "2023-12-18T19:21:08.861562Z",
     "shell.execute_reply": "2023-12-18T19:21:08.860872Z",
     "shell.execute_reply.started": "2023-12-18T19:21:07.994309Z"
    },
    "tags": []
   },
   "outputs": [],
   "source": [
    "df = pd.concat([df_deeptcr,df_tcrvalid])\n",
    "df['model'] = df.apply(\n",
    "    lambda row: toname(row),\n",
    "    axis=1\n",
    ")\n",
    "\n",
    "df_roc = pd.concat([df_roc_deeptcr,df_roc_tcrvalid])\n",
    "df_roc['model'] = df_roc.apply(\n",
    "    lambda row: toname(row),\n",
    "    axis=1\n",
    ")\n",
    "\n",
    "df_tcrvalid_ul['model'] = df_tcrvalid_ul.apply(\n",
    "    lambda row: toname(row),\n",
    "    axis=1\n",
    ")"
   ]
  },
  {
   "cell_type": "code",
   "execution_count": 6,
   "id": "c2c28b8b-5847-465a-b352-37039137a34d",
   "metadata": {
    "execution": {
     "iopub.execute_input": "2023-12-18T19:21:08.863107Z",
     "iopub.status.busy": "2023-12-18T19:21:08.862557Z",
     "iopub.status.idle": "2023-12-18T19:21:10.113604Z",
     "shell.execute_reply": "2023-12-18T19:21:10.112991Z",
     "shell.execute_reply.started": "2023-12-18T19:21:08.863075Z"
    },
    "tags": []
   },
   "outputs": [],
   "source": [
    "pep_ood_rocs = []\n",
    "for model in df.model.unique():\n",
    "    for fold in df['fold'].unique():\n",
    "        x1=df[(df['model']==model)&(df['data']=='test-ID')&(df['fold']==fold)].confidence\n",
    "        x2=df[(df['model']==model)&(df['data']=='test-OOD')&(df['fold']==fold)].confidence\n",
    "\n",
    "        x = np.hstack((x1,x2))\n",
    "        y = np.concatenate((np.ones((len(x1),)),np.zeros((len(x2),))))\n",
    "        pep_ood_rocs.append({\n",
    "            'model':model,\n",
    "            'fold':fold,\n",
    "            'roc':roc_auc_score(y,x) \n",
    "        })\n",
    "        \n",
    "df_ood_roc = pd.DataFrame(pep_ood_rocs)"
   ]
  },
  {
   "cell_type": "code",
   "execution_count": 7,
   "id": "5a5cb6e2-9a5c-4cc9-8bee-8debb7b7de6a",
   "metadata": {
    "execution": {
     "iopub.execute_input": "2023-12-18T19:21:10.114754Z",
     "iopub.status.busy": "2023-12-18T19:21:10.114447Z",
     "iopub.status.idle": "2023-12-18T19:21:10.123486Z",
     "shell.execute_reply": "2023-12-18T19:21:10.122683Z",
     "shell.execute_reply.started": "2023-12-18T19:21:10.114731Z"
    },
    "tags": []
   },
   "outputs": [],
   "source": [
    "df_rocs = pd.concat([\n",
    "    df_ood_roc.assign(roc_type='test-ID vs. OOD'),\n",
    "    df_tcrvalid_ul.assign(roc_type='test-ID v. test-bkgOOD'),\n",
    "    df_roc.assign(roc_type='test-ID')\n",
    "    \n",
    "])"
   ]
  },
  {
   "cell_type": "code",
   "execution_count": 8,
   "id": "1e8dd09f-8880-429c-8076-90225bb7f83c",
   "metadata": {
    "execution": {
     "iopub.execute_input": "2023-12-18T19:21:10.124561Z",
     "iopub.status.busy": "2023-12-18T19:21:10.124347Z",
     "iopub.status.idle": "2023-12-18T19:21:11.739838Z",
     "shell.execute_reply": "2023-12-18T19:21:11.739038Z",
     "shell.execute_reply.started": "2023-12-18T19:21:10.124537Z"
    },
    "tags": []
   },
   "outputs": [
    {
     "data": {
      "image/png": "[encoded data removed]",
      "text/plain": [
       "<Figure size 450x600 with 2 Axes>"
      ]
     },
     "metadata": {},
     "output_type": "display_data"
    }
   ],
   "source": [
    "f,(ax1,ax2) = plt.subplots(2,1,figsize=(4.5,6))\n",
    "\n",
    "# --------------------------------------\n",
    "# OOD data was not used in model - remove test from naming convention\n",
    "df_renamed = df.copy()\n",
    "df_renamed['data'].replace('test-OOD','OOD', inplace=True)\n",
    "\n",
    "g = sns.boxplot(\n",
    "    data = df_renamed,\n",
    "    x = 'model',\n",
    "    hue= 'data',\n",
    "    y = 'confidence',\n",
    "    palette={'test-ID':'w','OOD':'r'},\n",
    "    ax=ax1\n",
    ")\n",
    "\n",
    "ax1.plot([0.5,0.5],[0,1],'k--')\n",
    "\n",
    "g.legend(loc='upper right', fontsize=7)\n",
    "\n",
    "# --------------------------------------\n",
    "\n",
    "hue_order = [\n",
    "    'test-ID',\n",
    "    'test-ID vs. OOD',\n",
    "    'test-ID v. test-bkgOOD',\n",
    "]\n",
    "\n",
    "palette = {\n",
    "    'test-ID':'w',\n",
    "    'test-ID vs. OOD':'orange',\n",
    "    'test-ID v. test-bkgOOD':'b'\n",
    "}\n",
    "palette2 = {\n",
    "    'test-ID':'k',\n",
    "    'test-ID vs. OOD':'orange',\n",
    "    'test-ID v. test-bkgOOD':'b'\n",
    "}\n",
    "g2 = sns.boxplot(\n",
    "    data = df_rocs,\n",
    "    x = 'model',\n",
    "    hue = 'roc_type',\n",
    "    hue_order = hue_order,\n",
    "    palette=palette,\n",
    "    y = 'roc',\n",
    "    color='r',\n",
    "    ax=ax2\n",
    ")\n",
    "\n",
    "gg2 = sns.stripplot(\n",
    "    data = df_rocs,\n",
    "    x = 'model',\n",
    "    hue = 'roc_type',\n",
    "    hue_order = hue_order,\n",
    "    palette=palette2,\n",
    "    dodge=True,\n",
    "    alpha=0.6,\n",
    "    s=5,\n",
    "    y = 'roc',\n",
    "    color='r',\n",
    "    ax=ax2\n",
    ")\n",
    "g2.legend(loc='upper right', fontsize=7)\n",
    "handles, labels = g2.get_legend_handles_labels()\n",
    "\n",
    "\n",
    "ax2.legend(handles[:3], labels[:3], loc='upper right', fontsize=7)\n",
    "\n",
    "\n",
    "ax2.plot([0.5,0.5],[0,1],'k--')\n",
    "ax2.set_ylim([0.7,1.0])\n",
    "ax2.set_ylabel('AUROC')\n",
    "\n",
    "for ax in [ax1,ax2]:\n",
    "    ax.set_xlim([-0.5,4.5])\n",
    "    \n",
    "ax1.set_xticklabels([])\n",
    "ax1.set_xlabel('')\n",
    "\n",
    "plt.tight_layout()\n",
    "\n",
    "plt.savefig('../results_data/classification_data/conf_AUROC_plot.pdf')\n",
    "plt.savefig('../results_data/classification_data/conf_AUROC_plot.png')"
   ]
  },
  {
   "cell_type": "code",
   "execution_count": 9,
   "id": "2bc4a4a0-29d3-4b28-96d2-81be88b48e81",
   "metadata": {
    "execution": {
     "iopub.execute_input": "2023-12-18T19:21:11.740848Z",
     "iopub.status.busy": "2023-12-18T19:21:11.740639Z",
     "iopub.status.idle": "2023-12-18T19:21:11.752317Z",
     "shell.execute_reply": "2023-12-18T19:21:11.751573Z",
     "shell.execute_reply.started": "2023-12-18T19:21:11.740829Z"
    },
    "tags": []
   },
   "outputs": [
    {
     "name": "stdout",
     "output_type": "stream",
     "text": [
      "p =  0.002293196040126747\n",
      "U =  12.0\n",
      "mean TCRVALID (alpha=1)  = 0.810\n",
      "mean DeepTCR             = 0.792\n",
      "median TCRVALID (alpha=1)  = 0.808\n",
      "median DeepTCR             = 0.792\n"
     ]
    }
   ],
   "source": [
    "# Mann-Whitney-U on ID v OOD classification task on 10 fold monte carlo - TCRVALID v DeepTCR\n",
    "\n",
    "thetest = stats.mannwhitneyu(\n",
    "        df_ood_roc[(df_ood_roc['model']=='deepTCR')].roc,\n",
    "        df_ood_roc[(df_ood_roc['model']=='TCRVALID\\n alpha=1')].roc\n",
    "    )\n",
    "print('p = ', thetest.pvalue)\n",
    "print('U = ', thetest.statistic)\n",
    "\n",
    "# AUROC means for TCRVALID, DEEPTCR over 10 fold monte carlo for ID v OOD\n",
    "print('mean TCRVALID (alpha=1)  = {:.3f}'.format(df_ood_roc[(df_ood_roc['model']=='TCRVALID\\n alpha=1')].roc.mean() ))\n",
    "print('mean DeepTCR             = {:.3f}'.format(df_ood_roc[(df_ood_roc['model']=='deepTCR')].roc.mean() ))\n",
    "\n",
    "# AUROC medians for TCRVALID, DEEPTCR over 10 fold monte carlo for ID v OOD\n",
    "print('median TCRVALID (alpha=1)  = {:.3f}'.format(df_ood_roc[(df_ood_roc['model']=='TCRVALID\\n alpha=1')].roc.median() ))\n",
    "print('median DeepTCR             = {:.3f}'.format(df_ood_roc[(df_ood_roc['model']=='deepTCR')].roc.median() ))\n"
   ]
  },
  {
   "cell_type": "code",
   "execution_count": 10,
   "id": "b054eb00-7c2d-4544-96c0-22cacf606320",
   "metadata": {
    "execution": {
     "iopub.execute_input": "2023-12-18T19:21:11.753755Z",
     "iopub.status.busy": "2023-12-18T19:21:11.753404Z",
     "iopub.status.idle": "2023-12-18T19:21:11.772257Z",
     "shell.execute_reply": "2023-12-18T19:21:11.771649Z",
     "shell.execute_reply.started": "2023-12-18T19:21:11.753724Z"
    },
    "tags": []
   },
   "outputs": [
    {
     "name": "stdout",
     "output_type": "stream",
     "text": [
      "p =  0.0006574723348566069\n",
      "statistic =  7.0\n",
      "mean TCRVALID (alpha=0)  = 0.765\n",
      "mean TCRVALID (alpha=1)  = 0.810\n",
      "median TCRVALID (alpha=0)  = 0.763\n",
      "median TCRVALID (alpha=1)  = 0.808\n"
     ]
    }
   ],
   "source": [
    "# Mann-Whitney-U on ID v OOD classification task on 10 fold monte carlo - TCRVALID alpha 0 vs 1\n",
    "thetest = stats.mannwhitneyu(\n",
    "        df_ood_roc[(df_ood_roc['model']=='TCRVALID\\n alpha=0')].roc,\n",
    "        df_ood_roc[(df_ood_roc['model']=='TCRVALID\\n alpha=1')].roc\n",
    "    )\n",
    "print('p = ', thetest.pvalue)\n",
    "print('statistic = ', thetest.statistic)\n",
    "\n",
    "print('mean TCRVALID (alpha=0)  = {:.3f}'.format( df_ood_roc[(df_ood_roc['model']=='TCRVALID\\n alpha=0')].roc.mean() ))\n",
    "print('mean TCRVALID (alpha=1)  = {:.3f}'.format( df_ood_roc[(df_ood_roc['model']=='TCRVALID\\n alpha=1')].roc.mean() ))\n",
    "\n",
    "print('median TCRVALID (alpha=0)  = {:.3f}'.format( df_ood_roc[(df_ood_roc['model']=='TCRVALID\\n alpha=0')].roc.median() ))\n",
    "print('median TCRVALID (alpha=1)  = {:.3f}'.format( df_ood_roc[(df_ood_roc['model']=='TCRVALID\\n alpha=1')].roc.median() ))\n"
   ]
  },
  {
   "cell_type": "code",
   "execution_count": 11,
   "id": "41689f3c-18cc-464a-b2bf-b7a9d7aa7592",
   "metadata": {
    "execution": {
     "iopub.execute_input": "2023-12-18T19:21:11.774168Z",
     "iopub.status.busy": "2023-12-18T19:21:11.773912Z",
     "iopub.status.idle": "2023-12-18T19:21:11.790053Z",
     "shell.execute_reply": "2023-12-18T19:21:11.789323Z",
     "shell.execute_reply.started": "2023-12-18T19:21:11.774149Z"
    },
    "tags": []
   },
   "outputs": [
    {
     "name": "stdout",
     "output_type": "stream",
     "text": [
      "p =  0.004554248199015482\n",
      "statistic =  15.0\n",
      "mean TCRVALID (alpha=1)  = 0.946\n",
      "mean DeepTCR             = 0.954\n",
      "median TCRVALID (alpha=1)  = 0.945\n",
      "median DeepTCR             = 0.956\n"
     ]
    }
   ],
   "source": [
    "# Mann-Whitney-U on ID classification task on 10 fold monte carlo - DeepTCR vs TCRVALID\n",
    "thetest = stats.mannwhitneyu(\n",
    "        df_roc[(df_roc['model']=='deepTCR')].roc,\n",
    "        df_roc[(df_roc['model']=='TCRVALID\\n alpha=1')].roc\n",
    "    )\n",
    "\n",
    "print('p = ', thetest.pvalue)\n",
    "print('statistic = ', thetest.statistic)\n",
    "\n",
    "print('mean TCRVALID (alpha=1)  = {:.3f}'.format( df_roc[(df_roc['model']=='TCRVALID\\n alpha=1')].roc.mean() ))\n",
    "print('mean DeepTCR             = {:.3f}'.format( df_roc[(df_roc['model']=='deepTCR')].roc.mean() ) )\n",
    "\n",
    "\n",
    "print('median TCRVALID (alpha=1)  = {:.3f}'.format( df_roc[(df_roc['model']=='TCRVALID\\n alpha=1')].roc.median() ))\n",
    "print('median DeepTCR             = {:.3f}'.format( df_roc[(df_roc['model']=='deepTCR')].roc.median() ) )\n"
   ]
  },
  {
   "cell_type": "code",
   "execution_count": 12,
   "id": "256b787e-7fc2-4f4f-be90-3ee37d751a9b",
   "metadata": {
    "execution": {
     "iopub.execute_input": "2023-12-18T19:21:11.791623Z",
     "iopub.status.busy": "2023-12-18T19:21:11.791038Z",
     "iopub.status.idle": "2023-12-18T19:21:11.807357Z",
     "shell.execute_reply": "2023-12-18T19:21:11.806582Z",
     "shell.execute_reply.started": "2023-12-18T19:21:11.791592Z"
    },
    "tags": []
   },
   "outputs": [
    {
     "name": "stdout",
     "output_type": "stream",
     "text": [
      "p =  0.06061225150645831\n",
      "statistic =  29.0\n",
      "mean TCRVALID (alpha=0)  = 0.941\n",
      "mean TCRVALID (alpha=1)  = 0.946\n",
      "median TCRVALID (alpha=0)  = 0.940\n",
      "median TCRVALID (alpha=1)  = 0.945\n"
     ]
    }
   ],
   "source": [
    "# Mann-Whitney-U on ID classification task on 10 fold monte carlo -  TCRVALID, alpha=0, vs 1\n",
    "\n",
    "thetest = stats.mannwhitneyu(\n",
    "        df_roc[(df_roc['model']=='TCRVALID\\n alpha=0')].roc,\n",
    "        df_roc[(df_roc['model']=='TCRVALID\\n alpha=1')].roc\n",
    "    )\n",
    "\n",
    "print('p = ', thetest.pvalue)\n",
    "print('statistic = ', thetest.statistic)\n",
    "\n",
    "print('mean TCRVALID (alpha=0)  = {:.3f}'.format( df_roc[(df_roc['model']=='TCRVALID\\n alpha=0')].roc.mean() ))\n",
    "print('mean TCRVALID (alpha=1)  = {:.3f}'.format( df_roc[(df_roc['model']=='TCRVALID\\n alpha=1')].roc.mean() ))\n",
    "\n",
    "print('median TCRVALID (alpha=0)  = {:.3f}'.format( df_roc[(df_roc['model']=='TCRVALID\\n alpha=0')].roc.median() ))\n",
    "print('median TCRVALID (alpha=1)  = {:.3f}'.format( df_roc[(df_roc['model']=='TCRVALID\\n alpha=1')].roc.median() ))\n",
    "\n"
   ]
  },
  {
   "cell_type": "code",
   "execution_count": null,
   "id": "8fb757b0-b526-4dca-802f-bed68c691e6e",
   "metadata": {},
   "outputs": [],
   "source": []
  }
 ],
 "metadata": {
  "kernelspec": {
   "display_name": "tcrvalid_pip_e",
   "language": "python",
   "name": "tcrvalid_pip_e"
  },
  "language_info": {
   "codemirror_mode": {
    "name": "ipython",
    "version": 3
   },
   "file_extension": ".py",
   "mimetype": "text/x-python",
   "name": "python",
   "nbconvert_exporter": "python",
   "pygments_lexer": "ipython3",
   "version": "3.8.16"
  }
 },
 "nbformat": 4,
 "nbformat_minor": 5
}
