{
 "cells": [
  {
   "cell_type": "code",
   "execution_count": 1,
   "id": "5801acb0-cc2c-4493-a5e2-433fd4fcdcad",
   "metadata": {
    "execution": {
     "iopub.execute_input": "2023-05-12T18:39:07.436565Z",
     "iopub.status.busy": "2023-05-12T18:39:07.436170Z",
     "iopub.status.idle": "2023-05-12T18:39:07.440377Z",
     "shell.execute_reply": "2023-05-12T18:39:07.439524Z",
     "shell.execute_reply.started": "2023-05-12T18:39:07.436540Z"
    }
   },
   "outputs": [],
   "source": [
    "# Copyright 2023 Regeneron Pharmaceuticals Inc.\n",
    "#\n",
    "# Licensed under the Apache License, Version 2.0 (the \"License\");\n",
    "# you may not use this file except in compliance with the License.\n",
    "# You may obtain a copy of the License at\n",
    "#\n",
    "#     http://www.apache.org/licenses/LICENSE-2.0\n",
    "#\n",
    "# Unless required by applicable law or agreed to in writing, software\n",
    "# distributed under the License is distributed on an \"AS IS\" BASIS,\n",
    "# WITHOUT WARRANTIES OR CONDITIONS OF ANY KIND, either express or implied.\n",
    "# See the License for the specific language governing permissions and\n",
    "# limitations under the License."
   ]
  },
  {
   "cell_type": "code",
   "execution_count": 1,
   "id": "838023cd-7643-4bc0-933d-8b939bbc3d94",
   "metadata": {
    "execution": {
     "iopub.execute_input": "2023-11-26T22:06:09.295552Z",
     "iopub.status.busy": "2023-11-26T22:06:09.295162Z",
     "iopub.status.idle": "2023-11-26T22:06:14.852260Z",
     "shell.execute_reply": "2023-11-26T22:06:14.851639Z",
     "shell.execute_reply.started": "2023-11-26T22:06:09.295515Z"
    },
    "tags": []
   },
   "outputs": [],
   "source": [
    "import pandas as pd\n",
    "import numpy as np\n",
    "import os\n",
    "from scipy import stats\n",
    "from sklearn.metrics import roc_auc_score\n",
    "\n",
    "import matplotlib.pyplot as plt\n",
    "import seaborn as sns\n",
    "\n",
    "from tcrvalid.plot_utils import set_simple_rc_params\n",
    "set_simple_rc_params()\n",
    "\n",
    "import matplotlib as mpl"
   ]
  },
  {
   "cell_type": "code",
   "execution_count": 2,
   "id": "4c999f55-e930-4331-904c-6729b382f934",
   "metadata": {
    "execution": {
     "iopub.execute_input": "2023-11-26T22:06:14.855439Z",
     "iopub.status.busy": "2023-11-26T22:06:14.853396Z",
     "iopub.status.idle": "2023-11-26T22:06:14.899168Z",
     "shell.execute_reply": "2023-11-26T22:06:14.898605Z",
     "shell.execute_reply.started": "2023-11-26T22:06:14.855417Z"
    },
    "tags": []
   },
   "outputs": [],
   "source": [
    "base_dir = '/data/home/peter.hawkins/repos/mp_bb/tcrvalid/results_data/classification_data'\n",
    "\n",
    "df_deeptcr = pd.read_csv(os.path.join(base_dir,'ood_confidence_deeptcr_repeat_1.csv'))\n",
    "df_tcrvalid = pd.read_csv(os.path.join(base_dir,'ood_confidence_tcrvalid_repeat_1.csv'))\n",
    "df_deeptcr['method'] = 'deepTCR'\n",
    "df_tcrvalid['method'] = 'TCRVALID'\n",
    "\n",
    "df_roc_deeptcr = pd.read_csv(os.path.join(base_dir,'classroc_deeptcr_repeat_1.csv'))\n",
    "df_roc_tcrvalid = pd.read_csv(os.path.join(base_dir,'classroc_tcrvalid_repeat_1.csv'))\n",
    "df_roc_deeptcr['method'] = 'deepTCR'\n",
    "df_roc_tcrvalid['method'] = 'TCRVALID'\n",
    "\n",
    "df_tcrvalid_ul = pd.read_csv(os.path.join(base_dir,'unlabeled_ood_roc_tcrvalid_repeat_1.csv'))\n",
    "df_tcrvalid_ul['method'] = 'TCRVALID'"
   ]
  },
  {
   "cell_type": "code",
   "execution_count": 3,
   "id": "dee39740-7735-465f-9c98-d5c0d010ca7c",
   "metadata": {
    "execution": {
     "iopub.execute_input": "2023-11-26T22:06:14.900479Z",
     "iopub.status.busy": "2023-11-26T22:06:14.900110Z",
     "iopub.status.idle": "2023-11-26T22:06:14.904925Z",
     "shell.execute_reply": "2023-11-26T22:06:14.904250Z",
     "shell.execute_reply.started": "2023-11-26T22:06:14.900448Z"
    },
    "tags": []
   },
   "outputs": [],
   "source": [
    "def toname(row):\n",
    "    if row['balance']>-0.1:\n",
    "        return row['method']+'\\n alpha={:.0f}'.format(row['balance'])\n",
    "    else:\n",
    "        return row['method']"
   ]
  },
  {
   "cell_type": "code",
   "execution_count": 4,
   "id": "b3ee63ff-f91e-4b8a-8359-83b7388ce9c0",
   "metadata": {
    "execution": {
     "iopub.execute_input": "2023-11-26T22:06:14.907376Z",
     "iopub.status.busy": "2023-11-26T22:06:14.907025Z",
     "iopub.status.idle": "2023-11-26T22:06:15.748450Z",
     "shell.execute_reply": "2023-11-26T22:06:15.747755Z",
     "shell.execute_reply.started": "2023-11-26T22:06:14.907345Z"
    },
    "tags": []
   },
   "outputs": [],
   "source": [
    "df = pd.concat([df_deeptcr,df_tcrvalid])\n",
    "df['model'] = df.apply(\n",
    "    lambda row: toname(row),\n",
    "    axis=1\n",
    ")\n",
    "\n",
    "df_roc = pd.concat([df_roc_deeptcr,df_roc_tcrvalid])\n",
    "df_roc['model'] = df_roc.apply(\n",
    "    lambda row: toname(row),\n",
    "    axis=1\n",
    ")\n",
    "\n",
    "df_tcrvalid_ul['model'] = df_tcrvalid_ul.apply(\n",
    "    lambda row: toname(row),\n",
    "    axis=1\n",
    ")"
   ]
  },
  {
   "cell_type": "code",
   "execution_count": 5,
   "id": "c2c28b8b-5847-465a-b352-37039137a34d",
   "metadata": {
    "execution": {
     "iopub.execute_input": "2023-11-26T22:06:15.749879Z",
     "iopub.status.busy": "2023-11-26T22:06:15.749464Z",
     "iopub.status.idle": "2023-11-26T22:06:17.022093Z",
     "shell.execute_reply": "2023-11-26T22:06:17.021488Z",
     "shell.execute_reply.started": "2023-11-26T22:06:15.749847Z"
    },
    "tags": []
   },
   "outputs": [],
   "source": [
    "pep_ood_rocs = []\n",
    "for model in df.model.unique():\n",
    "    for fold in df['fold'].unique():\n",
    "        x1=df[(df['model']==model)&(df['data']=='test-ID')&(df['fold']==fold)].confidence\n",
    "        x2=df[(df['model']==model)&(df['data']=='test-OOD')&(df['fold']==fold)].confidence\n",
    "\n",
    "        x = np.hstack((x1,x2))\n",
    "        y = np.concatenate((np.ones((len(x1),)),np.zeros((len(x2),))))\n",
    "        pep_ood_rocs.append({\n",
    "            'model':model,\n",
    "            'fold':fold,\n",
    "            'roc':roc_auc_score(y,x) \n",
    "        })\n",
    "        \n",
    "df_ood_roc = pd.DataFrame(pep_ood_rocs)"
   ]
  },
  {
   "cell_type": "code",
   "execution_count": 6,
   "id": "5a5cb6e2-9a5c-4cc9-8bee-8debb7b7de6a",
   "metadata": {
    "execution": {
     "iopub.execute_input": "2023-11-26T22:06:17.023280Z",
     "iopub.status.busy": "2023-11-26T22:06:17.022983Z",
     "iopub.status.idle": "2023-11-26T22:06:17.033239Z",
     "shell.execute_reply": "2023-11-26T22:06:17.032500Z",
     "shell.execute_reply.started": "2023-11-26T22:06:17.023259Z"
    },
    "tags": []
   },
   "outputs": [],
   "source": [
    "df_rocs = pd.concat([\n",
    "    df_ood_roc.assign(roc_type='test-ID vs. OOD'),\n",
    "    df_tcrvalid_ul.assign(roc_type='test-ID v. test-bkgOOD'),\n",
    "    df_roc.assign(roc_type='test-ID')\n",
    "    \n",
    "])"
   ]
  },
  {
   "cell_type": "code",
   "execution_count": 7,
   "id": "1e8dd09f-8880-429c-8076-90225bb7f83c",
   "metadata": {
    "execution": {
     "iopub.execute_input": "2023-11-26T22:06:17.034356Z",
     "iopub.status.busy": "2023-11-26T22:06:17.034096Z",
     "iopub.status.idle": "2023-11-26T22:06:18.179702Z",
     "shell.execute_reply": "2023-11-26T22:06:18.179018Z",
     "shell.execute_reply.started": "2023-11-26T22:06:17.034335Z"
    },
    "tags": []
   },
   "outputs": [
    {
     "data": {
      "image/png": "[encoded data removed]",
      "text/plain": [
       "<Figure size 450x600 with 2 Axes>"
      ]
     },
     "metadata": {},
     "output_type": "display_data"
    }
   ],
   "source": [
    "f,(ax1,ax2) = plt.subplots(2,1,figsize=(4.5,6))\n",
    "\n",
    "# --------------------------------------\n",
    "# OOD data was not used in model - remove test from naming convention\n",
    "df_renamed = df.copy()\n",
    "df_renamed['data'].replace('test-OOD','OOD', inplace=True)\n",
    "\n",
    "g = sns.boxplot(\n",
    "    data = df_renamed,\n",
    "    x = 'model',\n",
    "    hue= 'data',\n",
    "    y = 'confidence',\n",
    "    palette={'test-ID':'w','OOD':'r'},\n",
    "    ax=ax1\n",
    ")\n",
    "ax1.plot([0.5,0.5],[0,1],'k--')\n",
    "\n",
    "g.legend(loc='upper right', fontsize=7)\n",
    "\n",
    "# --------------------------------------\n",
    "\n",
    "hue_order = [\n",
    "    'test-ID',\n",
    "    'test-ID vs. OOD',\n",
    "    'test-ID v. test-bkgOOD',\n",
    "]\n",
    "\n",
    "palette = {\n",
    "    'test-ID':'w',\n",
    "    'test-ID vs. OOD':'orange',\n",
    "    'test-ID v. test-bkgOOD':'b'\n",
    "}\n",
    "g2 = sns.boxplot(\n",
    "    data = df_rocs,\n",
    "    x = 'model',\n",
    "    hue = 'roc_type',\n",
    "    hue_order = hue_order,\n",
    "    palette=palette,\n",
    "    y = 'roc',\n",
    "    color='r',\n",
    "    ax=ax2\n",
    ")\n",
    "g2.legend(loc='upper right', fontsize=7)\n",
    "ax2.plot([0.5,0.5],[0,1],'k--')\n",
    "ax2.set_ylim([0.7,1.0])\n",
    "ax2.set_ylabel('AUROC')\n",
    "\n",
    "for ax in [ax1,ax2]:\n",
    "    ax.set_xlim([-0.5,4.5])\n",
    "    \n",
    "ax1.set_xticklabels([])\n",
    "ax1.set_xlabel('')\n",
    "\n",
    "plt.tight_layout()\n",
    "\n",
    "plt.savefig('../results_data/classification_data/conf_AUROC_plot.pdf')\n",
    "plt.savefig('../results_data/classification_data/conf_AUROC_plot.png')"
   ]
  },
  {
   "cell_type": "code",
   "execution_count": 8,
   "id": "2bc4a4a0-29d3-4b28-96d2-81be88b48e81",
   "metadata": {
    "execution": {
     "iopub.execute_input": "2023-11-26T22:06:18.181126Z",
     "iopub.status.busy": "2023-11-26T22:06:18.180579Z",
     "iopub.status.idle": "2023-11-26T22:06:18.189335Z",
     "shell.execute_reply": "2023-11-26T22:06:18.188698Z",
     "shell.execute_reply.started": "2023-11-26T22:06:18.181100Z"
    },
    "tags": []
   },
   "outputs": [
    {
     "name": "stdout",
     "output_type": "stream",
     "text": [
      "p =  0.002293196040126747\n",
      "mean TCRVALID (alpha=1)  = 0.810\n",
      "mean DeepTCR             = 0.792\n"
     ]
    }
   ],
   "source": [
    "# Mann-Whitney-U on ID v OOD classification task on 10 fold monte carlo - TCRVALID v DeepTCR\n",
    "print('p = ', \n",
    "    stats.mannwhitneyu(\n",
    "        df_ood_roc[(df_ood_roc['model']=='deepTCR')].roc,\n",
    "        df_ood_roc[(df_ood_roc['model']=='TCRVALID\\n alpha=1')].roc\n",
    "    ).pvalue\n",
    ")\n",
    "\n",
    "# AUROC means for TCRVALID, DEEPTCR over 10 fold monte carlo for ID v OOD\n",
    "print('mean TCRVALID (alpha=1)  = {:.3f}'.format(df_ood_roc[(df_ood_roc['model']=='TCRVALID\\n alpha=1')].roc.mean() ))\n",
    "print('mean DeepTCR             = {:.3f}'.format(df_ood_roc[(df_ood_roc['model']=='deepTCR')].roc.mean() ))\n"
   ]
  },
  {
   "cell_type": "code",
   "execution_count": 9,
   "id": "b054eb00-7c2d-4544-96c0-22cacf606320",
   "metadata": {
    "execution": {
     "iopub.execute_input": "2023-11-26T22:06:18.191139Z",
     "iopub.status.busy": "2023-11-26T22:06:18.190880Z",
     "iopub.status.idle": "2023-11-26T22:06:18.209823Z",
     "shell.execute_reply": "2023-11-26T22:06:18.209234Z",
     "shell.execute_reply.started": "2023-11-26T22:06:18.191118Z"
    },
    "tags": []
   },
   "outputs": [
    {
     "name": "stdout",
     "output_type": "stream",
     "text": [
      "p =  0.0006574723348566069\n",
      "mean TCRVALID (alpha=0)  = 0.765\n",
      "mean TCRVALID (alpha=1)  = 0.810\n"
     ]
    }
   ],
   "source": [
    "# Mann-Whitney-U on ID v OOD classification task on 10 fold monte carlo - TCRVALID alpha 0 vs 1\n",
    "print('p = ', \n",
    "    stats.mannwhitneyu(\n",
    "        df_ood_roc[(df_ood_roc['model']=='TCRVALID\\n alpha=0')].roc,\n",
    "        df_ood_roc[(df_ood_roc['model']=='TCRVALID\\n alpha=1')].roc\n",
    "    ).pvalue\n",
    ")\n",
    "\n",
    "print('mean TCRVALID (alpha=0)  = {:.3f}'.format( df_ood_roc[(df_ood_roc['model']=='TCRVALID\\n alpha=0')].roc.mean() ))\n",
    "print('mean TCRVALID (alpha=1)  = {:.3f}'.format( df_ood_roc[(df_ood_roc['model']=='TCRVALID\\n alpha=1')].roc.mean() ))\n"
   ]
  },
  {
   "cell_type": "code",
   "execution_count": 10,
   "id": "41689f3c-18cc-464a-b2bf-b7a9d7aa7592",
   "metadata": {
    "execution": {
     "iopub.execute_input": "2023-11-26T22:06:18.210898Z",
     "iopub.status.busy": "2023-11-26T22:06:18.210590Z",
     "iopub.status.idle": "2023-11-26T22:06:18.228650Z",
     "shell.execute_reply": "2023-11-26T22:06:18.228074Z",
     "shell.execute_reply.started": "2023-11-26T22:06:18.210879Z"
    },
    "tags": []
   },
   "outputs": [
    {
     "name": "stdout",
     "output_type": "stream",
     "text": [
      "p =  0.004554248199015482\n",
      "mean TCRVALID (alpha=1)  = 0.946\n",
      "mean DeepTCR             = 0.954\n"
     ]
    }
   ],
   "source": [
    "# Mann-Whitney-U on ID classification task on 10 fold monte carlo - DeepTCR vs TCRVALID\n",
    "print('p = ', \n",
    "    stats.mannwhitneyu(\n",
    "        df_roc[(df_roc['model']=='deepTCR')].roc,\n",
    "        df_roc[(df_roc['model']=='TCRVALID\\n alpha=1')].roc\n",
    "    ).pvalue\n",
    ")\n",
    "\n",
    "print('mean TCRVALID (alpha=1)  = {:.3f}'.format( df_roc[(df_roc['model']=='TCRVALID\\n alpha=1')].roc.mean() ))\n",
    "print('mean DeepTCR             = {:.3f}'.format( df_roc[(df_roc['model']=='deepTCR')].roc.mean() ) )\n"
   ]
  },
  {
   "cell_type": "code",
   "execution_count": 11,
   "id": "256b787e-7fc2-4f4f-be90-3ee37d751a9b",
   "metadata": {
    "execution": {
     "iopub.execute_input": "2023-11-26T22:06:18.229681Z",
     "iopub.status.busy": "2023-11-26T22:06:18.229422Z",
     "iopub.status.idle": "2023-11-26T22:06:18.248064Z",
     "shell.execute_reply": "2023-11-26T22:06:18.247468Z",
     "shell.execute_reply.started": "2023-11-26T22:06:18.229662Z"
    }
   },
   "outputs": [
    {
     "name": "stdout",
     "output_type": "stream",
     "text": [
      "p =  0.06061225150645831\n",
      "mean TCRVALID (alpha=0)  = 0.941\n",
      "mean TCRVALID (alpha=1)  = 0.946\n"
     ]
    }
   ],
   "source": [
    "# Mann-Whitney-U on ID classification task on 10 fold monte carlo -  TCRVALID, alpha=0, vs 1\n",
    "print('p = ', \n",
    "    stats.mannwhitneyu(\n",
    "        df_roc[(df_roc['model']=='TCRVALID\\n alpha=0')].roc,\n",
    "        df_roc[(df_roc['model']=='TCRVALID\\n alpha=1')].roc\n",
    "    ).pvalue\n",
    ")\n",
    "\n",
    "print('mean TCRVALID (alpha=0)  = {:.3f}'.format( df_roc[(df_roc['model']=='TCRVALID\\n alpha=0')].roc.mean() ))\n",
    "print('mean TCRVALID (alpha=1)  = {:.3f}'.format( df_roc[(df_roc['model']=='TCRVALID\\n alpha=1')].roc.mean() ))\n"
   ]
  },
  {
   "cell_type": "code",
   "execution_count": null,
   "id": "8fb757b0-b526-4dca-802f-bed68c691e6e",
   "metadata": {},
   "outputs": [],
   "source": []
  }
 ],
 "metadata": {
  "kernelspec": {
   "display_name": "tcrvalid_pip_e",
   "language": "python",
   "name": "tcrvalid_pip_e"
  },
  "language_info": {
   "codemirror_mode": {
    "name": "ipython",
    "version": 3
   },
   "file_extension": ".py",
   "mimetype": "text/x-python",
   "name": "python",
   "nbconvert_exporter": "python",
   "pygments_lexer": "ipython3",
   "version": "3.8.16"
  }
 },
 "nbformat": 4,
 "nbformat_minor": 5
}
