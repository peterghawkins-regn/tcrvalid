{
 "cells": [
  {
   "cell_type": "code",
   "execution_count": null,
   "id": "a13de928-48e3-4c27-bcce-24aedc6b971e",
   "metadata": {},
   "outputs": [],
   "source": [
    "# Copyright 2023 Regeneron Pharmaceuticals Inc.\n",
    "#\n",
    "# Licensed under the Apache License, Version 2.0 (the \"License\");\n",
    "# you may not use this file except in compliance with the License.\n",
    "# You may obtain a copy of the License at\n",
    "#\n",
    "#     http://www.apache.org/licenses/LICENSE-2.0\n",
    "#\n",
    "# Unless required by applicable law or agreed to in writing, software\n",
    "# distributed under the License is distributed on an \"AS IS\" BASIS,\n",
    "# WITHOUT WARRANTIES OR CONDITIONS OF ANY KIND, either express or implied.\n",
    "# See the License for the specific language governing permissions and\n",
    "# limitations under the License."
   ]
  },
  {
   "cell_type": "markdown",
   "id": "bfb50b72-3cc8-4442-ae25-5ea310c993ee",
   "metadata": {},
   "source": [
    "## Example of calculating and plotting feature importances\n",
    "\n",
    "Here we show a small example of the application of random forest (RF) models on the TCR-VALID latent representations to classify and regress against known generative factors: V usage, J usage, and non-germline CDR3 sequence mean physical features.\n",
    "\n",
    "Here, we use one set of hyperparameters for the random forests for the sake of speed, though in the manuscript we use a cross-validation scheme first to select the optimal hyperparameters for eahc model. "
   ]
  },
  {
   "cell_type": "code",
   "execution_count": 1,
   "id": "e5fa686d-97bb-4fa2-a324-809a1f1b8d99",
   "metadata": {
    "execution": {
     "iopub.execute_input": "2023-05-05T18:59:54.762586Z",
     "iopub.status.busy": "2023-05-05T18:59:54.762183Z",
     "iopub.status.idle": "2023-05-05T19:00:08.280391Z",
     "shell.execute_reply": "2023-05-05T19:00:08.279740Z",
     "shell.execute_reply.started": "2023-05-05T18:59:54.762558Z"
    },
    "tags": []
   },
   "outputs": [
    {
     "name": "stdout",
     "output_type": "stream",
     "text": [
      "(21, 7)\n",
      "(22, 8)\n"
     ]
    }
   ],
   "source": [
    "from sklearn.ensemble import RandomForestClassifier,RandomForestRegressor\n",
    "import pandas as pd\n",
    "import numpy as np\n",
    "import matplotlib.pyplot as plt\n",
    "from scipy.stats import entropy\n",
    "\n",
    "from tcrvalid.load_models import *\n",
    "from tcrvalid.plot_utils import set_simple_rc_params\n",
    "from tcrvalid.physio_embedding import SeqArrayDictConverter\n",
    "from tcrvalid.data_subsetting import *\n",
    "from tcrvalid.defaults import *\n",
    "\n",
    "from hinton import hinton"
   ]
  },
  {
   "cell_type": "markdown",
   "id": "be1668a1-3a76-456a-b430-abc00a6f20ce",
   "metadata": {},
   "source": [
    "#### Define functions\n",
    "\n",
    " - entanglement()\n",
    "     - calculate importance of each latent dimension for each of the three generative factors\n",
    "     \n",
    " - build_Physio_Features()\n",
    "     - Collect mean physical features in the 'insert' region (not coded by J or J)\n",
    "     \n",
    " - hinton()\n",
    "     - draw the hinton diagram\n",
    "     - taken from matplotlib - see function docstring for copyright and license information"
   ]
  },
  {
   "cell_type": "code",
   "execution_count": 2,
   "id": "b9ad0c6a-e34c-439d-a2af-ed575651c7f1",
   "metadata": {
    "execution": {
     "iopub.execute_input": "2023-05-05T19:00:08.281970Z",
     "iopub.status.busy": "2023-05-05T19:00:08.281527Z",
     "iopub.status.idle": "2023-05-05T19:00:08.288315Z",
     "shell.execute_reply": "2023-05-05T19:00:08.287794Z",
     "shell.execute_reply.started": "2023-05-05T19:00:08.281946Z"
    },
    "tags": []
   },
   "outputs": [],
   "source": [
    "def entanglement(reps_forRF,df_forRF,seed):  \n",
    "    rfC = RandomForestClassifier()\n",
    "    rfR = RandomForestRegressor()\n",
    "    imps=dict()\n",
    "    for feat in ['v_call','j_call']:\n",
    "        rfC = RandomForestClassifier(random_state=seed,n_estimators=200,class_weight='balanced', max_depth=None)\n",
    "        pepd = {p:i for i,p in enumerate(df_forRF[feat].unique())}\n",
    "        rfC.fit(reps_forRF,df_forRF[feat].map(pepd).values)\n",
    "        imps[feat] = rfC.feature_importances_\n",
    "\n",
    "    for feat in ['Mean_Physio']:\n",
    "        rfR = RandomForestRegressor(random_state=seed,n_estimators=200, max_depth=None)\n",
    "        rfR.fit(reps_forRF,df_forRF[feat])\n",
    "        imps[feat] = rfR.feature_importances_\n",
    "\n",
    "    return imps\n",
    "\n",
    "def build_Physio_Features(insert_codons_aa):\n",
    "    if len(insert_codons_aa)>0:\n",
    "        try:\n",
    "            prefeatures_forRF = mapping.seqs_to_array([insert_codons_aa],maxlen=None)\n",
    "            features_forRF = prefeatures_forRF[0,:,:].mean(axis=0)[:7]\n",
    "            return features_forRF\n",
    "        except:\n",
    "            return None\n",
    "    else:\n",
    "        return None"
   ]
  },
  {
   "cell_type": "code",
   "execution_count": 3,
   "id": "5f92637f-368c-4e87-be44-2445f2f51835",
   "metadata": {
    "execution": {
     "iopub.execute_input": "2023-05-05T19:00:27.761194Z",
     "iopub.status.busy": "2023-05-05T19:00:27.760804Z",
     "iopub.status.idle": "2023-05-05T19:00:27.764381Z",
     "shell.execute_reply": "2023-05-05T19:00:27.763829Z",
     "shell.execute_reply.started": "2023-05-05T19:00:27.761169Z"
    },
    "tags": []
   },
   "outputs": [],
   "source": [
    "np.random.seed(19680801)"
   ]
  },
  {
   "cell_type": "markdown",
   "id": "ae7e71d6-aa10-4962-8803-8afd9a025e27",
   "metadata": {},
   "source": [
    "#### Collect data and TCR-VALID model"
   ]
  },
  {
   "cell_type": "code",
   "execution_count": 4,
   "id": "b6e331a5-14dd-4518-a653-3cbfaa048cfe",
   "metadata": {
    "execution": {
     "iopub.execute_input": "2023-05-05T19:00:28.761655Z",
     "iopub.status.busy": "2023-05-05T19:00:28.761276Z",
     "iopub.status.idle": "2023-05-05T19:00:30.518659Z",
     "shell.execute_reply": "2023-05-05T19:00:30.517967Z",
     "shell.execute_reply.started": "2023-05-05T19:00:28.761631Z"
    },
    "tags": []
   },
   "outputs": [
    {
     "name": "stderr",
     "output_type": "stream",
     "text": [
      "2023-05-05 15:00:29.017203: E tensorflow/stream_executor/cuda/cuda_driver.cc:271] failed call to cuInit: CUDA_ERROR_NO_DEVICE: no CUDA-capable device is detected\n",
      "2023-05-05 15:00:29.017257: I tensorflow/stream_executor/cuda/cuda_diagnostics.cc:156] kernel driver does not appear to be running on this host (gen-queue-dy-m516xlarge-17): /proc/driver/nvidia/version does not exist\n",
      "2023-05-05 15:00:29.018353: I tensorflow/core/platform/cpu_feature_guard.cc:151] This TensorFlow binary is optimized with oneAPI Deep Neural Network Library (oneDNN) to use the following CPU instructions in performance-critical operations:  AVX2 AVX512F FMA\n",
      "To enable them in other operations, rebuild TensorFlow with the appropriate compiler flags.\n"
     ]
    },
    {
     "name": "stdout",
     "output_type": "stream",
     "text": [
      "WARNING:tensorflow:No training configuration found in save file, so the model was *not* compiled. Compile it manually.\n"
     ]
    }
   ],
   "source": [
    "mapping = SeqArrayDictConverter()\n",
    "loaded_models_TRB = load_named_models('1_2',chain='TRB', encoders=True)\n",
    "trb_test_pq = data_path_small_trb['te']\n",
    "te_seq_trb_df = pd.read_parquet(trb_test_pq, columns=['cdr2_cdr3','new_meta_vcall','j_call','insert_codons_aa']).head(100000)"
   ]
  },
  {
   "cell_type": "markdown",
   "id": "dab383dc-1a7e-4e25-9b32-7f47cefbc7f8",
   "metadata": {},
   "source": [
    "#### Collect mean physiochemical properties of non-germline region"
   ]
  },
  {
   "cell_type": "code",
   "execution_count": 5,
   "id": "7a206ced-a82f-4042-9229-7319196f6367",
   "metadata": {
    "execution": {
     "iopub.execute_input": "2023-05-05T19:00:30.520338Z",
     "iopub.status.busy": "2023-05-05T19:00:30.519855Z",
     "iopub.status.idle": "2023-05-05T19:00:32.832565Z",
     "shell.execute_reply": "2023-05-05T19:00:32.831909Z",
     "shell.execute_reply.started": "2023-05-05T19:00:30.520314Z"
    },
    "tags": []
   },
   "outputs": [],
   "source": [
    "te_seq_trb_df['Physio_Feats'] = te_seq_trb_df.insert_codons_aa.map(lambda x: build_Physio_Features(x))\n",
    "te_seq_trb_df['Mean_Physio'] = te_seq_trb_df['Physio_Feats'].map(lambda x: np.mean(x),na_action='ignore')\n",
    "te_seq_trb_df = te_seq_trb_df.rename(columns={\"new_meta_vcall\": \"v_call\"})\n",
    "te_seq_trb_df = te_seq_trb_df[~te_seq_trb_df['Mean_Physio'].isna()]"
   ]
  },
  {
   "cell_type": "markdown",
   "id": "a615d761-a96b-4bc0-a686-2467c165fae5",
   "metadata": {},
   "source": [
    "#### Project TCR sequences to physicochemical properties and then TCR-VALID representations"
   ]
  },
  {
   "cell_type": "code",
   "execution_count": 6,
   "id": "1009374a-49d8-4d1e-b654-8ee16f9c319f",
   "metadata": {
    "execution": {
     "iopub.execute_input": "2023-05-05T19:00:32.833996Z",
     "iopub.status.busy": "2023-05-05T19:00:32.833698Z",
     "iopub.status.idle": "2023-05-05T19:00:40.293921Z",
     "shell.execute_reply": "2023-05-05T19:00:40.293264Z",
     "shell.execute_reply.started": "2023-05-05T19:00:32.833975Z"
    },
    "tags": []
   },
   "outputs": [],
   "source": [
    "x_tr = mapping.seqs_to_array(list(te_seq_trb_df.cdr2_cdr3.values),maxlen=28)\n",
    "z_mean_dfs, z_log, z_samp_dfs = loaded_models_TRB['1_2'].predict(x_tr)"
   ]
  },
  {
   "cell_type": "markdown",
   "id": "3a7f43ac-2316-4df3-b9e2-fc077f0984d9",
   "metadata": {},
   "source": [
    "#### Get the feature importances of each dimension for each generative factor"
   ]
  },
  {
   "cell_type": "code",
   "execution_count": 7,
   "id": "106d05f6-4b3f-4299-8506-82050383eb3a",
   "metadata": {
    "execution": {
     "iopub.execute_input": "2023-05-05T19:00:40.295428Z",
     "iopub.status.busy": "2023-05-05T19:00:40.295139Z",
     "iopub.status.idle": "2023-05-05T19:10:47.735373Z",
     "shell.execute_reply": "2023-05-05T19:10:47.734711Z",
     "shell.execute_reply.started": "2023-05-05T19:00:40.295405Z"
    },
    "tags": []
   },
   "outputs": [],
   "source": [
    "imps = entanglement(z_samp_dfs,te_seq_trb_df,42)"
   ]
  },
  {
   "cell_type": "markdown",
   "id": "d37ada2e-a23e-4df3-a103-64c8992650a7",
   "metadata": {},
   "source": [
    "#### Create and plot the Hinton diagram for this particular model"
   ]
  },
  {
   "cell_type": "code",
   "execution_count": 8,
   "id": "b3dfec50-61fb-4f5f-9973-0ac8108cff4e",
   "metadata": {
    "execution": {
     "iopub.execute_input": "2023-05-05T19:10:47.736589Z",
     "iopub.status.busy": "2023-05-05T19:10:47.736225Z",
     "iopub.status.idle": "2023-05-05T19:10:47.739775Z",
     "shell.execute_reply": "2023-05-05T19:10:47.739227Z",
     "shell.execute_reply.started": "2023-05-05T19:10:47.736567Z"
    },
    "tags": []
   },
   "outputs": [],
   "source": [
    "Hinton_arr = np.array([imps['Mean_Physio'],imps['v_call'],imps['j_call']])"
   ]
  },
  {
   "cell_type": "code",
   "execution_count": 9,
   "id": "a0256066-ba96-48ff-a8af-efe8437c64a7",
   "metadata": {
    "execution": {
     "iopub.execute_input": "2023-05-05T19:10:47.741138Z",
     "iopub.status.busy": "2023-05-05T19:10:47.740883Z",
     "iopub.status.idle": "2023-05-05T19:10:47.864810Z",
     "shell.execute_reply": "2023-05-05T19:10:47.864221Z",
     "shell.execute_reply.started": "2023-05-05T19:10:47.741119Z"
    },
    "tags": []
   },
   "outputs": [
    {
     "data": {
      "image/png": "[encoded data removed]",
      "text/plain": [
       "<Figure size 640x480 with 1 Axes>"
      ]
     },
     "metadata": {},
     "output_type": "display_data"
    }
   ],
   "source": [
    "hinton(Hinton_arr)\n",
    "plt.show()"
   ]
  },
  {
   "cell_type": "code",
   "execution_count": null,
   "id": "cc612b15-92cb-46b9-b4a1-b05c4458c96a",
   "metadata": {},
   "outputs": [],
   "source": []
  }
 ],
 "metadata": {
  "kernelspec": {
   "display_name": "tcrvalid_pip_e",
   "language": "python",
   "name": "tcrvalid_pip_e"
  },
  "language_info": {
   "codemirror_mode": {
    "name": "ipython",
    "version": 3
   },
   "file_extension": ".py",
   "mimetype": "text/x-python",
   "name": "python",
   "nbconvert_exporter": "python",
   "pygments_lexer": "ipython3",
   "version": "3.8.16"
  }
 },
 "nbformat": 4,
 "nbformat_minor": 5
}
