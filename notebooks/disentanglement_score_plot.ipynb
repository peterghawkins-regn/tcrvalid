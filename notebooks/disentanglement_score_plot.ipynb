{
 "cells": [
  {
   "cell_type": "code",
   "execution_count": null,
   "id": "2d3eac8c-40a5-457f-b478-b95a1c12e879",
   "metadata": {},
   "outputs": [],
   "source": [
    "# Copyright 2023 Regeneron Pharmaceuticals Inc.\n",
    "#\n",
    "# Licensed under the Apache License, Version 2.0 (the \"License\");\n",
    "# you may not use this file except in compliance with the License.\n",
    "# You may obtain a copy of the License at\n",
    "#\n",
    "#     http://www.apache.org/licenses/LICENSE-2.0\n",
    "#\n",
    "# Unless required by applicable law or agreed to in writing, software\n",
    "# distributed under the License is distributed on an \"AS IS\" BASIS,\n",
    "# WITHOUT WARRANTIES OR CONDITIONS OF ANY KIND, either express or implied.\n",
    "# See the License for the specific language governing permissions and\n",
    "# limitations under the License."
   ]
  },
  {
   "cell_type": "code",
   "execution_count": 50,
   "id": "353c2806-2577-4a29-91bb-edd5ce1f4c74",
   "metadata": {
    "execution": {
     "iopub.execute_input": "2023-05-12T18:09:31.789372Z",
     "iopub.status.busy": "2023-05-12T18:09:31.788801Z",
     "iopub.status.idle": "2023-05-12T18:09:31.794504Z",
     "shell.execute_reply": "2023-05-12T18:09:31.793757Z",
     "shell.execute_reply.started": "2023-05-12T18:09:31.789342Z"
    },
    "tags": []
   },
   "outputs": [],
   "source": [
    "import pandas as pd\n",
    "import numpy as np\n",
    "from scipy import stats\n",
    "from scipy.stats import entropy\n",
    "import pickle\n",
    "import os\n",
    "import json\n",
    "\n",
    "from tcrvalid.load_models import *\n",
    "from tcrvalid.plot_utils import set_simple_rc_params\n",
    "from tcrvalid.physio_embedding import SeqArrayDictConverter\n",
    "from tcrvalid.defaults import *\n",
    "\n",
    "from hinton import hinton\n",
    "\n",
    "import matplotlib.pyplot as plt\n",
    "import seaborn as sns\n",
    "import matplotlib as mpl\n",
    "sns.set(context='talk',palette='bright')\n",
    "set_simple_rc_params()"
   ]
  },
  {
   "cell_type": "markdown",
   "id": "5138ff87-a7f0-48d8-8673-49bb6b6093d9",
   "metadata": {},
   "source": [
    "### Load pre-calculated feature importance scores for all models\n",
    "\n",
    " - We applied random forest (RF) to classify/regress v,J and insert-region phycisochemcial properties from the model latent space representations\n",
    "   - an example of how this is done is shown in \"hinton_feature_importance_example.ipynb\" \n",
    " - Due to the time to fit these RF models we here use a pre-saved dataset of the feature importances for each model\n",
    " - these features are not co-packed with the main tcrvalid package, and so the path below to save features must be relative or absolute path to where the 'results_data' directory is on your machine.\n",
    " \n",
    "### Use feature importances to make Hinton diagrams of the importances"
   ]
  },
  {
   "cell_type": "code",
   "execution_count": 2,
   "id": "07a18f5f-5342-496d-85cf-7167c9da627a",
   "metadata": {
    "execution": {
     "iopub.execute_input": "2023-05-12T17:39:21.465180Z",
     "iopub.status.busy": "2023-05-12T17:39:21.464737Z",
     "iopub.status.idle": "2023-05-12T17:39:21.470516Z",
     "shell.execute_reply": "2023-05-12T17:39:21.469967Z",
     "shell.execute_reply.started": "2023-05-12T17:39:21.465157Z"
    },
    "tags": []
   },
   "outputs": [],
   "source": [
    "# data pre-computed feature importances for each generative factor for each model : dataframe\n",
    "imps_df = pd.read_pickle('../results_data/importances.pkl') "
   ]
  },
  {
   "cell_type": "code",
   "execution_count": 3,
   "id": "33a475d5-aeae-49bd-8b8e-636179405913",
   "metadata": {
    "execution": {
     "iopub.execute_input": "2023-05-12T17:39:21.471388Z",
     "iopub.status.busy": "2023-05-12T17:39:21.471196Z",
     "iopub.status.idle": "2023-05-12T17:39:22.036690Z",
     "shell.execute_reply": "2023-05-12T17:39:22.036150Z",
     "shell.execute_reply.started": "2023-05-12T17:39:21.471370Z"
    },
    "tags": []
   },
   "outputs": [
    {
     "data": {
      "image/png": "[encoded data removed]",
      "text/plain": [
       "<Figure size 500x500 with 6 Axes>"
      ]
     },
     "metadata": {},
     "output_type": "display_data"
    }
   ],
   "source": [
    "plt.figure(figsize=(5, 5))\n",
    "plt.subplots_adjust(hspace=0.5)\n",
    "plt.suptitle(\"R Values\", fontsize=10, y=0.95)\n",
    "model=['PCA','10_1','1_2','1_5','1_10','0_0']\n",
    "\n",
    "# loop through the length of tickers and keep track of index\n",
    "\n",
    "for n,ticker in enumerate(model):\n",
    "    # importance distionary to numpy array\n",
    "    temp=np.array([imps_df[ticker]['Mean_Physio'],imps_df[ticker]['new_meta_vcall'],imps_df[ticker]['j_call']])\n",
    "\n",
    "    # add a new subplot iteratively\n",
    "    ax = plt.subplot(1, 6, n + 1)\n",
    "    hinton(temp,max_weight=1)\n",
    "    ax.set_title(ticker.upper())"
   ]
  },
  {
   "cell_type": "markdown",
   "id": "a4dc0b85-47bc-4736-89f8-6b2bf331fff7",
   "metadata": {},
   "source": [
    "### Calculate the disentanglment score for each model's feature importances\n",
    "\n",
    " - each of the Hinton diagrams above show the model feature importances:\n",
    "     - columns are for each of the threee generative factors\n",
    "     - rows are the 16 latent dimensions\n",
    "     \n",
    " - The method of Eastwood and Williams can be used to score the level of disentanglement of each model\n",
    " - We can further compare this with the reconstruction ability of the model\n",
    " - Higher model capacities lead to more accurate model reconstructions, but at the cost of a less smooth latent space, and reduced feature disentanglement"
   ]
  },
  {
   "cell_type": "code",
   "execution_count": 4,
   "id": "5376b1ec-0a76-4fee-94f2-22e94dadde40",
   "metadata": {
    "execution": {
     "iopub.execute_input": "2023-05-12T17:39:22.038384Z",
     "iopub.status.busy": "2023-05-12T17:39:22.038111Z",
     "iopub.status.idle": "2023-05-12T17:39:22.041440Z",
     "shell.execute_reply": "2023-05-12T17:39:22.040902Z",
     "shell.execute_reply.started": "2023-05-12T17:39:22.038364Z"
    },
    "tags": []
   },
   "outputs": [],
   "source": [
    "def entropy_hm(x):\n",
    "    base = len(x)\n",
    "    return -np.sum( x*(np.log(x)/np.log(base)) )"
   ]
  },
  {
   "cell_type": "code",
   "execution_count": 5,
   "id": "973cde57-57a2-49b3-9112-7c3e8744a744",
   "metadata": {
    "execution": {
     "iopub.execute_input": "2023-05-12T17:39:22.042307Z",
     "iopub.status.busy": "2023-05-12T17:39:22.042097Z",
     "iopub.status.idle": "2023-05-12T17:39:22.063802Z",
     "shell.execute_reply": "2023-05-12T17:39:22.063298Z",
     "shell.execute_reply.started": "2023-05-12T17:39:22.042283Z"
    },
    "tags": []
   },
   "outputs": [],
   "source": [
    "def disentanglement_score(importances):\n",
    "    \"\"\" scores disentanglement via Eastwood and Williams method\n",
    "    \n",
    "    parameters\n",
    "    ----------\n",
    "    importances: np.array\n",
    "        array of feature importances (n_dimensions, n_generative_features)\n",
    "    \n",
    "    returns\n",
    "    --------\n",
    "    score: float\n",
    "        The score\n",
    "    \"\"\"\n",
    "    probs_by_feature = (np.array(importances/[np.sum(importances,axis=1)[:,None]]))[0]\n",
    "    rho = np.sum(importances,axis=1)/np.sum(importances)\n",
    "    n_dims = importances.shape[0]\n",
    "    D=np.empty([n_dims])\n",
    "    for i in range(n_dims):\n",
    "        D[i]=np.array((1-entropy_hm(probs_by_feature[i])))\n",
    "    score = np.sum(rho*D)\n",
    "    return score"
   ]
  },
  {
   "cell_type": "code",
   "execution_count": 6,
   "id": "e4ae9add-375f-4f72-a962-fb0f861e150a",
   "metadata": {
    "execution": {
     "iopub.execute_input": "2023-05-12T17:39:22.064599Z",
     "iopub.status.busy": "2023-05-12T17:39:22.064413Z",
     "iopub.status.idle": "2023-05-12T17:39:22.080754Z",
     "shell.execute_reply": "2023-05-12T17:39:22.080222Z",
     "shell.execute_reply.started": "2023-05-12T17:39:22.064582Z"
    },
    "tags": []
   },
   "outputs": [],
   "source": [
    "model=['PCA','10_1','1_2','1_5','1_10','0_0']\n",
    "scores = dict()\n",
    "for k in model:\n",
    "    importances = np.array([imps_df[k]['Mean_Physio'],imps_df[k]['new_meta_vcall'],imps_df[k]['j_call']]).T\n",
    "    scores[k] = disentanglement_score(importances)"
   ]
  },
  {
   "cell_type": "code",
   "execution_count": 7,
   "id": "7f47c901-43b2-4baf-8ad2-f31807308781",
   "metadata": {
    "execution": {
     "iopub.execute_input": "2023-05-12T17:39:22.081577Z",
     "iopub.status.busy": "2023-05-12T17:39:22.081390Z",
     "iopub.status.idle": "2023-05-12T17:39:22.095711Z",
     "shell.execute_reply": "2023-05-12T17:39:22.095229Z",
     "shell.execute_reply.started": "2023-05-12T17:39:22.081560Z"
    },
    "tags": []
   },
   "outputs": [
    {
     "data": {
      "text/plain": [
       "{'PCA': 0.21644560409823677,\n",
       " '10_1': 0.3351680566061882,\n",
       " '1_2': 0.4663063029824277,\n",
       " '1_5': 0.1657190994171867,\n",
       " '1_10': 0.29107467150734967,\n",
       " '0_0': 0.09465808340563846}"
      ]
     },
     "execution_count": 7,
     "metadata": {},
     "output_type": "execute_result"
    }
   ],
   "source": [
    "scores"
   ]
  },
  {
   "cell_type": "code",
   "execution_count": 8,
   "id": "a4875f79-21a9-475e-be8c-ebddbf119b23",
   "metadata": {
    "execution": {
     "iopub.execute_input": "2023-05-12T17:39:22.096528Z",
     "iopub.status.busy": "2023-05-12T17:39:22.096335Z",
     "iopub.status.idle": "2023-05-12T17:39:22.116114Z",
     "shell.execute_reply": "2023-05-12T17:39:22.115591Z",
     "shell.execute_reply.started": "2023-05-12T17:39:22.096511Z"
    },
    "tags": []
   },
   "outputs": [
    {
     "name": "stdout",
     "output_type": "stream",
     "text": [
      "{'10_1': 14.2749605178833, '1_2': 1.376659631729126, '1_5': 0.37203919887542725, '1_10': 0.37576740980148315, '0_0': 0.3878520727157593}\n"
     ]
    }
   ],
   "source": [
    "# collect reconstruction loss for models from the model metadata\n",
    "recon_losses = dict()\n",
    "for m in ['10_1','1_2','1_5','1_10','0_0']:\n",
    "    metrics_path = os.path.join(\n",
    "        keras_model_base_path,\n",
    "        'TRB',\n",
    "        m,\n",
    "        'metrics.json'\n",
    "    )\n",
    "    with open(metrics_path, 'r') as f:\n",
    "        l = json.load(f)['val_reconstruction_loss']\n",
    "    recon_losses[m] = l\n",
    "print(recon_losses)"
   ]
  },
  {
   "cell_type": "markdown",
   "id": "0fb7f541-9456-4fae-bdb7-28ee456e77d4",
   "metadata": {},
   "source": [
    "Note: Reconstruction loss for PCA currently hardcoded as computed on larger train and validation dataset used for training the TCR-VALID models. Example of how PCA reconstruction loss is computed in included in PCA reconstruction loss notebook."
   ]
  },
  {
   "cell_type": "code",
   "execution_count": 9,
   "id": "0f03c05c-93d6-4226-9a70-85767f9656fe",
   "metadata": {
    "execution": {
     "iopub.execute_input": "2023-05-12T17:39:22.116897Z",
     "iopub.status.busy": "2023-05-12T17:39:22.116713Z",
     "iopub.status.idle": "2023-05-12T17:39:22.129007Z",
     "shell.execute_reply": "2023-05-12T17:39:22.128477Z",
     "shell.execute_reply.started": "2023-05-12T17:39:22.116880Z"
    }
   },
   "outputs": [],
   "source": [
    "recon_losses['PCA']=34.86112144"
   ]
  },
  {
   "cell_type": "code",
   "execution_count": 37,
   "id": "04882fac-8e93-4656-888d-29d986e10942",
   "metadata": {
    "execution": {
     "iopub.execute_input": "2023-05-12T18:01:02.779317Z",
     "iopub.status.busy": "2023-05-12T18:01:02.778917Z",
     "iopub.status.idle": "2023-05-12T18:01:02.785527Z",
     "shell.execute_reply": "2023-05-12T18:01:02.784808Z",
     "shell.execute_reply.started": "2023-05-12T18:01:02.779289Z"
    },
    "tags": []
   },
   "outputs": [],
   "source": [
    "\n",
    "plot_df=pd.DataFrame({'Disintangling Score':pd.Series(scores),'Reconstruction loss':pd.Series(recon_losses)})\n",
    "plot_df=plot_df2.reindex(['PCA','10_1','1_2','1_5','1_10','0_0'])\n",
    "plot_df['Capacity']=[0,1,2,3,4,5]\n"
   ]
  },
  {
   "cell_type": "code",
   "execution_count": 38,
   "id": "66df0ada-4bda-4303-b870-562f682e623e",
   "metadata": {
    "execution": {
     "iopub.execute_input": "2023-05-12T18:01:03.245782Z",
     "iopub.status.busy": "2023-05-12T18:01:03.245516Z",
     "iopub.status.idle": "2023-05-12T18:01:03.252818Z",
     "shell.execute_reply": "2023-05-12T18:01:03.252334Z",
     "shell.execute_reply.started": "2023-05-12T18:01:03.245763Z"
    },
    "tags": []
   },
   "outputs": [
    {
     "data": {
      "text/html": [
       "<div>\n",
       "<style scoped>\n",
       "    .dataframe tbody tr th:only-of-type {\n",
       "        vertical-align: middle;\n",
       "    }\n",
       "\n",
       "    .dataframe tbody tr th {\n",
       "        vertical-align: top;\n",
       "    }\n",
       "\n",
       "    .dataframe thead th {\n",
       "        text-align: right;\n",
       "    }\n",
       "</style>\n",
       "<table border=\"1\" class=\"dataframe\">\n",
       "  <thead>\n",
       "    <tr style=\"text-align: right;\">\n",
       "      <th></th>\n",
       "      <th>Disintangling Score</th>\n",
       "      <th>Reconstruction loss</th>\n",
       "      <th>Capacity</th>\n",
       "    </tr>\n",
       "  </thead>\n",
       "  <tbody>\n",
       "    <tr>\n",
       "      <th>PCA</th>\n",
       "      <td>0.216446</td>\n",
       "      <td>34.860000</td>\n",
       "      <td>0</td>\n",
       "    </tr>\n",
       "    <tr>\n",
       "      <th>10_1</th>\n",
       "      <td>0.335168</td>\n",
       "      <td>14.274961</td>\n",
       "      <td>1</td>\n",
       "    </tr>\n",
       "    <tr>\n",
       "      <th>1_2</th>\n",
       "      <td>0.466306</td>\n",
       "      <td>1.376660</td>\n",
       "      <td>2</td>\n",
       "    </tr>\n",
       "    <tr>\n",
       "      <th>1_5</th>\n",
       "      <td>0.165719</td>\n",
       "      <td>0.372039</td>\n",
       "      <td>3</td>\n",
       "    </tr>\n",
       "    <tr>\n",
       "      <th>1_10</th>\n",
       "      <td>0.291075</td>\n",
       "      <td>0.375767</td>\n",
       "      <td>4</td>\n",
       "    </tr>\n",
       "    <tr>\n",
       "      <th>0_0</th>\n",
       "      <td>0.094658</td>\n",
       "      <td>0.387852</td>\n",
       "      <td>5</td>\n",
       "    </tr>\n",
       "  </tbody>\n",
       "</table>\n",
       "</div>"
      ],
      "text/plain": [
       "      Disintangling Score  Reconstruction loss  Capacity\n",
       "PCA              0.216446            34.860000         0\n",
       "10_1             0.335168            14.274961         1\n",
       "1_2              0.466306             1.376660         2\n",
       "1_5              0.165719             0.372039         3\n",
       "1_10             0.291075             0.375767         4\n",
       "0_0              0.094658             0.387852         5"
      ]
     },
     "execution_count": 38,
     "metadata": {},
     "output_type": "execute_result"
    }
   ],
   "source": [
    "plot_df"
   ]
  },
  {
   "cell_type": "code",
   "execution_count": 55,
   "id": "fba132d5-dab6-4ad0-8f7b-2e7e71716f1a",
   "metadata": {
    "execution": {
     "iopub.execute_input": "2023-05-12T18:10:56.285538Z",
     "iopub.status.busy": "2023-05-12T18:10:56.285128Z",
     "iopub.status.idle": "2023-05-12T18:10:56.511006Z",
     "shell.execute_reply": "2023-05-12T18:10:56.510410Z",
     "shell.execute_reply.started": "2023-05-12T18:10:56.285513Z"
    },
    "tags": []
   },
   "outputs": [
    {
     "data": {
      "image/png": "[encoded data removed]",
      "text/plain": [
       "<Figure size 800x400 with 2 Axes>"
      ]
     },
     "metadata": {},
     "output_type": "display_data"
    }
   ],
   "source": [
    "f,axes=plt.subplots(1,1,figsize=(8,4))\n",
    "ax=sns.scatterplot(\n",
    "    data = plot_df,\n",
    "    x='Capacity',\n",
    "    color='k',\n",
    "    y='Disintangling Score'\n",
    ")\n",
    "labels = ['PCA','$C$=1','$C$=2','$C$=5','$C$=10','autoencoder']\n",
    "plt.xticks(plot_df['Capacity'], labels, rotation=45)\n",
    "ax2 = plt.twinx()\n",
    "ax2=sns.scatterplot(\n",
    "    data = plot_df,\n",
    "    x='Capacity',\n",
    "    color='r',\n",
    "    y='Reconstruction loss'\n",
    ")\n",
    "# ax.set_ylim([0,0.16])\n",
    "ax.set_ylim([0,0.5])\n",
    "ax2.set_ylim([-3,38])\n",
    "\n",
    "ax2.yaxis.label.set_color('red')\n",
    "ax2.tick_params(axis='y', colors='red')\n",
    "\n",
    "plt.tight_layout()\n",
    "#f.savefig('/data/home/allen.leary/tcrvalid_figs/Disintangling_vs_Reconloss.pdf',bbox_inches='tight')  \n"
   ]
  }
 ],
 "metadata": {
  "kernelspec": {
   "display_name": "tcrvalid",
   "language": "python",
   "name": "tcrvalid"
  },
  "language_info": {
   "codemirror_mode": {
    "name": "ipython",
    "version": 3
   },
   "file_extension": ".py",
   "mimetype": "text/x-python",
   "name": "python",
   "nbconvert_exporter": "python",
   "pygments_lexer": "ipython3",
   "version": "3.8.16"
  }
 },
 "nbformat": 4,
 "nbformat_minor": 5
}
