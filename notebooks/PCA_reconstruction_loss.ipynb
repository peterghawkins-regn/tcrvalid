{
 "cells": [
  {
   "cell_type": "code",
   "execution_count": 1,
   "id": "b0d1cd34-fca9-4262-bed8-d2e6d7137567",
   "metadata": {
    "execution": {
     "iopub.execute_input": "2023-05-12T18:39:07.436565Z",
     "iopub.status.busy": "2023-05-12T18:39:07.436170Z",
     "iopub.status.idle": "2023-05-12T18:39:07.440377Z",
     "shell.execute_reply": "2023-05-12T18:39:07.439524Z",
     "shell.execute_reply.started": "2023-05-12T18:39:07.436540Z"
    }
   },
   "outputs": [],
   "source": [
    "# Copyright 2023 Regeneron Pharmaceuticals Inc.\n",
    "#\n",
    "# Licensed under the Apache License, Version 2.0 (the \"License\");\n",
    "# you may not use this file except in compliance with the License.\n",
    "# You may obtain a copy of the License at\n",
    "#\n",
    "#     http://www.apache.org/licenses/LICENSE-2.0\n",
    "#\n",
    "# Unless required by applicable law or agreed to in writing, software\n",
    "# distributed under the License is distributed on an \"AS IS\" BASIS,\n",
    "# WITHOUT WARRANTIES OR CONDITIONS OF ANY KIND, either express or implied.\n",
    "# See the License for the specific language governing permissions and\n",
    "# limitations under the License."
   ]
  },
  {
   "cell_type": "markdown",
   "id": "d489816f-628b-43b6-84bc-863dad96d363",
   "metadata": {},
   "source": [
    "## Notebook to compute reconstruction loss for PCA model"
   ]
  },
  {
   "cell_type": "code",
   "execution_count": 16,
   "id": "e3299beb-1d8e-4318-acc4-51013e729201",
   "metadata": {
    "execution": {
     "iopub.execute_input": "2023-05-12T18:43:54.437415Z",
     "iopub.status.busy": "2023-05-12T18:43:54.436961Z",
     "iopub.status.idle": "2023-05-12T18:43:54.441785Z",
     "shell.execute_reply": "2023-05-12T18:43:54.441128Z",
     "shell.execute_reply.started": "2023-05-12T18:43:54.437388Z"
    },
    "tags": []
   },
   "outputs": [],
   "source": [
    "from sklearn.ensemble import RandomForestClassifier,RandomForestRegressor\n",
    "import pandas as pd\n",
    "import numpy as np\n",
    "import matplotlib.pyplot as plt\n",
    "from scipy.stats import entropy\n",
    "from sklearn.model_selection import train_test_split\n",
    "from sklearn.decomposition import PCA\n",
    "\n",
    "from tcrvalid.load_models import *\n",
    "from tcrvalid.plot_utils import set_simple_rc_params\n",
    "from tcrvalid.physio_embedding import SeqArrayDictConverter\n",
    "from tcrvalid.data_subsetting import *\n",
    "from tcrvalid.defaults import *\n"
   ]
  },
  {
   "cell_type": "code",
   "execution_count": 4,
   "id": "2f9ed730-6659-462b-8116-2ff4f78fa560",
   "metadata": {
    "execution": {
     "iopub.execute_input": "2023-05-12T18:39:48.433478Z",
     "iopub.status.busy": "2023-05-12T18:39:48.433152Z",
     "iopub.status.idle": "2023-05-12T18:39:51.570166Z",
     "shell.execute_reply": "2023-05-12T18:39:51.569476Z",
     "shell.execute_reply.started": "2023-05-12T18:39:48.433455Z"
    },
    "tags": []
   },
   "outputs": [
    {
     "name": "stderr",
     "output_type": "stream",
     "text": [
      "2023-05-12 14:39:50.337434: E tensorflow/stream_executor/cuda/cuda_driver.cc:271] failed call to cuInit: CUDA_ERROR_NO_DEVICE: no CUDA-capable device is detected\n",
      "2023-05-12 14:39:50.337482: I tensorflow/stream_executor/cuda/cuda_diagnostics.cc:156] kernel driver does not appear to be running on this host (gen-queue-dy-m52xlarge-2): /proc/driver/nvidia/version does not exist\n",
      "2023-05-12 14:39:50.338031: I tensorflow/core/platform/cpu_feature_guard.cc:151] This TensorFlow binary is optimized with oneAPI Deep Neural Network Library (oneDNN) to use the following CPU instructions in performance-critical operations:  AVX2 AVX512F FMA\n",
      "To enable them in other operations, rebuild TensorFlow with the appropriate compiler flags.\n"
     ]
    },
    {
     "name": "stdout",
     "output_type": "stream",
     "text": [
      "WARNING:tensorflow:No training configuration found in save file, so the model was *not* compiled. Compile it manually.\n"
     ]
    }
   ],
   "source": [
    "mapping = SeqArrayDictConverter()\n",
    "loaded_models_TRB = load_named_models('1_2',chain='TRB', encoders=True)\n",
    "trb_test_pq = data_path_small_trb['te']\n",
    "te_seq_trb_df = pd.read_parquet(trb_test_pq, columns=['cdr2_cdr3','new_meta_vcall','j_call','insert_codons_aa']).head(100000)"
   ]
  },
  {
   "cell_type": "markdown",
   "id": "b4423f32-51c2-48d0-8194-18667c40ad00",
   "metadata": {},
   "source": [
    "#### Create a train and test for PCA reconstruction loss computation"
   ]
  },
  {
   "cell_type": "code",
   "execution_count": 8,
   "id": "05af79a5-635f-4f7b-820c-1fa7ce45dafd",
   "metadata": {
    "execution": {
     "iopub.execute_input": "2023-05-12T18:42:11.434229Z",
     "iopub.status.busy": "2023-05-12T18:42:11.433834Z",
     "iopub.status.idle": "2023-05-12T18:42:11.455152Z",
     "shell.execute_reply": "2023-05-12T18:42:11.454536Z",
     "shell.execute_reply.started": "2023-05-12T18:42:11.434202Z"
    },
    "tags": []
   },
   "outputs": [],
   "source": [
    "train, test = train_test_split(te_seq_trb_df, test_size=0.2)\n"
   ]
  },
  {
   "cell_type": "code",
   "execution_count": 9,
   "id": "0c01f367-ff32-4a03-8f6f-9712534a0cc7",
   "metadata": {
    "execution": {
     "iopub.execute_input": "2023-05-12T18:42:11.460916Z",
     "iopub.status.busy": "2023-05-12T18:42:11.460634Z",
     "iopub.status.idle": "2023-05-12T18:42:12.690104Z",
     "shell.execute_reply": "2023-05-12T18:42:12.689463Z",
     "shell.execute_reply.started": "2023-05-12T18:42:11.460896Z"
    }
   },
   "outputs": [],
   "source": [
    "x_tr = mapping.seqs_to_array(list(train.cdr2_cdr3.values),maxlen=28)\n",
    "x_val = mapping.seqs_to_array(list(test.cdr2_cdr3.values),maxlen=28)\n"
   ]
  },
  {
   "cell_type": "code",
   "execution_count": 13,
   "id": "6215e977-e6b8-4c78-8b80-d2a47826a0a0",
   "metadata": {
    "execution": {
     "iopub.execute_input": "2023-05-12T18:42:22.435617Z",
     "iopub.status.busy": "2023-05-12T18:42:22.435159Z",
     "iopub.status.idle": "2023-05-12T18:42:22.439422Z",
     "shell.execute_reply": "2023-05-12T18:42:22.438874Z",
     "shell.execute_reply.started": "2023-05-12T18:42:22.435580Z"
    },
    "tags": []
   },
   "outputs": [],
   "source": [
    "def get_xflat(x):\n",
    "  x_flat = np.reshape(x, (x.shape[0],x.shape[1]*x.shape[2]))\n",
    "  return x_flat\n",
    "\n",
    "x_flat_tr = get_xflat(x_tr)\n",
    "x_flat_val= get_xflat(x_val)"
   ]
  },
  {
   "cell_type": "code",
   "execution_count": 14,
   "id": "f143a4fc-72fb-450c-b9c7-76b0d2dda71c",
   "metadata": {
    "execution": {
     "iopub.execute_input": "2023-05-12T18:42:50.435104Z",
     "iopub.status.busy": "2023-05-12T18:42:50.434594Z",
     "iopub.status.idle": "2023-05-12T18:42:50.439317Z",
     "shell.execute_reply": "2023-05-12T18:42:50.438510Z",
     "shell.execute_reply.started": "2023-05-12T18:42:50.435062Z"
    }
   },
   "outputs": [],
   "source": [
    "def mse(x,y):\n",
    "  return np.mean(np.sum(np.square(x-y),axis=(1,2)))"
   ]
  },
  {
   "cell_type": "markdown",
   "id": "1a8ddd03-c6a3-4a5c-9691-19d689e6746f",
   "metadata": {},
   "source": [
    "#### Train a 16D PCA decomposition then transform the test set and compute MSE on the reconstruction"
   ]
  },
  {
   "cell_type": "code",
   "execution_count": 18,
   "id": "edddf554-c409-49d0-a3d2-8b3c3ea5cfc5",
   "metadata": {
    "execution": {
     "iopub.execute_input": "2023-05-12T18:44:01.437944Z",
     "iopub.status.busy": "2023-05-12T18:44:01.437553Z",
     "iopub.status.idle": "2023-05-12T18:44:03.693760Z",
     "shell.execute_reply": "2023-05-12T18:44:03.692770Z",
     "shell.execute_reply.started": "2023-05-12T18:44:01.437917Z"
    },
    "tags": []
   },
   "outputs": [
    {
     "data": {
      "text/plain": [
       "34.86522183719725"
      ]
     },
     "execution_count": 18,
     "metadata": {},
     "output_type": "execute_result"
    }
   ],
   "source": [
    "n=16\n",
    "tmp_pca = PCA(n_components=n)\n",
    "tmp_pca.fit(x_flat_tr)\n",
    "x_test_pca = tmp_pca.transform(x_flat_val)\n",
    "x_test_pca_flat = tmp_pca.inverse_transform(x_test_pca)\n",
    "mse_val = mse(x_val,x_test_pca_flat.reshape((x_val.shape[0],x_val.shape[1],x_val.shape[2])))\n",
    "mse_val"
   ]
  },
  {
   "cell_type": "code",
   "execution_count": null,
   "id": "4b093f9a-583e-4715-b292-f15c48a7b9dd",
   "metadata": {},
   "outputs": [],
   "source": []
  }
 ],
 "metadata": {
  "kernelspec": {
   "display_name": "tcrvalid",
   "language": "python",
   "name": "tcrvalid"
  },
  "language_info": {
   "codemirror_mode": {
    "name": "ipython",
    "version": 3
   },
   "file_extension": ".py",
   "mimetype": "text/x-python",
   "name": "python",
   "nbconvert_exporter": "python",
   "pygments_lexer": "ipython3",
   "version": "3.8.16"
  }
 },
 "nbformat": 4,
 "nbformat_minor": 5
}
