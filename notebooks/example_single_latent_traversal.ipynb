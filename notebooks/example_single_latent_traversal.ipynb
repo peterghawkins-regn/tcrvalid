{
 "cells": [
  {
   "cell_type": "code",
   "execution_count": null,
   "id": "b693f1c2-d073-49ab-a019-b570f7085270",
   "metadata": {},
   "outputs": [],
   "source": [
    "# Copyright 2023 Regeneron Pharmaceuticals Inc.\n",
    "#\n",
    "# Licensed under the Apache License, Version 2.0 (the \"License\");\n",
    "# you may not use this file except in compliance with the License.\n",
    "# You may obtain a copy of the License at\n",
    "#\n",
    "#     http://www.apache.org/licenses/LICENSE-2.0\n",
    "#\n",
    "# Unless required by applicable law or agreed to in writing, software\n",
    "# distributed under the License is distributed on an \"AS IS\" BASIS,\n",
    "# WITHOUT WARRANTIES OR CONDITIONS OF ANY KIND, either express or implied.\n",
    "# See the License for the specific language governing permissions and\n",
    "# limitations under the License."
   ]
  },
  {
   "cell_type": "markdown",
   "id": "465e607b-cc79-409e-a5e3-103d5e75de20",
   "metadata": {},
   "source": [
    "## Notebook showing tracking of latent space smoothness over single latent traversal"
   ]
  },
  {
   "cell_type": "code",
   "execution_count": 1,
   "id": "17a28826-d3a5-484b-8368-22686de9f4b1",
   "metadata": {
    "execution": {
     "iopub.execute_input": "2023-05-11T15:10:16.535935Z",
     "iopub.status.busy": "2023-05-11T15:10:16.535589Z",
     "iopub.status.idle": "2023-05-11T15:10:31.557225Z",
     "shell.execute_reply": "2023-05-11T15:10:31.556462Z",
     "shell.execute_reply.started": "2023-05-11T15:10:16.535910Z"
    },
    "tags": []
   },
   "outputs": [
    {
     "name": "stderr",
     "output_type": "stream",
     "text": [
      "/data/home/peter.hawkins/.conda/envs/tcrvalid_pip_e/lib/python3.8/site-packages/tqdm/auto.py:21: TqdmWarning: IProgress not found. Please update jupyter and ipywidgets. See https://ipywidgets.readthedocs.io/en/stable/user_install.html\n",
      "  from .autonotebook import tqdm as notebook_tqdm\n"
     ]
    },
    {
     "name": "stdout",
     "output_type": "stream",
     "text": [
      "(21, 7)\n",
      "(22, 8)\n"
     ]
    }
   ],
   "source": [
    "import pandas as pd\n",
    "from umap import UMAP\n",
    "import matplotlib.pyplot as plt\n",
    "import seaborn as sns\n",
    "\n",
    "import sys\n",
    "\n",
    "from tcrvalid.load_models import *\n",
    "from tcrvalid.plot_utils import set_simple_rc_params\n",
    "from tcrvalid.physio_embedding import SeqArrayDictConverter,manhattan\n",
    "from tcrvalid.interpolation import *\n",
    "from tcrvalid.defaults import *\n",
    "\n",
    "set_simple_rc_params()"
   ]
  },
  {
   "cell_type": "markdown",
   "id": "ebb6dc0a-ce7e-4f65-99e3-4b7abe0eeba6",
   "metadata": {},
   "source": [
    "### Load models and data\n",
    " - load reference CDR2 library\n",
    " - load TRB models for two models"
   ]
  },
  {
   "cell_type": "code",
   "execution_count": 2,
   "id": "4dfa472d-ec41-41f5-af43-169d7e2f9c50",
   "metadata": {
    "execution": {
     "iopub.execute_input": "2023-05-11T15:10:31.559050Z",
     "iopub.status.busy": "2023-05-11T15:10:31.558433Z",
     "iopub.status.idle": "2023-05-11T15:10:34.212852Z",
     "shell.execute_reply": "2023-05-11T15:10:34.212127Z",
     "shell.execute_reply.started": "2023-05-11T15:10:31.559026Z"
    },
    "tags": []
   },
   "outputs": [
    {
     "name": "stderr",
     "output_type": "stream",
     "text": [
      "2023-05-11 11:10:31.729712: E tensorflow/stream_executor/cuda/cuda_driver.cc:271] failed call to cuInit: CUDA_ERROR_NO_DEVICE: no CUDA-capable device is detected\n",
      "2023-05-11 11:10:31.729758: I tensorflow/stream_executor/cuda/cuda_diagnostics.cc:156] kernel driver does not appear to be running on this host (gen-queue-dy-m516xlarge-1): /proc/driver/nvidia/version does not exist\n",
      "2023-05-11 11:10:31.730305: I tensorflow/core/platform/cpu_feature_guard.cc:151] This TensorFlow binary is optimized with oneAPI Deep Neural Network Library (oneDNN) to use the following CPU instructions in performance-critical operations:  AVX2 AVX512F FMA\n",
      "To enable them in other operations, rebuild TensorFlow with the appropriate compiler flags.\n"
     ]
    },
    {
     "name": "stdout",
     "output_type": "stream",
     "text": [
      "WARNING:tensorflow:No training configuration found in save file, so the model was *not* compiled. Compile it manually.\n",
      "WARNING:tensorflow:No training configuration found in save file, so the model was *not* compiled. Compile it manually.\n",
      "WARNING:tensorflow:No training configuration found in save file, so the model was *not* compiled. Compile it manually.\n",
      "WARNING:tensorflow:No training configuration found in save file, so the model was *not* compiled. Compile it manually.\n"
     ]
    }
   ],
   "source": [
    "from_keras=True\n",
    "\n",
    "ref_cdr2s,ref_cdr2_seqs = get_ref_cdr2s(trbv_ref_path)\n",
    "loaded_models = load_named_models(['0_0','1_2'],chain='TRB',as_keras=from_keras)\n",
    "loaded_decoders = load_named_models(['0_0','1_2'],chain='TRB',as_keras=from_keras,encoders=False)"
   ]
  },
  {
   "cell_type": "markdown",
   "id": "aca617bc-dc98-4cb7-a320-c1757226f8b3",
   "metadata": {},
   "source": [
    "#### choose two TCRs with same CDR3, and number if steps to complete in latent space\n",
    "\n",
    " - walk linearly in the model's latent space between these two TCRs\n",
    " - with number of steps provided\n",
    " - expect CDR3 to stay approximately the same, and CDR2 to remain close to true data manifold."
   ]
  },
  {
   "cell_type": "code",
   "execution_count": 3,
   "id": "e3c27052-f995-45b3-8601-37b127e33b1a",
   "metadata": {
    "execution": {
     "iopub.execute_input": "2023-05-11T15:10:34.214053Z",
     "iopub.status.busy": "2023-05-11T15:10:34.213760Z",
     "iopub.status.idle": "2023-05-11T15:10:34.217348Z",
     "shell.execute_reply": "2023-05-11T15:10:34.216701Z",
     "shell.execute_reply.started": "2023-05-11T15:10:34.214032Z"
    },
    "tags": []
   },
   "outputs": [],
   "source": [
    "tcr1 = 'YYEKEE-ASSRAGNTEAF'\n",
    "tcr2 = 'SYGVNS-ASSRAGNTEAF'\n",
    "interp_steps = 100"
   ]
  },
  {
   "cell_type": "markdown",
   "id": "95a0d897-d989-47f1-808d-6af6bc7d9baf",
   "metadata": {},
   "source": [
    "### Set up tools to track smoothness\n",
    "\n",
    " - we provide some tracking tools:\n",
    "   - cdr2 tracker and cdr3 tracker used here"
   ]
  },
  {
   "cell_type": "code",
   "execution_count": 4,
   "id": "ec3604ed-314d-49ba-a251-35d7d04a865f",
   "metadata": {
    "execution": {
     "iopub.execute_input": "2023-05-11T15:10:34.218917Z",
     "iopub.status.busy": "2023-05-11T15:10:34.218621Z",
     "iopub.status.idle": "2023-05-11T15:10:34.236277Z",
     "shell.execute_reply": "2023-05-11T15:10:34.235628Z",
     "shell.execute_reply.started": "2023-05-11T15:10:34.218898Z"
    },
    "tags": []
   },
   "outputs": [],
   "source": [
    "cdr2_d_tracker = CDR2DistanceTracker(ref_cdr2s,6,manhattan)\n",
    "cdr3_d_tracker = CDR3DistanceTracker(None,manhattan)\n",
    "\n",
    "tracker_tuples = [\n",
    "  (cdr2_d_tracker,mean_statistic,'CDR2'),\n",
    "  (cdr3_d_tracker,mean_statistic,'CDR3'),\n",
    "  (cdr3_d_tracker,mean_startendnorm_statistic,'CDR3_norm')\n",
    "]"
   ]
  },
  {
   "cell_type": "markdown",
   "id": "6e2058f8-6827-4e23-a782-ab4ba4d7f67f",
   "metadata": {},
   "source": [
    "### Construct Interpolator helper - performs the traversal in latent space\n",
    " - The interpolator also accepts trackers (created above) to observe the desired quantities at each step on the traversal\n",
    " - For each added value to track, a statistic can be provided to capture a single value for the traversal, here use the mean, or normalized mean\n",
    " - can also name each of the tracked quantities as desired"
   ]
  },
  {
   "cell_type": "code",
   "execution_count": 5,
   "id": "04cbe215-f422-4a29-9a33-fede8687ed7f",
   "metadata": {
    "execution": {
     "iopub.execute_input": "2023-05-11T15:10:34.237293Z",
     "iopub.status.busy": "2023-05-11T15:10:34.237005Z",
     "iopub.status.idle": "2023-05-11T15:10:34.259619Z",
     "shell.execute_reply": "2023-05-11T15:10:34.258947Z",
     "shell.execute_reply.started": "2023-05-11T15:10:34.237275Z"
    },
    "tags": []
   },
   "outputs": [],
   "source": [
    "mapping = SeqArrayDictConverter()\n",
    "interp = Interpolator(mapping)\n",
    "interp.add_tracker(cdr2_d_tracker,mean_statistic,'CDR2')\n",
    "interp.add_tracker(cdr3_d_tracker,mean_statistic,'CDR3')\n",
    "interp.add_tracker(cdr3_d_tracker,mean_startendnorm_statistic,'CDR3_norm')"
   ]
  },
  {
   "cell_type": "markdown",
   "id": "5430f458-5137-4943-b2bb-8a0bfbfd34a8",
   "metadata": {},
   "source": [
    "## Perform traversal and plot result\n",
    "\n",
    "For each model perfom the traversal using the \"interp\" object created above, going between the twi TCRs defined earlier in the notebook\n",
    "\n",
    "Plot CDR2 and CD3 (normed) distance along the traversal."
   ]
  },
  {
   "cell_type": "code",
   "execution_count": 6,
   "id": "1a3af4a1-ce91-49ef-81f1-6a2082d23e21",
   "metadata": {
    "execution": {
     "iopub.execute_input": "2023-05-11T15:10:34.260705Z",
     "iopub.status.busy": "2023-05-11T15:10:34.260361Z",
     "iopub.status.idle": "2023-05-11T15:10:42.808645Z",
     "shell.execute_reply": "2023-05-11T15:10:42.807948Z",
     "shell.execute_reply.started": "2023-05-11T15:10:34.260687Z"
    },
    "tags": []
   },
   "outputs": [
    {
     "data": {
      "image/png": "[encoded data removed]",
      "text/plain": [
       "<Figure size 300x350 with 2 Axes>"
      ]
     },
     "metadata": {},
     "output_type": "display_data"
    }
   ],
   "source": [
    "f,axes = plt.subplots(2,1,figsize=(3,3.5))\n",
    "\n",
    "cols = {\n",
    "  '0_0': 'k',\n",
    "  '1_2': 'r',\n",
    "}\n",
    "names = {\n",
    "  '0_0': 'AE',\n",
    "  '1_2': r'$\\beta=1$'+','+r'$C=2$'\n",
    "}\n",
    "\n",
    "for k in ['0_0','1_2']: \n",
    "    rd = interp(\n",
    "        tcr1,\n",
    "        tcr2,\n",
    "        loaded_models[k],\n",
    "        loaded_decoders[k],\n",
    "        interp_steps,\n",
    "      )\n",
    "    axes[0].plot(\n",
    "        interp.tracked_values['CDR2'],\n",
    "        color=cols[k],\n",
    "        label=names[k] #+' ; '+r'$C_{CDR2}=$' + '{:.1f}'.format(rd['CDR2'])\n",
    "    )\n",
    "    axes[1].plot(\n",
    "        interp.tracked_values['CDR3']/(0.5*(interp.tracked_values['CDR3'][0]+ interp.tracked_values['CDR3'][-1])),\n",
    "        color=cols[k],\n",
    "        label=names[k] #+' ; '+r'$D_{CDR3,norm}=$' + '{:.1f}'.format(rd['CDR3_norm'])\n",
    "    )\n",
    "    #print(k, interp.tracked_values['CDR2'])\n",
    "\n",
    "for ax in axes:\n",
    "    ax.set_xlim([-0.5,interp_steps+1])\n",
    "    \n",
    "axes[0].legend()\n",
    "\n",
    "axes[0].set_ylim([0,32])\n",
    "axes[1].set_ylim([0,12])\n",
    "\n",
    "axes[0].set_ylabel(r'$D_{cdr2}$')\n",
    "axes[1].set_ylabel(r'$D_{cdr3}$')\n",
    "\n",
    "axes[1].set_xlabel('step '+r'$i$')\n",
    "axes[0].set_xticklabels([])\n",
    "\n",
    "plt.tight_layout()"
   ]
  },
  {
   "cell_type": "markdown",
   "id": "68aa475c-d401-4d04-8076-4711b1dc3a9b",
   "metadata": {},
   "source": [
    "### Collecting many such traversals to quantify the smoothness of the models\n",
    "\n",
    "In order to 'score' the smoothness of the latent space by these quantities, one can repeat the analysis for many such pairs of TCRs. For each pair, one can collect the aggregated metric (mean, normalized mean) over the trajectory. We show how to do this in:\n",
    " - scripts/meta_interpolation.py"
   ]
  },
  {
   "cell_type": "code",
   "execution_count": null,
   "id": "2827930a-c296-43a2-83fc-f05212438027",
   "metadata": {},
   "outputs": [],
   "source": []
  }
 ],
 "metadata": {
  "kernelspec": {
   "display_name": "tcrvalid_pip_e",
   "language": "python",
   "name": "tcrvalid_pip_e"
  },
  "language_info": {
   "codemirror_mode": {
    "name": "ipython",
    "version": 3
   },
   "file_extension": ".py",
   "mimetype": "text/x-python",
   "name": "python",
   "nbconvert_exporter": "python",
   "pygments_lexer": "ipython3",
   "version": "3.8.16"
  }
 },
 "nbformat": 4,
 "nbformat_minor": 5
}
