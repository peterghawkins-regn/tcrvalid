{
 "cells": [
  {
   "cell_type": "code",
   "execution_count": null,
   "id": "54ec4058-4864-459f-a3ae-243551bd70af",
   "metadata": {},
   "outputs": [],
   "source": [
    "# Copyright 2023 Regeneron Pharmaceuticals Inc.\n",
    "#\n",
    "# Licensed under the Apache License, Version 2.0 (the \"License\");\n",
    "# you may not use this file except in compliance with the License.\n",
    "# You may obtain a copy of the License at\n",
    "#\n",
    "#     http://www.apache.org/licenses/LICENSE-2.0\n",
    "#\n",
    "# Unless required by applicable law or agreed to in writing, software\n",
    "# distributed under the License is distributed on an \"AS IS\" BASIS,\n",
    "# WITHOUT WARRANTIES OR CONDITIONS OF ANY KIND, either express or implied.\n",
    "# See the License for the specific language governing permissions and\n",
    "# limitations under the License."
   ]
  },
  {
   "cell_type": "markdown",
   "id": "f8b62d1f-803e-43e3-a3f3-488df1e6e661",
   "metadata": {},
   "source": [
    "## Collect TCR-VALID representations of antigen-labeled TCRs and cluster them"
   ]
  },
  {
   "cell_type": "code",
   "execution_count": 1,
   "id": "c91b7b67-0d57-4edc-bdd7-698287f1a72f",
   "metadata": {
    "execution": {
     "iopub.execute_input": "2023-05-02T19:13:47.011827Z",
     "iopub.status.busy": "2023-05-02T19:13:47.011441Z",
     "iopub.status.idle": "2023-05-02T19:13:52.178972Z",
     "shell.execute_reply": "2023-05-02T19:13:52.178177Z",
     "shell.execute_reply.started": "2023-05-02T19:13:47.011784Z"
    },
    "tags": []
   },
   "outputs": [
    {
     "name": "stdout",
     "output_type": "stream",
     "text": [
      "(21, 7)\n",
      "(22, 8)\n"
     ]
    }
   ],
   "source": [
    "import numpy as np\n",
    "import pandas as pd\n",
    "\n",
    "import seaborn as sns\n",
    "import matplotlib.pyplot as plt\n",
    "\n",
    "from tcrvalid.load_models import *\n",
    "from tcrvalid.physio_embedding import SeqArrayDictConverter\n",
    "from tcrvalid.data_subsetting import *\n",
    "from tcrvalid.cluster_loop import *\n",
    "from tcrvalid.defaults import *"
   ]
  },
  {
   "cell_type": "markdown",
   "id": "e75f9a20-6355-47cc-beef-683557d3680b",
   "metadata": {},
   "source": [
    "#### Data and model specificication\n",
    "\n",
    "Choose to load from_keras to get the model co-packaged with tcr-valid\n",
    "\n",
    "Model for TRA and TRB to use to get TCR-VALID representations for each chain.\n",
    " - here, use the models trained on the full datasets of TRA/TRB chains"
   ]
  },
  {
   "cell_type": "code",
   "execution_count": 2,
   "id": "941d6924-8aec-4132-8afe-50fcf9be2014",
   "metadata": {
    "execution": {
     "iopub.execute_input": "2023-05-02T19:13:52.191065Z",
     "iopub.status.busy": "2023-05-02T19:13:52.190620Z",
     "iopub.status.idle": "2023-05-02T19:13:52.195396Z",
     "shell.execute_reply": "2023-05-02T19:13:52.194562Z",
     "shell.execute_reply.started": "2023-05-02T19:13:52.191033Z"
    },
    "tags": []
   },
   "outputs": [],
   "source": [
    "from_keras = True #expect True in github code\n",
    "\n",
    "model_names = {\n",
    "    'TRA': ['1_2'],\n",
    "    'TRB': ['1_2_full_40']\n",
    "}"
   ]
  },
  {
   "cell_type": "code",
   "execution_count": 3,
   "id": "9f1f19cc-dff2-46ec-ad9f-38b22f4563c5",
   "metadata": {
    "execution": {
     "iopub.execute_input": "2023-05-02T19:13:52.196789Z",
     "iopub.status.busy": "2023-05-02T19:13:52.196439Z",
     "iopub.status.idle": "2023-05-02T19:13:52.213841Z",
     "shell.execute_reply": "2023-05-02T19:13:52.213177Z",
     "shell.execute_reply.started": "2023-05-02T19:13:52.196759Z"
    },
    "tags": []
   },
   "outputs": [],
   "source": [
    "def get_features(df,trb_model=None,tra_model=None):\n",
    "    \"\"\" Use dataframe of labeled TCRs and TCR-VALID TRA/TRB models to get features\n",
    "    \n",
    "    parameters\n",
    "    -----------\n",
    "    \n",
    "    df: pd.DataFrame\n",
    "        Dataframe of TCRs - expect labeled dataframe for this function. \n",
    "        In particular - pre_feature_TRB and/or pre_feature_TRA should be available\n",
    "        columns containg the sequences to be put through TCR-VALID model. \n",
    "        Here those columns contain CDR2-CD3 sequences\n",
    "        \n",
    "    trb_model: tf model\n",
    "        If None, don't include TRB features. Else use representation of this model. If\n",
    "        tra_model also not None, features from two models are concatenated.\n",
    "        \n",
    "    tra_model: tf model\n",
    "        If None, don't include TRA features. Else use representation of this model. If\n",
    "        trb_model also not None, features from two models are concatenated. \n",
    "    \n",
    "    \"\"\"\n",
    "    if trb_model is not None:\n",
    "        f_l_trb = mapping.seqs_to_array(df.pre_feature_TRB.values,maxlen=28)\n",
    "        x_l_trb,_,_ = trb_model.predict(f_l_trb)\n",
    "    if tra_model is not None:\n",
    "        f_l_tra = mapping.seqs_to_array(df.pre_feature_TRA.values,maxlen=28)\n",
    "        x_l_tra,_,_ = tra_model.predict(f_l_tra)\n",
    "\n",
    "    #y_l = df_labelled.label.values\n",
    "\n",
    "    if tra_model is not None and trb_model is not None:\n",
    "        print(x_l_trb.shape)\n",
    "        print(x_l_tra.shape)\n",
    "        x_l = np.concatenate([x_l_trb, x_l_tra],axis=1)\n",
    "    elif tra_model is None:\n",
    "        x_l = x_l_trb\n",
    "    elif trb_model is None:\n",
    "        x_l = x_l_tra\n",
    "    else:\n",
    "        raise ValueError()\n",
    "\n",
    "    return x_l"
   ]
  },
  {
   "cell_type": "markdown",
   "id": "94ffecec-f8cb-4e4a-b572-4920f7c63be1",
   "metadata": {},
   "source": [
    "### Define mapping to phyiscochemical properties and TCR-VALID models"
   ]
  },
  {
   "cell_type": "code",
   "execution_count": 4,
   "id": "671162a8-5f27-458f-8b89-6d0196541c84",
   "metadata": {
    "execution": {
     "iopub.execute_input": "2023-05-02T19:14:23.010204Z",
     "iopub.status.busy": "2023-05-02T19:14:23.009836Z",
     "iopub.status.idle": "2023-05-02T19:14:24.378774Z",
     "shell.execute_reply": "2023-05-02T19:14:24.377972Z",
     "shell.execute_reply.started": "2023-05-02T19:14:23.010182Z"
    },
    "tags": []
   },
   "outputs": [
    {
     "name": "stderr",
     "output_type": "stream",
     "text": [
      "2023-05-02 15:14:23.177611: E tensorflow/stream_executor/cuda/cuda_driver.cc:271] failed call to cuInit: CUDA_ERROR_NO_DEVICE: no CUDA-capable device is detected\n",
      "2023-05-02 15:14:23.177653: I tensorflow/stream_executor/cuda/cuda_diagnostics.cc:156] kernel driver does not appear to be running on this host (gen-queue-dy-m58xlarge-1): /proc/driver/nvidia/version does not exist\n",
      "2023-05-02 15:14:23.178695: I tensorflow/core/platform/cpu_feature_guard.cc:151] This TensorFlow binary is optimized with oneAPI Deep Neural Network Library (oneDNN) to use the following CPU instructions in performance-critical operations:  AVX2 AVX512F FMA\n",
      "To enable them in other operations, rebuild TensorFlow with the appropriate compiler flags.\n"
     ]
    },
    {
     "name": "stdout",
     "output_type": "stream",
     "text": [
      "WARNING:tensorflow:No training configuration found in save file, so the model was *not* compiled. Compile it manually.\n",
      "WARNING:tensorflow:No training configuration found in save file, so the model was *not* compiled. Compile it manually.\n"
     ]
    }
   ],
   "source": [
    "mapping = SeqArrayDictConverter()\n",
    "\n",
    "loaded_trb_models = load_named_models(model_names['TRB'],chain='TRB',as_keras=from_keras)\n",
    "loaded_tra_models = load_named_models(model_names['TRA'],chain='TRA',as_keras=from_keras)\n",
    "\n",
    "tra_model = loaded_tra_models['1_2']\n",
    "trb_model = loaded_trb_models['1_2_full_40']"
   ]
  },
  {
   "cell_type": "markdown",
   "id": "5efa77a1-9536-401a-a38f-232e1ea4f49e",
   "metadata": {},
   "source": [
    "#### Load in the antigen-labeled data\n",
    "\n",
    " - make_subset() selects for the chosen type of problem\n",
    "    - here, paired chain, based on CDR2 and CDR3, using 'both' labeled datasets (includes dextramer data)\n",
    "    - internally removes any duplicates\n",
    "    \n",
    " - get_features() collects TCR-VALID representation for paired-chain TCRs in the dataframe\n",
    "    "
   ]
  },
  {
   "cell_type": "code",
   "execution_count": 5,
   "id": "ad1cc6ac-bbb1-453a-a5de-66f4824befca",
   "metadata": {
    "execution": {
     "iopub.execute_input": "2023-05-02T19:14:24.380310Z",
     "iopub.status.busy": "2023-05-02T19:14:24.380020Z",
     "iopub.status.idle": "2023-05-02T19:14:25.420666Z",
     "shell.execute_reply": "2023-05-02T19:14:25.420072Z",
     "shell.execute_reply.started": "2023-05-02T19:14:24.380289Z"
    },
    "tags": []
   },
   "outputs": [
    {
     "name": "stdout",
     "output_type": "stream",
     "text": [
      "(4201, 16)\n",
      "(4201, 16)\n"
     ]
    }
   ],
   "source": [
    "df = pd.read_csv(labelled_data_path)\n",
    "sources = sources_['both']\n",
    "chains = chains_['TR']\n",
    "feature = features_['CDR23']\n",
    "subset_df = make_subset(df,sources=sources,chains=chains,feature=feature,min_size=3, max_len=28)\n",
    "\n",
    "x_l = get_features(\n",
    "  subset_df,\n",
    "  trb_model=trb_model,\n",
    "  tra_model=tra_model\n",
    ")"
   ]
  },
  {
   "cell_type": "markdown",
   "id": "992326e5-56ce-476c-a750-789325e7c639",
   "metadata": {},
   "source": [
    "#### Cluster TCRs for a range of 'distance thresholds' with DBSCAN\n",
    "\n",
    " - set a range of 'epsilon' values for the DBSCAN clustering which sets a distance threshold \n",
    " - Perform clustering on the labeled dataset for these distances and store results in a dataframe "
   ]
  },
  {
   "cell_type": "code",
   "execution_count": 6,
   "id": "be4755e5-c260-4e0c-ba57-60fbf3ce69fe",
   "metadata": {
    "execution": {
     "iopub.execute_input": "2023-05-02T19:14:26.541745Z",
     "iopub.status.busy": "2023-05-02T19:14:26.541375Z",
     "iopub.status.idle": "2023-05-02T19:14:31.543460Z",
     "shell.execute_reply": "2023-05-02T19:14:31.542847Z",
     "shell.execute_reply.started": "2023-05-02T19:14:26.541723Z"
    },
    "tags": []
   },
   "outputs": [],
   "source": [
    "eps_range = np.linspace(2.0,12.0,10)\n",
    "scores_df = dbscan_loop(\n",
    "    subset_df,\n",
    "    x_l,\n",
    "    eps_range,\n",
    "    metric='manhattan',\n",
    "    min_samples=3,\n",
    "    eps_format=':.2f'\n",
    ")"
   ]
  },
  {
   "cell_type": "code",
   "execution_count": 7,
   "id": "1d0adedd-99bd-4ee5-94c5-1061503ca6c3",
   "metadata": {
    "execution": {
     "iopub.execute_input": "2023-05-02T19:14:37.010017Z",
     "iopub.status.busy": "2023-05-02T19:14:37.009641Z",
     "iopub.status.idle": "2023-05-02T19:14:37.015709Z",
     "shell.execute_reply": "2023-05-02T19:14:37.015075Z",
     "shell.execute_reply.started": "2023-05-02T19:14:37.009995Z"
    },
    "tags": []
   },
   "outputs": [],
   "source": [
    "scores_df['epsilon_scaled']=(scores_df['epsilon']-scores_df['epsilon'].min())/(scores_df['epsilon'].max()-scores_df['epsilon'].min())\n",
    "scores_df=scores_df.rename(columns={\"well_clustered_total\": \"c-CSI\",\"well_clustered\": \"c-precision\"})"
   ]
  },
  {
   "cell_type": "markdown",
   "id": "8c1f89c2-162a-415f-98dc-1c3983f67bc3",
   "metadata": {},
   "source": [
    "#### Take a look at the scores for each threshold"
   ]
  },
  {
   "cell_type": "code",
   "execution_count": 8,
   "id": "c87fd46c-c4ad-43d4-9e28-b00a814dc7de",
   "metadata": {
    "execution": {
     "iopub.execute_input": "2023-05-02T19:14:37.307922Z",
     "iopub.status.busy": "2023-05-02T19:14:37.307597Z",
     "iopub.status.idle": "2023-05-02T19:14:37.331805Z",
     "shell.execute_reply": "2023-05-02T19:14:37.331151Z",
     "shell.execute_reply.started": "2023-05-02T19:14:37.307901Z"
    },
    "tags": []
   },
   "outputs": [
    {
     "data": {
      "text/html": [
       "<div>\n",
       "<style scoped>\n",
       "    .dataframe tbody tr th:only-of-type {\n",
       "        vertical-align: middle;\n",
       "    }\n",
       "\n",
       "    .dataframe tbody tr th {\n",
       "        vertical-align: top;\n",
       "    }\n",
       "\n",
       "    .dataframe thead th {\n",
       "        text-align: right;\n",
       "    }\n",
       "</style>\n",
       "<table border=\"1\" class=\"dataframe\">\n",
       "  <thead>\n",
       "    <tr style=\"text-align: right;\">\n",
       "      <th></th>\n",
       "      <th>n_clusters</th>\n",
       "      <th>n_epitopes_captured</th>\n",
       "      <th>percent_clustered</th>\n",
       "      <th>percent_clustered_in_largest</th>\n",
       "      <th>percent_labeled_clustered</th>\n",
       "      <th>mean_purity</th>\n",
       "      <th>c-CSI</th>\n",
       "      <th>c-precision</th>\n",
       "      <th>epsilon</th>\n",
       "      <th>epsilon_scaled</th>\n",
       "    </tr>\n",
       "  </thead>\n",
       "  <tbody>\n",
       "    <tr>\n",
       "      <th>eps_2.00</th>\n",
       "      <td>55.0</td>\n",
       "      <td>6.0</td>\n",
       "      <td>11.044989</td>\n",
       "      <td>1.880505</td>\n",
       "      <td>11.044989</td>\n",
       "      <td>99.818182</td>\n",
       "      <td>10.806951</td>\n",
       "      <td>97.844828</td>\n",
       "      <td>2.00</td>\n",
       "      <td>0.000</td>\n",
       "    </tr>\n",
       "    <tr>\n",
       "      <th>eps_3.11</th>\n",
       "      <td>63.0</td>\n",
       "      <td>7.0</td>\n",
       "      <td>15.829564</td>\n",
       "      <td>1.951916</td>\n",
       "      <td>15.829564</td>\n",
       "      <td>98.929774</td>\n",
       "      <td>15.662937</td>\n",
       "      <td>98.947368</td>\n",
       "      <td>3.11</td>\n",
       "      <td>0.111</td>\n",
       "    </tr>\n",
       "    <tr>\n",
       "      <th>eps_4.22</th>\n",
       "      <td>63.0</td>\n",
       "      <td>8.0</td>\n",
       "      <td>18.400381</td>\n",
       "      <td>4.641752</td>\n",
       "      <td>18.400381</td>\n",
       "      <td>98.386243</td>\n",
       "      <td>17.876696</td>\n",
       "      <td>97.153946</td>\n",
       "      <td>4.22</td>\n",
       "      <td>0.222</td>\n",
       "    </tr>\n",
       "    <tr>\n",
       "      <th>eps_5.33</th>\n",
       "      <td>75.0</td>\n",
       "      <td>8.0</td>\n",
       "      <td>21.947155</td>\n",
       "      <td>5.474887</td>\n",
       "      <td>21.947155</td>\n",
       "      <td>97.811111</td>\n",
       "      <td>21.233040</td>\n",
       "      <td>96.746204</td>\n",
       "      <td>5.33</td>\n",
       "      <td>0.333</td>\n",
       "    </tr>\n",
       "    <tr>\n",
       "      <th>eps_6.44</th>\n",
       "      <td>73.0</td>\n",
       "      <td>9.0</td>\n",
       "      <td>24.660795</td>\n",
       "      <td>6.046179</td>\n",
       "      <td>24.660795</td>\n",
       "      <td>97.942724</td>\n",
       "      <td>24.160914</td>\n",
       "      <td>97.972973</td>\n",
       "      <td>6.44</td>\n",
       "      <td>0.444</td>\n",
       "    </tr>\n",
       "    <tr>\n",
       "      <th>eps_7.56</th>\n",
       "      <td>79.0</td>\n",
       "      <td>10.0</td>\n",
       "      <td>27.683885</td>\n",
       "      <td>9.473935</td>\n",
       "      <td>27.683885</td>\n",
       "      <td>96.109462</td>\n",
       "      <td>26.707927</td>\n",
       "      <td>96.474635</td>\n",
       "      <td>7.56</td>\n",
       "      <td>0.556</td>\n",
       "    </tr>\n",
       "    <tr>\n",
       "      <th>eps_8.67</th>\n",
       "      <td>83.0</td>\n",
       "      <td>11.0</td>\n",
       "      <td>31.611521</td>\n",
       "      <td>16.995953</td>\n",
       "      <td>31.611521</td>\n",
       "      <td>95.248369</td>\n",
       "      <td>28.517020</td>\n",
       "      <td>90.210843</td>\n",
       "      <td>8.67</td>\n",
       "      <td>0.667</td>\n",
       "    </tr>\n",
       "    <tr>\n",
       "      <th>eps_9.78</th>\n",
       "      <td>89.0</td>\n",
       "      <td>12.0</td>\n",
       "      <td>36.943585</td>\n",
       "      <td>18.757439</td>\n",
       "      <td>36.943585</td>\n",
       "      <td>93.078775</td>\n",
       "      <td>31.183052</td>\n",
       "      <td>84.407216</td>\n",
       "      <td>9.78</td>\n",
       "      <td>0.778</td>\n",
       "    </tr>\n",
       "    <tr>\n",
       "      <th>eps_10.89</th>\n",
       "      <td>80.0</td>\n",
       "      <td>12.0</td>\n",
       "      <td>44.108546</td>\n",
       "      <td>33.682457</td>\n",
       "      <td>44.108546</td>\n",
       "      <td>92.622859</td>\n",
       "      <td>7.998096</td>\n",
       "      <td>18.132758</td>\n",
       "      <td>10.89</td>\n",
       "      <td>0.889</td>\n",
       "    </tr>\n",
       "    <tr>\n",
       "      <th>eps_12.00</th>\n",
       "      <td>69.0</td>\n",
       "      <td>16.0</td>\n",
       "      <td>51.083075</td>\n",
       "      <td>43.561057</td>\n",
       "      <td>51.083075</td>\n",
       "      <td>94.213364</td>\n",
       "      <td>6.450845</td>\n",
       "      <td>12.628145</td>\n",
       "      <td>12.00</td>\n",
       "      <td>1.000</td>\n",
       "    </tr>\n",
       "  </tbody>\n",
       "</table>\n",
       "</div>"
      ],
      "text/plain": [
       "           n_clusters  n_epitopes_captured  percent_clustered  \\\n",
       "eps_2.00         55.0                  6.0          11.044989   \n",
       "eps_3.11         63.0                  7.0          15.829564   \n",
       "eps_4.22         63.0                  8.0          18.400381   \n",
       "eps_5.33         75.0                  8.0          21.947155   \n",
       "eps_6.44         73.0                  9.0          24.660795   \n",
       "eps_7.56         79.0                 10.0          27.683885   \n",
       "eps_8.67         83.0                 11.0          31.611521   \n",
       "eps_9.78         89.0                 12.0          36.943585   \n",
       "eps_10.89        80.0                 12.0          44.108546   \n",
       "eps_12.00        69.0                 16.0          51.083075   \n",
       "\n",
       "           percent_clustered_in_largest  percent_labeled_clustered  \\\n",
       "eps_2.00                       1.880505                  11.044989   \n",
       "eps_3.11                       1.951916                  15.829564   \n",
       "eps_4.22                       4.641752                  18.400381   \n",
       "eps_5.33                       5.474887                  21.947155   \n",
       "eps_6.44                       6.046179                  24.660795   \n",
       "eps_7.56                       9.473935                  27.683885   \n",
       "eps_8.67                      16.995953                  31.611521   \n",
       "eps_9.78                      18.757439                  36.943585   \n",
       "eps_10.89                     33.682457                  44.108546   \n",
       "eps_12.00                     43.561057                  51.083075   \n",
       "\n",
       "           mean_purity      c-CSI  c-precision  epsilon  epsilon_scaled  \n",
       "eps_2.00     99.818182  10.806951    97.844828     2.00           0.000  \n",
       "eps_3.11     98.929774  15.662937    98.947368     3.11           0.111  \n",
       "eps_4.22     98.386243  17.876696    97.153946     4.22           0.222  \n",
       "eps_5.33     97.811111  21.233040    96.746204     5.33           0.333  \n",
       "eps_6.44     97.942724  24.160914    97.972973     6.44           0.444  \n",
       "eps_7.56     96.109462  26.707927    96.474635     7.56           0.556  \n",
       "eps_8.67     95.248369  28.517020    90.210843     8.67           0.667  \n",
       "eps_9.78     93.078775  31.183052    84.407216     9.78           0.778  \n",
       "eps_10.89    92.622859   7.998096    18.132758    10.89           0.889  \n",
       "eps_12.00    94.213364   6.450845    12.628145    12.00           1.000  "
      ]
     },
     "execution_count": 8,
     "metadata": {},
     "output_type": "execute_result"
    }
   ],
   "source": [
    "scores_df"
   ]
  },
  {
   "cell_type": "markdown",
   "id": "84894854-c3e5-4b01-baa6-2d126074eba1",
   "metadata": {},
   "source": [
    "#### Plot the curve of clustering-Precision vs clustering-CSI"
   ]
  },
  {
   "cell_type": "code",
   "execution_count": 9,
   "id": "07319212-f608-4aa2-80a2-ff55276f78cb",
   "metadata": {
    "execution": {
     "iopub.execute_input": "2023-05-02T19:14:40.009573Z",
     "iopub.status.busy": "2023-05-02T19:14:40.009199Z",
     "iopub.status.idle": "2023-05-02T19:14:40.494352Z",
     "shell.execute_reply": "2023-05-02T19:14:40.493705Z",
     "shell.execute_reply.started": "2023-05-02T19:14:40.009551Z"
    },
    "tags": []
   },
   "outputs": [
    {
     "name": "stderr",
     "output_type": "stream",
     "text": [
      "/tmp/ipykernel_13086/3234763028.py:7: UserWarning: FixedFormatter should only be used together with FixedLocator\n",
      "  axes2.set_yticklabels(axes2.get_yticks(), size = 12)\n",
      "/tmp/ipykernel_13086/3234763028.py:8: UserWarning: FixedFormatter should only be used together with FixedLocator\n",
      "  axes2.set_xticklabels(axes2.get_xticks(), size = 12)\n"
     ]
    },
    {
     "data": {
      "image/png": "[encoded data removed]",
      "text/plain": [
       "<Figure size 612.236x500 with 1 Axes>"
      ]
     },
     "metadata": {},
     "output_type": "display_data"
    }
   ],
   "source": [
    "axes=sns.relplot(x='c-CSI', y='c-precision', size='epsilon_scaled',sizes=(40, 300), alpha=.5 ,data=scores_df,legend='brief')\n",
    "axes2=sns.lineplot(x = 'c-CSI', y = 'c-precision', data = scores_df,sort=False,style=True,dashes=[(2, 2)])\n",
    "axes2.legend().remove()\n",
    "axes2.set(xlabel=None)\n",
    "\n",
    "axes2.set(ylabel=None)\n",
    "axes2.set_yticklabels(axes2.get_yticks(), size = 12)\n",
    "axes2.set_xticklabels(axes2.get_xticks(), size = 12)\n",
    "fig = axes.fig"
   ]
  },
  {
   "cell_type": "code",
   "execution_count": null,
   "id": "1054002c-ffd7-41bf-be5c-cd19e0e88956",
   "metadata": {},
   "outputs": [],
   "source": []
  }
 ],
 "metadata": {
  "kernelspec": {
   "display_name": "tcrvalid_pip_e",
   "language": "python",
   "name": "tcrvalid_pip_e"
  },
  "language_info": {
   "codemirror_mode": {
    "name": "ipython",
    "version": 3
   },
   "file_extension": ".py",
   "mimetype": "text/x-python",
   "name": "python",
   "nbconvert_exporter": "python",
   "pygments_lexer": "ipython3",
   "version": "3.8.16"
  }
 },
 "nbformat": 4,
 "nbformat_minor": 5
}
