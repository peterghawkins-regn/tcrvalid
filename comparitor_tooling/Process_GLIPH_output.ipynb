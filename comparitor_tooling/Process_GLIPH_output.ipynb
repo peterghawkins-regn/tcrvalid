{
 "cells": [
  {
   "cell_type": "code",
   "execution_count": null,
   "id": "e3691f7c-03b5-4e88-8702-1ad81d1fcc45",
   "metadata": {},
   "outputs": [],
   "source": [
    "# Copyright 2023 Regeneron Pharmaceuticals Inc.\n",
    "#\n",
    "# Licensed under the Apache License, Version 2.0 (the \"License\");\n",
    "# you may not use this file except in compliance with the License.\n",
    "# You may obtain a copy of the License at\n",
    "#\n",
    "#     http://www.apache.org/licenses/LICENSE-2.0\n",
    "#\n",
    "# Unless required by applicable law or agreed to in writing, software\n",
    "# distributed under the License is distributed on an \"AS IS\" BASIS,\n",
    "# WITHOUT WARRANTIES OR CONDITIONS OF ANY KIND, either express or implied.\n",
    "# See the License for the specific language governing permissions and\n",
    "# limitations under the License."
   ]
  },
  {
   "cell_type": "markdown",
   "id": "f945b6f8-a79b-4736-bb85-5939238f9435",
   "metadata": {},
   "source": [
    "## Import cluster scoring from GLIPH webtool and process \n"
   ]
  },
  {
   "cell_type": "code",
   "execution_count": 32,
   "id": "89ec7013-4380-442a-bfd2-cb430e09e334",
   "metadata": {
    "execution": {
     "iopub.execute_input": "2023-11-21T13:00:21.374248Z",
     "iopub.status.busy": "2023-11-21T13:00:21.373869Z",
     "iopub.status.idle": "2023-11-21T13:00:21.379488Z",
     "shell.execute_reply": "2023-11-21T13:00:21.378693Z",
     "shell.execute_reply.started": "2023-11-21T13:00:21.374223Z"
    },
    "tags": []
   },
   "outputs": [],
   "source": [
    "import os \n",
    "import sys\n",
    "sys.path.append('distance_based_tools')\n",
    "import pandas as pd\n",
    "import numpy as np\n",
    "import seaborn as sns\n",
    "import matplotlib.pyplot as plt\n",
    "pd.options.mode.chained_assignment = None\n",
    "from tcrclustering.cluster.helper import (\n",
    "    tcrdist_parallel_simple_run,\n",
    "    tcrdist_simple_run,\n",
    "    ismart_simple_run\n",
    ")\n",
    "from tcrvalid.cluster_loop import *\n",
    "from tcrvalid.data_subsetting import make_subset,sources_,chains_,features_\n",
    "from tcrvalid.metrics import get_cluster_purity_df,clustering_scoring\n",
    "from tcrvalid.defaults import *\n",
    "from tcrclustering.cluster.prep_gliph_data import *\n",
    "from tcrvalid.load_models import *\n",
    "from tcrvalid.physio_embedding import SeqArrayDictConverter"
   ]
  },
  {
   "cell_type": "markdown",
   "id": "5686a6f0-f251-4ae7-882e-ad1c0dfcade0",
   "metadata": {},
   "source": [
    "## Import output from GLIPH webtool and process for plotting\n",
    "\n",
    "- Add cluster size column for downstream filtering\n",
    "- Remove duplicate TCRs that appear in multiple clusters and only keep first instance aka in largest cluster. \n",
    "- Filter out singleton clusters\n",
    "- Merge with the original reference data as the clustering output only returns clustered TCRs\n",
    "- Add -1 labels to unclustered TCRs from reference in order to compute CSI and precision"
   ]
  },
  {
   "cell_type": "code",
   "execution_count": 33,
   "id": "6c552d21-946b-4b44-a4eb-ef1f040db365",
   "metadata": {
    "execution": {
     "iopub.execute_input": "2023-11-21T13:00:22.374967Z",
     "iopub.status.busy": "2023-11-21T13:00:22.374371Z",
     "iopub.status.idle": "2023-11-21T13:00:22.384670Z",
     "shell.execute_reply": "2023-11-21T13:00:22.383996Z",
     "shell.execute_reply.started": "2023-11-21T13:00:22.374937Z"
    },
    "tags": []
   },
   "outputs": [],
   "source": [
    "def prep_GLIPH_web_output(GLIPH_input,GLIPH_output,HQ=False):\n",
    "    if GLIPH_input=='gliph_ref':\n",
    "        Glip_input_raw=prep_gliph_data('TRB','ref')\n",
    "    elif GLIPH_input=='tcrvalid_ref':\n",
    "        Glip_input_raw = get_data('TRB', False)\n",
    "    elif HQ==True:\n",
    "        input_path='../tcrvalid/data/Prep_data_GLIPH/'+str(GLIPH_input)\n",
    "        Glip_input_raw=pd.read_csv(input_path,sep='\\t')\n",
    "    else:\n",
    "        input_path='../tcrvalid/data/Prep_data_GLIPH/'+str(GLIPH_input)\n",
    "        Glip_input_raw=pd.read_csv(input_path)\n",
    "        \n",
    "        \n",
    "    output_path='./Spikein_scores/GLIPH_webtool_output/GLIPH_output/Ref48_V1/'+str(GLIPH_output)\n",
    "\n",
    "    gliph_output_raw = pd.read_csv(output_path)\n",
    "    gliph_output = gliph_output_raw[[\"index\", 'V','J','TcRb','TcRa',' number_unique_cdr3']]\n",
    "    gliph_output=gliph_output.rename(columns={'index':'GLIPH_cluster','V':'v_gene_TRB','J':'j_gene_TRB','TcRa':'peptide','TcRb':'cdr3_TRB'})\n",
    "    \n",
    "    ## doublecount option to remove the duplicates in GLIPH clustering output by only keeping the instance in the largest cluster.\n",
    "    gliph_output_trim=gliph_output.drop_duplicates(subset = ['cdr3_TRB', 'v_gene_TRB','j_gene_TRB']).reset_index(drop = True)\n",
    "    gliph_output_trim['freq_count'] = gliph_output_trim.groupby('GLIPH_cluster')['GLIPH_cluster'].transform('count')\n",
    "    gliph_output_trim = gliph_output_trim[gliph_output_trim.freq_count!=1]\n",
    "    \n",
    "        \n",
    "    gliph_output['freq_count'] = gliph_output.groupby('GLIPH_cluster')['GLIPH_cluster'].transform('count')\n",
    "    \n",
    "    df_cl = Glip_input_raw.merge(gliph_output, how='left',on=['cdr3_TRB','v_gene_TRB','j_gene_TRB'])\n",
    "    df_cl_trim = Glip_input_raw.merge(gliph_output_trim, how='left',on=['cdr3_TRB','v_gene_TRB','j_gene_TRB'])\n",
    "\n",
    "    df_cl['GLIPH_cluster'] = df_cl['GLIPH_cluster'].fillna(-1)\n",
    "    df_cl_trim['GLIPH_cluster'] = df_cl_trim['GLIPH_cluster'].fillna(-1)\n",
    "    df_cl_min3=df_cl.copy()\n",
    "    df_cl_min3.loc[df_cl_min3.freq_count == 2, 'GLIPH_cluster'] = -1 \n",
    "    df_cl_trim_min3=df_cl_trim.copy()\n",
    "    df_cl_trim_min3.loc[df_cl_trim_min3.freq_count == 2, 'GLIPH_cluster'] = -1 \n",
    "    df_list=[df_cl,df_cl_min3,df_cl_trim,df_cl_trim_min3]\n",
    "    score_df_f=pd.DataFrame()\n",
    "    for df in df_list:\n",
    "        score=clustering_scoring(\n",
    "            df,\n",
    "            df, \n",
    "            epitope_col='peptide_x',\n",
    "            cluster_col='GLIPH_cluster',\n",
    "            )[0]        \n",
    "        score_df_int=pd.DataFrame.from_dict(score,orient='index').T\n",
    "        score_df_f=score_df_f.append(score_df_int)\n",
    "    \n",
    "    \n",
    "    score_df_f=score_df_f.rename(columns={\"well_clustered_total\": \"c-CSI\",\"well_clustered\": \"c-precision\"})\n",
    "    score_df_f['minsize']=[2,3,2,3]\n",
    "    score_df_f['method']='GLIPH'\n",
    "    score_df_f['Doublecount']=[True,True,False,False]\n",
    "    score_df_f['reference']=str(GLIPH_input)\n",
    "    return score_df_f\n"
   ]
  },
  {
   "cell_type": "code",
   "execution_count": 34,
   "id": "37d642fb-3cd9-41dd-a963-6d5ee6a8aff9",
   "metadata": {
    "execution": {
     "iopub.execute_input": "2023-11-21T13:00:22.403077Z",
     "iopub.status.busy": "2023-11-21T13:00:22.402784Z",
     "iopub.status.idle": "2023-11-21T13:00:27.561437Z",
     "shell.execute_reply": "2023-11-21T13:00:27.560817Z",
     "shell.execute_reply.started": "2023-11-21T13:00:22.403057Z"
    },
    "tags": []
   },
   "outputs": [],
   "source": [
    "Gliph_ref_df=prep_GLIPH_web_output('gliph_ref','Gliph_ref_Gliphclustered_48RefV1.csv')\n",
    "Gliph_ref_df['spike_x']=0\n",
    "Gliph_ref_df['label_reference']='gliph'\n",
    "\n",
    "spike1_df=prep_GLIPH_web_output('df_spike1_ref_hash.csv','GliphRefSpike1_GliphClustered_48RefV1.csv')\n",
    "spike1_df['spike_x']=1\n",
    "spike1_df['label_reference']='gliph'\n",
    "\n",
    "tcrvalid_ref_df=prep_GLIPH_web_output('tcrvalid_ref','tcrvalid_reference_GliphClustered_48RefV1.csv')\n",
    "tcrvalid_ref_df['spike_x']=0\n",
    "tcrvalid_ref_df['label_reference']='tcrvalid'\n",
    "Glip_tool_df=(spike1_df.append(Gliph_ref_df)).append(tcrvalid_ref_df)"
   ]
  },
  {
   "cell_type": "code",
   "execution_count": 35,
   "id": "2fb64eaf-739b-4002-ba55-a2c57019cb20",
   "metadata": {
    "execution": {
     "iopub.execute_input": "2023-11-21T13:00:27.563045Z",
     "iopub.status.busy": "2023-11-21T13:00:27.562606Z",
     "iopub.status.idle": "2023-11-21T13:00:43.368712Z",
     "shell.execute_reply": "2023-11-21T13:00:43.368082Z",
     "shell.execute_reply.started": "2023-11-21T13:00:27.563024Z"
    },
    "tags": []
   },
   "outputs": [],
   "source": [
    "spike_df_f=pd.DataFrame()\n",
    "for n in range(2,6):\n",
    "    gliph_input_name='df_spike'+str(n)+'_hash.csv'\n",
    "    gliph_output_name='GliphRefSpike'+str(n)+'_GliphClustered_48RefV1.csv'\n",
    "\n",
    "    spike_df=prep_GLIPH_web_output(gliph_input_name,gliph_output_name)\n",
    "    spike_df['spike_x']=n\n",
    "    spike_df['label_reference']='gliph'\n",
    "    spike_df_f=spike_df_f.append(spike_df)\n",
    "\n",
    "    "
   ]
  },
  {
   "cell_type": "code",
   "execution_count": 36,
   "id": "d5bba93e-c4c1-42db-abfc-fe0eb1cc15bf",
   "metadata": {
    "execution": {
     "iopub.execute_input": "2023-11-21T13:00:43.369816Z",
     "iopub.status.busy": "2023-11-21T13:00:43.369532Z",
     "iopub.status.idle": "2023-11-21T13:00:59.713731Z",
     "shell.execute_reply": "2023-11-21T13:00:59.713127Z",
     "shell.execute_reply.started": "2023-11-21T13:00:43.369796Z"
    },
    "tags": []
   },
   "outputs": [],
   "source": [
    "spike_df_tcrvalid_ref=pd.DataFrame()\n",
    "for n in range(1,6):\n",
    "    gliph_input_name='df_ref_tcrvalid_spike_'+str(n)+'_hash.csv'\n",
    "    gliph_output_name='tcrvalidRefSpike'+str(n)+'_GliphClustered.csv'\n",
    "\n",
    "    spike_df=prep_GLIPH_web_output(gliph_input_name,gliph_output_name)\n",
    "    spike_df['spike_x']=n\n",
    "    spike_df['label_reference']='tcrvalid'\n",
    "    spike_df_tcrvalid_ref=spike_df_tcrvalid_ref.append(spike_df)"
   ]
  },
  {
   "cell_type": "code",
   "execution_count": 37,
   "id": "b578a194-19d0-4fa1-a93d-87ccaea4eb53",
   "metadata": {
    "execution": {
     "iopub.execute_input": "2023-11-21T13:00:59.715356Z",
     "iopub.status.busy": "2023-11-21T13:00:59.715070Z",
     "iopub.status.idle": "2023-11-21T13:01:11.178763Z",
     "shell.execute_reply": "2023-11-21T13:01:11.178153Z",
     "shell.execute_reply.started": "2023-11-21T13:00:59.715336Z"
    },
    "tags": []
   },
   "outputs": [],
   "source": [
    "spike_dfHQ_f=pd.DataFrame()\n",
    "for n in range(1,6):\n",
    "    gliph_input_name='df_spike_HQ'+str(n)+'_hash.csv'\n",
    "    gliph_output_name='GliphRefHQSpike'+str(n)+'_GliphClustered_48RefV1.csv'\n",
    "\n",
    "    spike_df=prep_GLIPH_web_output(gliph_input_name,gliph_output_name)\n",
    "    spike_df['spike_x']=n\n",
    "    spike_df['label_reference']='gliph_HQ'\n",
    "    spike_dfHQ_f=spike_dfHQ_f.append(spike_df)"
   ]
  },
  {
   "cell_type": "code",
   "execution_count": 38,
   "id": "e67723d3-9123-4e4d-a054-52419382332c",
   "metadata": {
    "execution": {
     "iopub.execute_input": "2023-11-21T13:01:11.179866Z",
     "iopub.status.busy": "2023-11-21T13:01:11.179579Z",
     "iopub.status.idle": "2023-11-21T13:01:11.676147Z",
     "shell.execute_reply": "2023-11-21T13:01:11.675392Z",
     "shell.execute_reply.started": "2023-11-21T13:01:11.179846Z"
    },
    "tags": []
   },
   "outputs": [
    {
     "data": {
      "text/html": [
       "<div>\n",
       "<style scoped>\n",
       "    .dataframe tbody tr th:only-of-type {\n",
       "        vertical-align: middle;\n",
       "    }\n",
       "\n",
       "    .dataframe tbody tr th {\n",
       "        vertical-align: top;\n",
       "    }\n",
       "\n",
       "    .dataframe thead th {\n",
       "        text-align: right;\n",
       "    }\n",
       "</style>\n",
       "<table border=\"1\" class=\"dataframe\">\n",
       "  <thead>\n",
       "    <tr style=\"text-align: right;\">\n",
       "      <th></th>\n",
       "      <th>n_clusters</th>\n",
       "      <th>n_epitopes_captured</th>\n",
       "      <th>percent_clustered</th>\n",
       "      <th>percent_clustered_in_largest</th>\n",
       "      <th>percent_labeled_clustered</th>\n",
       "      <th>mean_purity</th>\n",
       "      <th>c-CSI</th>\n",
       "      <th>c-precision</th>\n",
       "      <th>minsize</th>\n",
       "      <th>method</th>\n",
       "      <th>Doublecount</th>\n",
       "      <th>reference</th>\n",
       "      <th>spike_x</th>\n",
       "      <th>label_reference</th>\n",
       "    </tr>\n",
       "  </thead>\n",
       "  <tbody>\n",
       "    <tr>\n",
       "      <th>0</th>\n",
       "      <td>191.0</td>\n",
       "      <td>12.0</td>\n",
       "      <td>50.931174</td>\n",
       "      <td>2.510121</td>\n",
       "      <td>33.333333</td>\n",
       "      <td>93.356272</td>\n",
       "      <td>23.212321</td>\n",
       "      <td>69.636964</td>\n",
       "      <td>2</td>\n",
       "      <td>GLIPH</td>\n",
       "      <td>True</td>\n",
       "      <td>GLIPH_RefHQ.csv</td>\n",
       "      <td>0</td>\n",
       "      <td>gliph_HQ</td>\n",
       "    </tr>\n",
       "    <tr>\n",
       "      <th>0</th>\n",
       "      <td>78.0</td>\n",
       "      <td>8.0</td>\n",
       "      <td>32.631579</td>\n",
       "      <td>2.510121</td>\n",
       "      <td>18.811881</td>\n",
       "      <td>89.989164</td>\n",
       "      <td>10.451045</td>\n",
       "      <td>55.555556</td>\n",
       "      <td>3</td>\n",
       "      <td>GLIPH</td>\n",
       "      <td>True</td>\n",
       "      <td>GLIPH_RefHQ.csv</td>\n",
       "      <td>0</td>\n",
       "      <td>gliph_HQ</td>\n",
       "    </tr>\n",
       "    <tr>\n",
       "      <th>0</th>\n",
       "      <td>84.0</td>\n",
       "      <td>12.0</td>\n",
       "      <td>28.822882</td>\n",
       "      <td>3.410341</td>\n",
       "      <td>28.822882</td>\n",
       "      <td>90.113501</td>\n",
       "      <td>18.701870</td>\n",
       "      <td>64.885496</td>\n",
       "      <td>2</td>\n",
       "      <td>GLIPH</td>\n",
       "      <td>False</td>\n",
       "      <td>GLIPH_RefHQ.csv</td>\n",
       "      <td>0</td>\n",
       "      <td>gliph_HQ</td>\n",
       "    </tr>\n",
       "    <tr>\n",
       "      <th>0</th>\n",
       "      <td>28.0</td>\n",
       "      <td>8.0</td>\n",
       "      <td>16.501650</td>\n",
       "      <td>3.410341</td>\n",
       "      <td>16.501650</td>\n",
       "      <td>89.983359</td>\n",
       "      <td>8.800880</td>\n",
       "      <td>53.333333</td>\n",
       "      <td>3</td>\n",
       "      <td>GLIPH</td>\n",
       "      <td>False</td>\n",
       "      <td>GLIPH_RefHQ.csv</td>\n",
       "      <td>0</td>\n",
       "      <td>gliph_HQ</td>\n",
       "    </tr>\n",
       "  </tbody>\n",
       "</table>\n",
       "</div>"
      ],
      "text/plain": [
       "   n_clusters  n_epitopes_captured  percent_clustered  \\\n",
       "0       191.0                 12.0          50.931174   \n",
       "0        78.0                  8.0          32.631579   \n",
       "0        84.0                 12.0          28.822882   \n",
       "0        28.0                  8.0          16.501650   \n",
       "\n",
       "   percent_clustered_in_largest  percent_labeled_clustered  mean_purity  \\\n",
       "0                      2.510121                  33.333333    93.356272   \n",
       "0                      2.510121                  18.811881    89.989164   \n",
       "0                      3.410341                  28.822882    90.113501   \n",
       "0                      3.410341                  16.501650    89.983359   \n",
       "\n",
       "       c-CSI  c-precision  minsize method  Doublecount        reference  \\\n",
       "0  23.212321    69.636964        2  GLIPH         True  GLIPH_RefHQ.csv   \n",
       "0  10.451045    55.555556        3  GLIPH         True  GLIPH_RefHQ.csv   \n",
       "0  18.701870    64.885496        2  GLIPH        False  GLIPH_RefHQ.csv   \n",
       "0   8.800880    53.333333        3  GLIPH        False  GLIPH_RefHQ.csv   \n",
       "\n",
       "   spike_x label_reference  \n",
       "0        0        gliph_HQ  \n",
       "0        0        gliph_HQ  \n",
       "0        0        gliph_HQ  \n",
       "0        0        gliph_HQ  "
      ]
     },
     "execution_count": 38,
     "metadata": {},
     "output_type": "execute_result"
    }
   ],
   "source": [
    "##Note due to some weird format issue of my making prep_web_output input csv loading must be changed to sep='\\t'\n",
    "Gliph_refHQf_df=prep_GLIPH_web_output('GLIPH_RefHQ.csv','GliphRefHQ_GliphClustered_48RefV1.csv',HQ=True)\n",
    "Gliph_refHQf_df['spike_x']=0\n",
    "Gliph_refHQf_df['label_reference']='gliph_HQ'"
   ]
  },
  {
   "cell_type": "markdown",
   "id": "346dfb76-e97e-491e-ae8a-a484161087a3",
   "metadata": {},
   "source": [
    "### Concat all score df and save into meta table for GLIPH outputs"
   ]
  },
  {
   "cell_type": "code",
   "execution_count": 39,
   "id": "e67684bc-bf86-4a76-a2b4-a1c918572ff3",
   "metadata": {
    "execution": {
     "iopub.execute_input": "2023-11-21T13:01:11.677675Z",
     "iopub.status.busy": "2023-11-21T13:01:11.677144Z",
     "iopub.status.idle": "2023-11-21T13:01:11.692407Z",
     "shell.execute_reply": "2023-11-21T13:01:11.691869Z",
     "shell.execute_reply.started": "2023-11-21T13:01:11.677642Z"
    },
    "tags": []
   },
   "outputs": [],
   "source": [
    "Glip_tool_df=pd.concat([Gliph_ref_df,spike1_df,spike_df_f,Gliph_refHQf_df,spike_dfHQ_f,tcrvalid_ref_df,spike_df_tcrvalid_ref])\n",
    "Glip_tool_df.to_csv('./Spikein_scores/Gliph_webtool_scored_df_withHQ_score.csv')"
   ]
  },
  {
   "cell_type": "code",
   "execution_count": null,
   "id": "a0330f22-4e5a-483c-8846-d98d866e5bca",
   "metadata": {},
   "outputs": [],
   "source": [
    "# Copyright 2023 Regeneron Pharmaceuticals Inc.\n",
    "#\n",
    "# Licensed under the Apache License, Version 2.0 (the \"License\");\n",
    "# you may not use this file except in compliance with the License.\n",
    "# You may obtain a copy of the License at\n",
    "#\n",
    "#     http://www.apache.org/licenses/LICENSE-2.0\n",
    "#\n",
    "# Unless required by applicable law or agreed to in writing, software\n",
    "# distributed under the License is distributed on an \"AS IS\" BASIS,\n",
    "# WITHOUT WARRANTIES OR CONDITIONS OF ANY KIND, either express or implied.\n",
    "# See the License for the specific language governing permissions and\n",
    "# limitations under the License."
   ]
  }
 ],
 "metadata": {
  "kernelspec": {
   "display_name": "tcrvalid",
   "language": "python",
   "name": "tcrvalid"
  },
  "language_info": {
   "codemirror_mode": {
    "name": "ipython",
    "version": 3
   },
   "file_extension": ".py",
   "mimetype": "text/x-python",
   "name": "python",
   "nbconvert_exporter": "python",
   "pygments_lexer": "ipython3",
   "version": "3.8.16"
  }
 },
 "nbformat": 4,
 "nbformat_minor": 5
}
