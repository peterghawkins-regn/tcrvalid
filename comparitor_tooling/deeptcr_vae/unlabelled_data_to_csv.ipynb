{
 "cells": [
  {
   "cell_type": "code",
   "execution_count": null,
   "id": "5cd7571d-18cf-466f-b2e0-e7c4f5e4ed34",
   "metadata": {},
   "outputs": [],
   "source": [
    "# Copyright 2023 Regeneron Pharmaceuticals Inc.\n",
    "#\n",
    "# Licensed under the Apache License, Version 2.0 (the \"License\");\n",
    "# you may not use this file except in compliance with the License.\n",
    "# You may obtain a copy of the License at\n",
    "#\n",
    "#     http://www.apache.org/licenses/LICENSE-2.0\n",
    "#\n",
    "# Unless required by applicable law or agreed to in writing, software\n",
    "# distributed under the License is distributed on an \"AS IS\" BASIS,\n",
    "# WITHOUT WARRANTIES OR CONDITIONS OF ANY KIND, either express or implied.\n",
    "# See the License for the specific language governing permissions and\n",
    "# limitations under the License."
   ]
  },
  {
   "cell_type": "markdown",
   "id": "3fa30429-88db-4670-87f7-55485725516a",
   "metadata": {},
   "source": [
    "### Due to pandas version issues - prepare unlabelled data in tcrvalid environment\n",
    " - save to csv for pickup inside a deeptcr environment"
   ]
  },
  {
   "cell_type": "code",
   "execution_count": 1,
   "id": "1ef27e5a-a4a0-44ee-a461-22dc3f57b905",
   "metadata": {
    "execution": {
     "iopub.execute_input": "2023-10-23T19:08:31.194138Z",
     "iopub.status.busy": "2023-10-23T19:08:31.193775Z",
     "iopub.status.idle": "2023-10-23T19:08:32.336517Z",
     "shell.execute_reply": "2023-10-23T19:08:32.335829Z",
     "shell.execute_reply.started": "2023-10-23T19:08:31.194116Z"
    },
    "tags": []
   },
   "outputs": [],
   "source": [
    "import pandas as pd\n",
    "from tcrvalid.defaults import *"
   ]
  },
  {
   "cell_type": "code",
   "execution_count": 2,
   "id": "47f3856a-8368-492b-bd82-78481610e3c5",
   "metadata": {
    "execution": {
     "iopub.execute_input": "2023-10-23T19:08:32.337997Z",
     "iopub.status.busy": "2023-10-23T19:08:32.337661Z",
     "iopub.status.idle": "2023-10-23T19:08:32.341306Z",
     "shell.execute_reply": "2023-10-23T19:08:32.340688Z",
     "shell.execute_reply.started": "2023-10-23T19:08:32.337976Z"
    },
    "tags": []
   },
   "outputs": [],
   "source": [
    "trb_test_pq = data_path_small_trb['te']    \n",
    "tra_test_pq = data_path_full_tra['te']"
   ]
  },
  {
   "cell_type": "code",
   "execution_count": 3,
   "id": "61714035-4d33-4bd0-967a-d76d1300e4c8",
   "metadata": {
    "execution": {
     "iopub.execute_input": "2023-10-23T19:08:32.342205Z",
     "iopub.status.busy": "2023-10-23T19:08:32.342016Z",
     "iopub.status.idle": "2023-10-23T19:08:32.886986Z",
     "shell.execute_reply": "2023-10-23T19:08:32.886355Z",
     "shell.execute_reply.started": "2023-10-23T19:08:32.342188Z"
    },
    "tags": []
   },
   "outputs": [],
   "source": [
    "te_seq_trb_df = pd.read_parquet(trb_test_pq, columns=['new_meta_vcall','cdr2_cdr3']).head(100000)\n",
    "te_seq_tra_df = pd.read_parquet(tra_test_pq, columns=['new_meta_vcall','cdr2_cdr3']).head(100000)"
   ]
  },
  {
   "cell_type": "code",
   "execution_count": 4,
   "id": "e61d67a6-8802-43d1-972e-564f4da6a568",
   "metadata": {
    "execution": {
     "iopub.execute_input": "2023-10-23T19:08:32.888749Z",
     "iopub.status.busy": "2023-10-23T19:08:32.888318Z",
     "iopub.status.idle": "2023-10-23T19:08:32.979492Z",
     "shell.execute_reply": "2023-10-23T19:08:32.978915Z",
     "shell.execute_reply.started": "2023-10-23T19:08:32.888726Z"
    },
    "tags": []
   },
   "outputs": [],
   "source": [
    "def tojunction(x):\n",
    "    cdr3 = x.split('-')[1]\n",
    "    j = 'C'+cdr3+'F'\n",
    "    return j\n",
    "\n",
    "for df_ in [te_seq_tra_df,te_seq_trb_df]:\n",
    "    df_['junction_aa'] = df_['cdr2_cdr3'].map(tojunction)"
   ]
  },
  {
   "cell_type": "code",
   "execution_count": 5,
   "id": "e8e2f03c-5665-4937-a620-4fba868d8b12",
   "metadata": {
    "execution": {
     "iopub.execute_input": "2023-10-23T19:08:32.980590Z",
     "iopub.status.busy": "2023-10-23T19:08:32.980291Z",
     "iopub.status.idle": "2023-10-23T19:08:33.361669Z",
     "shell.execute_reply": "2023-10-23T19:08:33.361049Z",
     "shell.execute_reply.started": "2023-10-23T19:08:32.980569Z"
    },
    "tags": []
   },
   "outputs": [],
   "source": [
    "te_seq_trb_df.to_csv('trb_unlabelled.csv',index=False)\n",
    "te_seq_tra_df.to_csv('tra_unlabelled.csv',index=False)"
   ]
  },
  {
   "cell_type": "code",
   "execution_count": null,
   "id": "50c26c46-ad72-42b3-b8c9-8c28289588e3",
   "metadata": {},
   "outputs": [],
   "source": []
  }
 ],
 "metadata": {
  "kernelspec": {
   "display_name": "tcrvalid_pip_e",
   "language": "python",
   "name": "tcrvalid_pip_e"
  },
  "language_info": {
   "codemirror_mode": {
    "name": "ipython",
    "version": 3
   },
   "file_extension": ".py",
   "mimetype": "text/x-python",
   "name": "python",
   "nbconvert_exporter": "python",
   "pygments_lexer": "ipython3",
   "version": "3.8.16"
  }
 },
 "nbformat": 4,
 "nbformat_minor": 5
}
