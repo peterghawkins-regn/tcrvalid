{
 "cells": [
  {
   "cell_type": "code",
   "execution_count": null,
   "id": "f0b9a9a3-aa4b-4e9b-9307-8438e6d8ff92",
   "metadata": {},
   "outputs": [],
   "source": [
    "# Copyright 2023 Regeneron Pharmaceuticals Inc.\n",
    "#\n",
    "# Licensed under the Apache License, Version 2.0 (the \"License\");\n",
    "# you may not use this file except in compliance with the License.\n",
    "# You may obtain a copy of the License at\n",
    "#\n",
    "#     http://www.apache.org/licenses/LICENSE-2.0\n",
    "#\n",
    "# Unless required by applicable law or agreed to in writing, software\n",
    "# distributed under the License is distributed on an \"AS IS\" BASIS,\n",
    "# WITHOUT WARRANTIES OR CONDITIONS OF ANY KIND, either express or implied.\n",
    "# See the License for the specific language governing permissions and\n",
    "# limitations under the License."
   ]
  },
  {
   "cell_type": "code",
   "execution_count": 1,
   "id": "4ac6782b-5fc5-4430-8472-8bcbedd0ece5",
   "metadata": {
    "execution": {
     "iopub.execute_input": "2023-11-18T17:27:00.719558Z",
     "iopub.status.busy": "2023-11-18T17:27:00.719196Z",
     "iopub.status.idle": "2023-11-18T17:27:01.784927Z",
     "shell.execute_reply": "2023-11-18T17:27:01.784286Z",
     "shell.execute_reply.started": "2023-11-18T17:27:00.719532Z"
    },
    "tags": []
   },
   "outputs": [],
   "source": [
    "import pandas as pd\n",
    "import numpy as np\n",
    "import json\n",
    "import os"
   ]
  },
  {
   "cell_type": "code",
   "execution_count": 2,
   "id": "8e147db9-1bd2-4245-8995-30a12ec4cc9e",
   "metadata": {
    "execution": {
     "iopub.execute_input": "2023-11-18T17:27:01.786445Z",
     "iopub.status.busy": "2023-11-18T17:27:01.786110Z",
     "iopub.status.idle": "2023-11-18T17:27:02.855068Z",
     "shell.execute_reply": "2023-11-18T17:27:02.854440Z",
     "shell.execute_reply.started": "2023-11-18T17:27:01.786423Z"
    },
    "tags": []
   },
   "outputs": [],
   "source": [
    "from sklearn.cluster import DBSCAN"
   ]
  },
  {
   "cell_type": "code",
   "execution_count": 3,
   "id": "89b3176c-a036-4a3e-9eca-d5fc06180f4c",
   "metadata": {
    "execution": {
     "iopub.execute_input": "2023-11-18T17:27:02.856337Z",
     "iopub.status.busy": "2023-11-18T17:27:02.855923Z",
     "iopub.status.idle": "2023-11-18T17:27:02.864404Z",
     "shell.execute_reply": "2023-11-18T17:27:02.863792Z",
     "shell.execute_reply.started": "2023-11-18T17:27:02.856316Z"
    },
    "tags": []
   },
   "outputs": [],
   "source": [
    "from tcrvalid.metrics import clustering_scoring"
   ]
  },
  {
   "cell_type": "code",
   "execution_count": 34,
   "id": "44edd6b2-7577-4202-9740-3194a3bb5216",
   "metadata": {
    "execution": {
     "iopub.execute_input": "2023-11-18T17:59:25.853792Z",
     "iopub.status.busy": "2023-11-18T17:59:25.853398Z",
     "iopub.status.idle": "2023-11-18T17:59:25.878320Z",
     "shell.execute_reply": "2023-11-18T17:59:25.877696Z",
     "shell.execute_reply.started": "2023-11-18T17:59:25.853768Z"
    },
    "tags": []
   },
   "outputs": [],
   "source": [
    "pre = 'deeptcr_features'\n",
    "base = 'deeptcr_datafeats'\n",
    "chain = 'TRB'\n",
    "minsize = 2\n",
    "\n",
    "name = os.path.join(\n",
    "    pre,\n",
    "    base+'_'+chain+'_'+str(minsize)\n",
    ")\n",
    "features = np.load(name+'/features.npy')\n",
    "labels = np.load(name+'/labels.npy')\n",
    "df = pd.read_csv(name+'/input_df_predeeptcrreformat.csv')\n",
    "with open(name+'/labelnames.json','r') as fp:\n",
    "    idx_to_class = json.load(fp)"
   ]
  },
  {
   "cell_type": "code",
   "execution_count": 35,
   "id": "894609d6-2563-4561-88aa-cb88ca520b33",
   "metadata": {
    "execution": {
     "iopub.execute_input": "2023-11-18T17:59:27.718843Z",
     "iopub.status.busy": "2023-11-18T17:59:27.718462Z",
     "iopub.status.idle": "2023-11-18T17:59:27.724110Z",
     "shell.execute_reply": "2023-11-18T17:59:27.723311Z",
     "shell.execute_reply.started": "2023-11-18T17:59:27.718818Z"
    },
    "tags": []
   },
   "outputs": [],
   "source": [
    "epitopes = [idx_to_class[str(l)] for l in labels]"
   ]
  },
  {
   "cell_type": "code",
   "execution_count": 20,
   "id": "6d7cc31f-2d1e-4c34-abde-a27d08a77555",
   "metadata": {
    "execution": {
     "iopub.execute_input": "2023-11-18T17:43:52.720923Z",
     "iopub.status.busy": "2023-11-18T17:43:52.720188Z",
     "iopub.status.idle": "2023-11-18T17:43:52.831143Z",
     "shell.execute_reply": "2023-11-18T17:43:52.830002Z",
     "shell.execute_reply.started": "2023-11-18T17:43:52.720895Z"
    },
    "tags": []
   },
   "outputs": [],
   "source": [
    "clustering = DBSCAN(eps=0.3, min_samples=3).fit(features)"
   ]
  },
  {
   "cell_type": "code",
   "execution_count": null,
   "id": "04fe9550-2158-43a6-a232-e4db4467e41f",
   "metadata": {
    "tags": []
   },
   "outputs": [],
   "source": [
    "df_cl = pd.DataFrame({\n",
    "    'clono_id': np.arange(len(epitopes)),\n",
    "    'sequence_id': np.arange(len(epitopes)),\n",
    "    'epitope': epitopes,\n",
    "    'cluster': clustering.labels_\n",
    "})"
   ]
  },
  {
   "cell_type": "code",
   "execution_count": 14,
   "id": "fbf4d12e-be85-4900-a60e-ee1581d1ee39",
   "metadata": {
    "execution": {
     "iopub.execute_input": "2023-11-18T17:27:50.720453Z",
     "iopub.status.busy": "2023-11-18T17:27:50.720077Z",
     "iopub.status.idle": "2023-11-18T17:27:50.730396Z",
     "shell.execute_reply": "2023-11-18T17:27:50.729872Z",
     "shell.execute_reply.started": "2023-11-18T17:27:50.720430Z"
    },
    "tags": []
   },
   "outputs": [
    {
     "data": {
      "text/html": [
       "<div>\n",
       "<style scoped>\n",
       "    .dataframe tbody tr th:only-of-type {\n",
       "        vertical-align: middle;\n",
       "    }\n",
       "\n",
       "    .dataframe tbody tr th {\n",
       "        vertical-align: top;\n",
       "    }\n",
       "\n",
       "    .dataframe thead th {\n",
       "        text-align: right;\n",
       "    }\n",
       "</style>\n",
       "<table border=\"1\" class=\"dataframe\">\n",
       "  <thead>\n",
       "    <tr style=\"text-align: right;\">\n",
       "      <th></th>\n",
       "      <th>clono_id</th>\n",
       "      <th>sequence_id</th>\n",
       "      <th>epitope</th>\n",
       "      <th>cluster</th>\n",
       "    </tr>\n",
       "  </thead>\n",
       "  <tbody>\n",
       "    <tr>\n",
       "      <th>0</th>\n",
       "      <td>0</td>\n",
       "      <td>0</td>\n",
       "      <td>AAFKRSCLK</td>\n",
       "      <td>-1</td>\n",
       "    </tr>\n",
       "    <tr>\n",
       "      <th>1</th>\n",
       "      <td>1</td>\n",
       "      <td>1</td>\n",
       "      <td>AAFKRSCLK</td>\n",
       "      <td>-1</td>\n",
       "    </tr>\n",
       "    <tr>\n",
       "      <th>2</th>\n",
       "      <td>2</td>\n",
       "      <td>2</td>\n",
       "      <td>AAFKRSCLK</td>\n",
       "      <td>-1</td>\n",
       "    </tr>\n",
       "    <tr>\n",
       "      <th>3</th>\n",
       "      <td>3</td>\n",
       "      <td>3</td>\n",
       "      <td>AAFKRSCLK</td>\n",
       "      <td>-1</td>\n",
       "    </tr>\n",
       "    <tr>\n",
       "      <th>4</th>\n",
       "      <td>4</td>\n",
       "      <td>4</td>\n",
       "      <td>ALDPHSGHFV</td>\n",
       "      <td>-1</td>\n",
       "    </tr>\n",
       "    <tr>\n",
       "      <th>...</th>\n",
       "      <td>...</td>\n",
       "      <td>...</td>\n",
       "      <td>...</td>\n",
       "      <td>...</td>\n",
       "    </tr>\n",
       "    <tr>\n",
       "      <th>2907</th>\n",
       "      <td>2907</td>\n",
       "      <td>2907</td>\n",
       "      <td>YLQPRTFLL</td>\n",
       "      <td>-1</td>\n",
       "    </tr>\n",
       "    <tr>\n",
       "      <th>2908</th>\n",
       "      <td>2908</td>\n",
       "      <td>2908</td>\n",
       "      <td>YLQPRTFLL</td>\n",
       "      <td>-1</td>\n",
       "    </tr>\n",
       "    <tr>\n",
       "      <th>2909</th>\n",
       "      <td>2909</td>\n",
       "      <td>2909</td>\n",
       "      <td>YLQPRTFLL</td>\n",
       "      <td>-1</td>\n",
       "    </tr>\n",
       "    <tr>\n",
       "      <th>2910</th>\n",
       "      <td>2910</td>\n",
       "      <td>2910</td>\n",
       "      <td>YLQPRTFLL</td>\n",
       "      <td>-1</td>\n",
       "    </tr>\n",
       "    <tr>\n",
       "      <th>2911</th>\n",
       "      <td>2911</td>\n",
       "      <td>2911</td>\n",
       "      <td>YLQPRTFLL</td>\n",
       "      <td>-1</td>\n",
       "    </tr>\n",
       "  </tbody>\n",
       "</table>\n",
       "<p>2912 rows × 4 columns</p>\n",
       "</div>"
      ],
      "text/plain": [
       "      clono_id  sequence_id     epitope  cluster\n",
       "0            0            0   AAFKRSCLK       -1\n",
       "1            1            1   AAFKRSCLK       -1\n",
       "2            2            2   AAFKRSCLK       -1\n",
       "3            3            3   AAFKRSCLK       -1\n",
       "4            4            4  ALDPHSGHFV       -1\n",
       "...        ...          ...         ...      ...\n",
       "2907      2907         2907   YLQPRTFLL       -1\n",
       "2908      2908         2908   YLQPRTFLL       -1\n",
       "2909      2909         2909   YLQPRTFLL       -1\n",
       "2910      2910         2910   YLQPRTFLL       -1\n",
       "2911      2911         2911   YLQPRTFLL       -1\n",
       "\n",
       "[2912 rows x 4 columns]"
      ]
     },
     "execution_count": 14,
     "metadata": {},
     "output_type": "execute_result"
    }
   ],
   "source": [
    "df_cl"
   ]
  },
  {
   "cell_type": "code",
   "execution_count": 8,
   "id": "9471ee05-b8ed-42ab-98d1-ad646a4d7856",
   "metadata": {
    "execution": {
     "iopub.execute_input": "2023-11-17T18:21:30.570077Z",
     "iopub.status.busy": "2023-11-17T18:21:30.569459Z",
     "iopub.status.idle": "2023-11-17T18:21:30.673008Z",
     "shell.execute_reply": "2023-11-17T18:21:30.672090Z",
     "shell.execute_reply.started": "2023-11-17T18:21:30.570000Z"
    },
    "tags": []
   },
   "outputs": [],
   "source": [
    "scores, _ = clustering_scoring(\n",
    "    df_cl,\n",
    "    df_cl, \n",
    "    epitope_col='epitope',\n",
    "    cluster_col='cluster',\n",
    ")"
   ]
  },
  {
   "cell_type": "code",
   "execution_count": 9,
   "id": "e4cb6966-1cc8-47b6-bf13-381d3a170f21",
   "metadata": {
    "execution": {
     "iopub.execute_input": "2023-11-17T18:21:31.695521Z",
     "iopub.status.busy": "2023-11-17T18:21:31.695143Z",
     "iopub.status.idle": "2023-11-17T18:21:31.704688Z",
     "shell.execute_reply": "2023-11-17T18:21:31.703846Z",
     "shell.execute_reply.started": "2023-11-17T18:21:31.695491Z"
    },
    "tags": []
   },
   "outputs": [
    {
     "data": {
      "text/plain": [
       "{'n_clusters': 1,\n",
       " 'n_epitopes_captured': 1,\n",
       " 'percent_clustered': 0.07351139426611125,\n",
       " 'percent_clustered_in_largest': 0.07351139426611125,\n",
       " 'percent_labeled_clustered': 0.07351139426611125,\n",
       " 'mean_purity': 100.0,\n",
       " 'well_clustered_total': 0.07351139426611125,\n",
       " 'well_clustered': 100.0}"
      ]
     },
     "execution_count": 9,
     "metadata": {},
     "output_type": "execute_result"
    }
   ],
   "source": [
    "scores"
   ]
  },
  {
   "cell_type": "code",
   "execution_count": 28,
   "id": "c0e50806-cb81-4e34-803f-bb47feba85db",
   "metadata": {
    "execution": {
     "iopub.execute_input": "2023-11-18T17:44:56.720421Z",
     "iopub.status.busy": "2023-11-18T17:44:56.719990Z",
     "iopub.status.idle": "2023-11-18T17:44:56.724721Z",
     "shell.execute_reply": "2023-11-18T17:44:56.724149Z",
     "shell.execute_reply.started": "2023-11-18T17:44:56.720396Z"
    },
    "tags": []
   },
   "outputs": [],
   "source": [
    "def get_scores(eps):\n",
    "    clustering = DBSCAN(eps=eps, min_samples=2).fit(features)\n",
    "    df_cl = pd.DataFrame({\n",
    "        'clono_id': np.arange(len(epitopes)),\n",
    "        'sequence_id': np.arange(len(epitopes)),\n",
    "        'epitope': epitopes,\n",
    "        'cluster': clustering.labels_\n",
    "    })\n",
    "    scores, _ = clustering_scoring(\n",
    "        df_cl,\n",
    "        df_cl, \n",
    "        epitope_col='epitope',\n",
    "        cluster_col='cluster',\n",
    "    )\n",
    "    return scores"
   ]
  },
  {
   "cell_type": "code",
   "execution_count": 57,
   "id": "0e97774c-3592-43cb-87cb-1eaea4f67b7b",
   "metadata": {
    "execution": {
     "iopub.execute_input": "2023-11-18T18:22:36.721380Z",
     "iopub.status.busy": "2023-11-18T18:22:36.720951Z",
     "iopub.status.idle": "2023-11-18T18:22:36.726237Z",
     "shell.execute_reply": "2023-11-18T18:22:36.725466Z",
     "shell.execute_reply.started": "2023-11-18T18:22:36.721352Z"
    }
   },
   "outputs": [
    {
     "data": {
      "text/plain": [
       "'/data/home/allen.leary/repos/tcrvalid/comparitor_tooling/deeptcr_vae'"
      ]
     },
     "execution_count": 57,
     "metadata": {},
     "output_type": "execute_result"
    }
   ],
   "source": [
    "os.getcwd()"
   ]
  },
  {
   "cell_type": "code",
   "execution_count": 60,
   "id": "7e83efe5-9d02-4d47-99b8-b55db2e9285c",
   "metadata": {
    "execution": {
     "iopub.execute_input": "2023-11-18T18:24:06.719943Z",
     "iopub.status.busy": "2023-11-18T18:24:06.719208Z",
     "iopub.status.idle": "2023-11-18T18:24:34.303314Z",
     "shell.execute_reply": "2023-11-18T18:24:34.302690Z",
     "shell.execute_reply.started": "2023-11-18T18:24:06.719914Z"
    },
    "tags": []
   },
   "outputs": [],
   "source": [
    "chain_ = ['TRB','TRA','TR']\n",
    "minsizes_=[2,3]\n",
    "df_deep_tcr_final=pd.DataFrame()\n",
    "for chainz in chain_:\n",
    "    for minsizez in minsizes_:\n",
    "        pre = 'deeptcr_features'\n",
    "        base = 'deeptcr_datafeats'\n",
    "        chain = chainz\n",
    "        minsize = minsizez\n",
    "\n",
    "        name = os.path.join(\n",
    "            pre,\n",
    "            base+'_'+chain+'_'+str(minsize)\n",
    "        )\n",
    "        features = np.load(name+'/features.npy')\n",
    "        labels = np.load(name+'/labels.npy')\n",
    "        df = pd.read_csv(name+'/input_df_predeeptcrreformat.csv')\n",
    "        with open(name+'/labelnames.json','r') as fp:\n",
    "            idx_to_class = json.load(fp)\n",
    "        epitopes = [idx_to_class[str(l)] for l in labels]\n",
    "    \n",
    "        all_scores = []\n",
    "        if chain!='TR':\n",
    "            epses = [0.2,0.3,0.4,0.5,0.6,0.7,0.8,0.9,1.2]\n",
    "        else:\n",
    "            epses = [0.5,1.0,2.0,3.0,4.0,5.0,6.0,7.0,8.0]\n",
    "\n",
    "        for eps in epses:\n",
    "            print(eps)\n",
    "            all_scores.append( get_scores(eps) )\n",
    "        df_deep_tcr=pd.DataFrame()\n",
    "        df_deep_tcr['eps']=epses\n",
    "        df_deep_tcr['well_clustered']=[ass['well_clustered'] for ass in all_scores]\n",
    "        df_deep_tcr['well_clustered_total']=[ass['well_clustered_total'] for ass in all_scores]\n",
    "        df_deep_tcr['method']='deeptcr'\n",
    "        df_deep_tcr['chain']=str(chainz)\n",
    "        df_deep_tcr['minsize']=str(minsizez)\n",
    "        df_deep_tcr['feature']='CDR3'\n",
    "        df_deep_tcr['epsilon_scaled'] = (df_deep_tcr['eps'] - df_deep_tcr['eps'].min()) / (df_deep_tcr['eps'].max() - df_deep_tcr['eps'].min())\n",
    "\n",
    "\n",
    "        df_deep_tcr_final=df_deep_tcr_final.append(df_deep_tcr)\n",
    "df_deep_tcr_final.to_csv('../Spikein_scores/deeptcr_scored_df.csv', sep =',')        \n",
    "        \n"
   ]
  },
  {
   "cell_type": "code",
   "execution_count": null,
   "id": "499b1266-9687-424b-9836-82e902e40193",
   "metadata": {},
   "outputs": [],
   "source": []
  }
 ],
 "metadata": {
  "kernelspec": {
   "display_name": "tcrvalid",
   "language": "python",
   "name": "tcrvalid"
  },
  "language_info": {
   "codemirror_mode": {
    "name": "ipython",
    "version": 3
   },
   "file_extension": ".py",
   "mimetype": "text/x-python",
   "name": "python",
   "nbconvert_exporter": "python",
   "pygments_lexer": "ipython3",
   "version": "3.8.16"
  }
 },
 "nbformat": 4,
 "nbformat_minor": 5
}
