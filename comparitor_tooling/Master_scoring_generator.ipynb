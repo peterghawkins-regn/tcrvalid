{
 "cells": [
  {
   "cell_type": "code",
   "execution_count": null,
   "id": "f846717a-7d5d-4ce5-873b-8aed190faaf0",
   "metadata": {},
   "outputs": [],
   "source": [
    "# Copyright 2023 Regeneron Pharmaceuticals Inc.\n",
    "#\n",
    "# Licensed under the Apache License, Version 2.0 (the \"License\");\n",
    "# you may not use this file except in compliance with the License.\n",
    "# You may obtain a copy of the License at\n",
    "#\n",
    "#     http://www.apache.org/licenses/LICENSE-2.0\n",
    "#\n",
    "# Unless required by applicable law or agreed to in writing, software\n",
    "# distributed under the License is distributed on an \"AS IS\" BASIS,\n",
    "# WITHOUT WARRANTIES OR CONDITIONS OF ANY KIND, either express or implied.\n",
    "# See the License for the specific language governing permissions and\n",
    "# limitations under the License."
   ]
  },
  {
   "cell_type": "markdown",
   "id": "7570a23d-3faa-4365-b5a6-f987ecb9a161",
   "metadata": {},
   "source": [
    "## Code to collate all comparision scores for TCR clustering benchmarking accross different labelled reference data sets, spikes ins or irrelevant TCRs and clustering methods."
   ]
  },
  {
   "cell_type": "code",
   "execution_count": 1,
   "id": "18c4677f-b0dd-48d0-ace2-c7b8e0a368c8",
   "metadata": {
    "execution": {
     "iopub.execute_input": "2023-12-08T15:48:34.924574Z",
     "iopub.status.busy": "2023-12-08T15:48:34.924199Z",
     "iopub.status.idle": "2023-12-08T15:48:39.192494Z",
     "shell.execute_reply": "2023-12-08T15:48:39.191878Z",
     "shell.execute_reply.started": "2023-12-08T15:48:34.924547Z"
    },
    "tags": []
   },
   "outputs": [],
   "source": [
    "import os\n",
    "import glob\n",
    "import pandas as pd\n",
    "from pathlib import Path\n",
    "import numpy as np\n",
    "import seaborn as sns\n",
    "\n",
    "import matplotlib as mpl\n",
    "from matplotlib.lines import Line2D\n",
    "import matplotlib.pyplot as plt\n"
   ]
  },
  {
   "cell_type": "markdown",
   "id": "f1dcaccb-e4a3-48c3-ace0-8e93e28a171e",
   "metadata": {},
   "source": [
    "### Collect ismart, tcrdist and tcrvalid scoring"
   ]
  },
  {
   "cell_type": "code",
   "execution_count": 2,
   "id": "51382339-e230-4e28-a37a-f8ebfc87865e",
   "metadata": {
    "execution": {
     "iopub.execute_input": "2023-11-22T14:17:45.967742Z",
     "iopub.status.busy": "2023-11-22T14:17:45.967386Z",
     "iopub.status.idle": "2023-11-22T14:17:47.921054Z",
     "shell.execute_reply": "2023-11-22T14:17:47.920408Z",
     "shell.execute_reply.started": "2023-11-22T14:17:45.967719Z"
    },
    "tags": []
   },
   "outputs": [],
   "source": [
    "base_path = \"./Spikein_scores/\"\n",
    "\n",
    "folder=['ismartreference_gliph','ismartreference_tcrvalid','tcrdistreference_gliph','tcrdistreference_tcrvalid','tcrvalidreference_gliph','tcrvalidreference_tcrvalid','ismartreference_gliph_HQ','tcrdistreference_gliph_HQ','tcrvalidreference_gliph_HQ']\n",
    "temp_df = pd.DataFrame()\n",
    "master_score = pd.DataFrame() \n",
    "\n",
    "for approach in folder:\n",
    "    files = glob.glob(base_path+approach+\"/*.csv\")\n",
    "    #print(files)\n",
    "    content = [] \n",
    "    for filename in files:  \n",
    "        df = pd.read_csv(filename, index_col=None) \n",
    "        content.append(df) \n",
    "    temp_df = pd.concat(content)\n",
    "    if 'eps' in temp_df.columns:\n",
    "        temp_df['epsilon_scaled'] = (temp_df['eps'] - temp_df['eps'].min()) / (temp_df['eps'].max() - temp_df['eps'].min())\n",
    "    master_score = master_score.append(temp_df) \n",
    "\n",
    "    \n",
    "master_score=master_score.rename(columns={\"well_clustered_total\": \"c-CSI\",\"well_clustered\": \"c-precision\"})\n",
    "master_score['chain']='TRB'\n",
    "master_score.drop(master_score.columns[[0,1]], inplace=True, axis=1)"
   ]
  },
  {
   "cell_type": "markdown",
   "id": "9ebfe46c-eb15-4976-9bdb-0fd26e0bbb4c",
   "metadata": {},
   "source": [
    "### Compute mean and standard deviation of spike in repeats for each fold"
   ]
  },
  {
   "cell_type": "code",
   "execution_count": 3,
   "id": "37e1a556-617f-48dd-8152-88d56f6ce72a",
   "metadata": {
    "execution": {
     "iopub.execute_input": "2023-11-22T14:17:47.922228Z",
     "iopub.status.busy": "2023-11-22T14:17:47.921865Z",
     "iopub.status.idle": "2023-11-22T14:17:47.963124Z",
     "shell.execute_reply": "2023-11-22T14:17:47.962507Z",
     "shell.execute_reply.started": "2023-11-22T14:17:47.922206Z"
    },
    "tags": []
   },
   "outputs": [],
   "source": [
    "master_score_meta=pd.DataFrame({'mean_CSI' : master_score.groupby( ['spike_x','minsize','eps','label_reference','method','epsilon_scaled','chain'])['c-CSI'].mean()}).reset_index()\n",
    "master_score_meanprecision=pd.DataFrame({'mean_precision' : master_score.groupby( ['spike_x','minsize','eps','label_reference','method','epsilon_scaled','chain'])['c-precision'].mean()}).reset_index()\n",
    "master_score_stdcsi=pd.DataFrame({'std_CSI' : master_score.groupby( ['spike_x','minsize','eps','label_reference','method','epsilon_scaled','chain'])['c-CSI'].std()}).reset_index()\n",
    "master_score_stdprecision=pd.DataFrame({'std_precision' : master_score.groupby( ['spike_x','minsize','eps','label_reference','method','epsilon_scaled','chain'])['c-precision'].std()}).reset_index()\n",
    "master_score_meta['mean_precision']=master_score_meanprecision['mean_precision']\n",
    "master_score_meta['std_precision']=master_score_stdprecision['std_precision']\n",
    "master_score_meta['std_CSI']=master_score_stdcsi['std_CSI']\n"
   ]
  },
  {
   "cell_type": "markdown",
   "id": "c696f8d5-b70d-41c1-92e2-22ff02270eaf",
   "metadata": {},
   "source": [
    "### Collate clustcr outputs and mean spike ins. No eps parameter to scan"
   ]
  },
  {
   "cell_type": "code",
   "execution_count": 4,
   "id": "79ccc870-f07d-4293-a81d-74e1adec22a2",
   "metadata": {
    "execution": {
     "iopub.execute_input": "2023-11-22T14:17:47.964843Z",
     "iopub.status.busy": "2023-11-22T14:17:47.964442Z",
     "iopub.status.idle": "2023-11-22T14:17:47.987928Z",
     "shell.execute_reply": "2023-11-22T14:17:47.987350Z",
     "shell.execute_reply.started": "2023-11-22T14:17:47.964819Z"
    },
    "tags": []
   },
   "outputs": [],
   "source": [
    "clustcr_Output_scored = pd.read_csv('./Spikein_scores/clustcr_scored_df.csv', index_col=None)\n",
    "clustcr_Output_scored['chain']='TRB'\n",
    "clustcr_Output_scored.drop(master_score.columns[[0,1]], inplace=True, axis=1)\n",
    "clustcr_Output_means=pd.DataFrame({'mean_CSI' : clustcr_Output_scored.groupby( ['spike_x','minsize','label_reference','method'])['c-CSI'].mean()}).reset_index()\n",
    "temp_2=pd.DataFrame({'mean_precision' : clustcr_Output_scored.groupby( ['spike_x','minsize','label_reference','method'])['c-precision'].mean()}).reset_index()\n",
    "temp_3=pd.DataFrame({'std_precision' : clustcr_Output_scored.groupby( ['spike_x','minsize','label_reference','method'])['c-precision'].std()}).reset_index()\n",
    "temp_4=pd.DataFrame({'std_CSI' : clustcr_Output_scored.groupby( ['spike_x','minsize','label_reference','method'])['c-CSI'].std()}).reset_index()\n",
    "\n",
    "\n",
    "\n",
    "clustcr_Output_means['mean_precision']=temp_2['mean_precision']\n",
    "clustcr_Output_means['std_CSI']=temp_4['std_CSI']    \n",
    "clustcr_Output_means['std_precision']=temp_3['std_precision']    \n",
    "clustcr_Output_means['chain']='TRB'\n",
    "                                           "
   ]
  },
  {
   "cell_type": "markdown",
   "id": "452ab4c6-449b-454b-b7ab-9116c066a508",
   "metadata": {},
   "source": [
    "### Finally collate to fomatted scoring for both the GLIPH webtool and deeptcrwith and without double assignment corrections."
   ]
  },
  {
   "cell_type": "code",
   "execution_count": 5,
   "id": "02e82804-2ef0-4b63-9f9d-7bd6de71e099",
   "metadata": {
    "execution": {
     "iopub.execute_input": "2023-11-22T14:17:47.989100Z",
     "iopub.status.busy": "2023-11-22T14:17:47.988754Z",
     "iopub.status.idle": "2023-11-22T14:17:48.002575Z",
     "shell.execute_reply": "2023-11-22T14:17:48.002020Z",
     "shell.execute_reply.started": "2023-11-22T14:17:47.989079Z"
    },
    "tags": []
   },
   "outputs": [],
   "source": [
    "GLIPH_Output_scored = pd.read_csv('./Spikein_scores/Gliph_webtool_scored_df_withHQ_score.csv', index_col=None)\n",
    "GLIPH_Output_scored.drop(GLIPH_Output_scored.columns[[0,1,2,3,4,5,6,12]], inplace=True, axis=1)\n",
    "GLIPH_Output_scored=GLIPH_Output_scored.rename(columns={\"c-CSI\": \"mean_CSI\",\"c-precision\": \"mean_precision\",})\n",
    "GLIPH_Output_scored['chain']='TRB'\n",
    "\n",
    "deeptcr_Output_scored = pd.read_csv('./Spikein_scores/deeptcr_scored_df.csv', index_col=None)\n",
    "deeptcr_Output_scored['spike_x']=0\n",
    "deeptcr_Output_scored['feature']=0\n",
    "\n",
    "deeptcr_Output_scored.drop(deeptcr_Output_scored.columns[[0]], inplace=True, axis=1)\n",
    "\n",
    "deeptcr_Output_scored=deeptcr_Output_scored.rename(columns={\"well_clustered_total\": \"mean_CSI\",\"well_clustered\": \"mean_precision\",})\n",
    "\n",
    "deeptcr_Output_scored['label_reference']='tcrvalid'"
   ]
  },
  {
   "cell_type": "markdown",
   "id": "ab6af3ef-5575-4325-b9c0-d95195d781a0",
   "metadata": {},
   "source": [
    "### Save both the full spike in master score dataframe along with the mean'ed on for downstream plotting\n",
    "- Some eps were dropped from the scans and they caused the scan to be non monotonic which complicated visulaizations "
   ]
  },
  {
   "cell_type": "code",
   "execution_count": 6,
   "id": "6e7786ee-6188-42c6-8d12-cd28b7453161",
   "metadata": {
    "execution": {
     "iopub.execute_input": "2023-11-22T14:17:48.003649Z",
     "iopub.status.busy": "2023-11-22T14:17:48.003396Z",
     "iopub.status.idle": "2023-11-22T14:17:48.053258Z",
     "shell.execute_reply": "2023-11-22T14:17:48.052650Z",
     "shell.execute_reply.started": "2023-11-22T14:17:48.003629Z"
    },
    "tags": []
   },
   "outputs": [],
   "source": [
    "master_score_meta_f=pd.DataFrame()\n",
    "master_score_meta_f=master_score_meta.append(clustcr_Output_means.append(GLIPH_Output_scored.append(deeptcr_Output_scored)))\n",
    "\n",
    "master_score_meta_f = master_score_meta_f.drop(master_score_meta_f[(master_score_meta_f.eps.isin([3.16,5.43])) &\n",
    "                                                                    (master_score_meta_f['minsize']==3) &\n",
    "                                                                    (master_score_meta_f['spike_x']==0) &\n",
    "                                                                    (master_score_meta_f['label_reference']=='gliph_HQ') &\n",
    "                                                                    (master_score_meta_f['method']=='tcrvalid')\n",
    "                                                                  \n",
    "                                                                  ].index)\n",
    "master_score_meta_f=master_score_meta_f.drop(master_score_meta_f[\n",
    "                            (master_score_meta_f.eps.isin([16,34])) &\n",
    "                            (master_score_meta_f['minsize']==3) &\n",
    "                            (master_score_meta_f['spike_x']==0) &\n",
    "                            (master_score_meta_f['label_reference']=='gliph')&\n",
    "                            (master_score_meta_f['method']=='tcrdist')].index)\n",
    "master_score_meta_f=master_score_meta_f.rename(columns={\"mean_CSI\":\"c-CSI\",\"mean_precision\":\"c-precision\"})\n",
    "\n",
    "master_score_meta_f.to_csv('master_score_meta_f.csv', sep =',')        \n"
   ]
  },
  {
   "cell_type": "code",
   "execution_count": 27,
   "id": "6266584c-8f58-476a-b087-486c4fc8fc53",
   "metadata": {
    "execution": {
     "iopub.execute_input": "2023-12-08T16:05:38.924322Z",
     "iopub.status.busy": "2023-12-08T16:05:38.923949Z",
     "iopub.status.idle": "2023-12-08T16:05:38.933859Z",
     "shell.execute_reply": "2023-12-08T16:05:38.933300Z",
     "shell.execute_reply.started": "2023-12-08T16:05:38.924296Z"
    },
    "tags": []
   },
   "outputs": [],
   "source": [
    "master_score_meta_f = pd.read_csv('../comparitor_tooling/master_score_meta_f.csv')"
   ]
  },
  {
   "cell_type": "code",
   "execution_count": 28,
   "id": "ca49c5fa-575f-4433-9bcd-1ae458460935",
   "metadata": {
    "execution": {
     "iopub.execute_input": "2023-12-08T16:05:38.935230Z",
     "iopub.status.busy": "2023-12-08T16:05:38.934958Z",
     "iopub.status.idle": "2023-12-08T16:05:38.963461Z",
     "shell.execute_reply": "2023-12-08T16:05:38.962885Z",
     "shell.execute_reply.started": "2023-12-08T16:05:38.935209Z"
    },
    "tags": []
   },
   "outputs": [],
   "source": [
    "transformer_df = pd.read_csv('../results_data/comparison_scores_221012.csv')\n",
    "transformer_df = transformer_df[transformer_df.method.isin(['tcr-bert','ESM'])]\n",
    "transformer_df = transformer_df[transformer_df.mean_features==True]\n",
    "transformer_df = transformer_df[transformer_df.sources=='both']\n",
    "transformer_df = transformer_df[~(\n",
    "    (transformer_df.method == 'ESM')\n",
    "    & (transformer_df.feature == 'CDR3')\n",
    ")]\n",
    "transformer_df['label_reference'] = 'tcrvalid'\n",
    "transformer_df['spike_x'] = 0\n",
    "transformer_df['chain'] = transformer_df['chains'] \n",
    "scaling_map = {\n",
    "    m:transformer_df[transformer_df['method']==m].epsilon.max() for m in ['tcr-bert','ESM']\n",
    "}\n",
    "transformer_df['epsilon_scaled']=transformer_df.apply(\n",
    "    lambda x: x['epsilon']/scaling_map[x['method']],\n",
    "    axis=1\n",
    "\n",
    ")\n",
    "transformer_df=transformer_df.rename(columns={\"epsilon\":\"eps\"})\n",
    "master_score=pd.concat((master_score_meta_f,transformer_df))\n"
   ]
  },
  {
   "cell_type": "code",
   "execution_count": 29,
   "id": "c2938169-8b98-450c-8adc-02c35456e078",
   "metadata": {
    "execution": {
     "iopub.execute_input": "2023-12-08T16:05:39.299610Z",
     "iopub.status.busy": "2023-12-08T16:05:39.299250Z",
     "iopub.status.idle": "2023-12-08T16:05:39.309809Z",
     "shell.execute_reply": "2023-12-08T16:05:39.309267Z",
     "shell.execute_reply.started": "2023-12-08T16:05:39.299587Z"
    },
    "tags": []
   },
   "outputs": [],
   "source": [
    "concatenated_seq_encoding = pd.read_csv('../comparitor_tooling/1HotvsPC_score.csv')\n",
    "concatenated_seq_encoding=concatenated_seq_encoding.rename(columns={\"epsilon\":\"eps\",'reference':'label_reference','Method':'method'})\n",
    "master_score=pd.concat((master_score,concatenated_seq_encoding))"
   ]
  },
  {
   "cell_type": "code",
   "execution_count": 31,
   "id": "bc0e8539-beb9-44f5-af50-01b6c3487359",
   "metadata": {
    "execution": {
     "iopub.execute_input": "2023-12-08T16:06:11.161432Z",
     "iopub.status.busy": "2023-12-08T16:06:11.161061Z",
     "iopub.status.idle": "2023-12-08T16:06:11.203493Z",
     "shell.execute_reply": "2023-12-08T16:06:11.202806Z",
     "shell.execute_reply.started": "2023-12-08T16:06:11.161409Z"
    }
   },
   "outputs": [],
   "source": [
    "master_score.to_csv('master_score.csv', sep =',')        \n"
   ]
  }
 ],
 "metadata": {
  "kernelspec": {
   "display_name": "tcrvalid",
   "language": "python",
   "name": "tcrvalid"
  },
  "language_info": {
   "codemirror_mode": {
    "name": "ipython",
    "version": 3
   },
   "file_extension": ".py",
   "mimetype": "text/x-python",
   "name": "python",
   "nbconvert_exporter": "python",
   "pygments_lexer": "ipython3",
   "version": "3.8.16"
  }
 },
 "nbformat": 4,
 "nbformat_minor": 5
}
