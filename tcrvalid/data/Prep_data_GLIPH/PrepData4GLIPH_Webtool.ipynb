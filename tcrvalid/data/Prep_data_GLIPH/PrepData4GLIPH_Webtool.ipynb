{
 "cells": [
  {
   "cell_type": "markdown",
   "id": "9a103c66-43d9-4473-8b2a-d4762971ac15",
   "metadata": {},
   "source": [
    "### Notebook to prep data into GLIPH clustering format with spike ins\n",
    "- Can be shared if need be. Its output is also used when scoring GLIPH clustering output."
   ]
  },
  {
   "cell_type": "code",
   "execution_count": 30,
   "id": "3b4eedb4-f396-4fc6-b99e-719162ba00cd",
   "metadata": {
    "execution": {
     "iopub.execute_input": "2023-11-17T21:34:35.124172Z",
     "iopub.status.busy": "2023-11-17T21:34:35.123744Z",
     "iopub.status.idle": "2023-11-17T21:34:35.129748Z",
     "shell.execute_reply": "2023-11-17T21:34:35.128880Z",
     "shell.execute_reply.started": "2023-11-17T21:34:35.124136Z"
    },
    "tags": []
   },
   "outputs": [],
   "source": [
    "import os \n",
    "import sys\n",
    "sys.path.append('.../tcrvalid/comparitor_tooling/distance_based_tools')\n",
    "import pandas as pd\n",
    "import numpy as np\n",
    "\n",
    "pd.options.mode.chained_assignment = None\n",
    "from tcrclustering.cluster.helper import (\n",
    "    tcrdist_parallel_simple_run,\n",
    "    tcrdist_simple_run,\n",
    "    ismart_simple_run\n",
    ")\n",
    "from tcrclustering.cluster.prep_gliph_data import *\n"
   ]
  },
  {
   "cell_type": "code",
   "execution_count": 31,
   "id": "aa9a78a6-5692-4065-9083-98609ebac9e8",
   "metadata": {
    "execution": {
     "iopub.execute_input": "2023-11-17T21:34:41.269584Z",
     "iopub.status.busy": "2023-11-17T21:34:41.269207Z",
     "iopub.status.idle": "2023-11-17T21:34:41.273981Z",
     "shell.execute_reply": "2023-11-17T21:34:41.273080Z",
     "shell.execute_reply.started": "2023-11-17T21:34:41.269554Z"
    },
    "tags": []
   },
   "outputs": [],
   "source": [
    "from tcrvalid.data_subsetting import make_subset,sources_,chains_,features_\n",
    "from tcrvalid.metrics import get_cluster_purity_df,clustering_scoring\n",
    "from tcrvalid.defaults import *"
   ]
  },
  {
   "cell_type": "code",
   "execution_count": 4,
   "id": "6fbd79be-ffef-450c-a725-bd74002ef572",
   "metadata": {
    "execution": {
     "iopub.execute_input": "2023-11-16T14:34:06.414339Z",
     "iopub.status.busy": "2023-11-16T14:34:06.413941Z",
     "iopub.status.idle": "2023-11-16T14:34:06.423252Z",
     "shell.execute_reply": "2023-11-16T14:34:06.422727Z",
     "shell.execute_reply.started": "2023-11-16T14:34:06.414306Z"
    },
    "tags": []
   },
   "outputs": [],
   "source": [
    "def get_rename_dict(chain_type):\n",
    "    \"\"\" rename df columns to match wrapper package expectations\n",
    "    \"\"\"\n",
    "    if chain_type == 'TRB':\n",
    "        rename_cols = {\n",
    "            'junction_aa': 'cdr3_TRB',\n",
    "            'meta_v_call': 'v_gene_TRB',\n",
    "            'meta_j_call': 'j_gene_TRB',\n",
    "        }\n",
    "    elif chain_type=='TRA':\n",
    "         rename_cols = {\n",
    "            'junction_aa': 'cdr3_TRA',\n",
    "            'meta_v_call': 'v_gene_TRA',\n",
    "            'meta_j_call': 'j_gene_TRA',\n",
    "        }\n",
    "    elif chain_type=='TR':\n",
    "        rename_cols = {\n",
    "            'junction_aa_TRA': 'cdr3_TRA',\n",
    "            'meta_v_call_TRA': 'v_gene_TRA',\n",
    "            'meta_j_call_TRA': 'j_gene_TRA',\n",
    "            'junction_aa_TRB': 'cdr3_TRB',\n",
    "            'meta_v_call_TRB': 'v_gene_TRB',\n",
    "            'meta_j_call_TRB': 'j_gene_TRB',\n",
    "            #'peptide_TRA': 'peptide' \n",
    "        }\n",
    "    else: \n",
    "        raise ValueError('unknown chain type')\n",
    "    return rename_cols\n",
    "\n",
    "def get_data(chain_type,noflu):\n",
    "    \"\"\" pull in the labeled dataset and make subset\n",
    "    \n",
    "    Currently assumes CDR23 dropping in this implementation\n",
    "    \n",
    "    If using only one chain - introduce dummy variables into other \n",
    "    so that consistent package input. Not used f not requested.\n",
    "    \n",
    "    \"\"\"\n",
    "    df = pd.read_csv(labelled_data_path)\n",
    "    source_type='both'\n",
    "    tmp_df = make_subset(\n",
    "        df,\n",
    "        sources=sources_[source_type],\n",
    "        chains=chains_[chain_type],\n",
    "        feature=features_['CDR23'],\n",
    "        noflu=noflu\n",
    "    )\n",
    "    rename_cols = get_rename_dict(chain_type)\n",
    "    tmp_df = tmp_df.rename(columns=rename_cols)\n",
    "    if chain_type=='TRB':\n",
    "        tmp_df['v_gene_TRA'] = ['TRAV1-1']*len(tmp_df)\n",
    "        tmp_df['j_gene_TRA'] = ['TRAJ1']*len(tmp_df)\n",
    "        tmp_df['cdr3_TRA'] = ['CAAAAAAAF']*len(tmp_df)\n",
    "    elif chain_type=='TRA':\n",
    "        tmp_df['v_gene_TRB'] = ['TRBV19']*len(tmp_df)\n",
    "        tmp_df['j_gene_TRB'] = ['TRBJ2-1']*len(tmp_df)\n",
    "        tmp_df['cdr3_TRB'] = ['CAAAAAAAF']*len(tmp_df)\n",
    "\n",
    "    return tmp_df\n",
    "\n"
   ]
  },
  {
   "cell_type": "code",
   "execution_count": 40,
   "id": "bb3eb482-6196-4178-b889-abc23df04f05",
   "metadata": {
    "execution": {
     "iopub.execute_input": "2023-11-17T21:57:37.949581Z",
     "iopub.status.busy": "2023-11-17T21:57:37.949195Z",
     "iopub.status.idle": "2023-11-17T21:57:37.969889Z",
     "shell.execute_reply": "2023-11-17T21:57:37.969024Z",
     "shell.execute_reply.started": "2023-11-17T21:57:37.949549Z"
    },
    "tags": []
   },
   "outputs": [],
   "source": [
    "#Choose reference to create spike in datasets: gliph, gliphHQ and tcrvalid\n",
    "def Generate_spike_ins(reference):\n",
    "    if reference=='gliph':\n",
    "            df_ref=prep_gliph_data('TRB','ref')\n",
    "    elif reference=='gliphHQ':\n",
    "        df_ref_orig=prep_gliph_data('TRB','ref')\n",
    "        VDJDB_ref=pd.read_csv('./VDJDB_TCRs_w_quality.tsv',sep='\\t')\n",
    "        VDJDB_ref['v_gene_TRB'] = VDJDB_ref['V'].str.split('*').str[0]\n",
    "        VDJDB_ref['j_gene_TRB'] = VDJDB_ref['J'].str.split('*').str[0]\n",
    "        VDJDB_ref=VDJDB_ref.rename(columns={'CDR3':'cdr3_TRB','Epitope':'peptide'}) \n",
    "        tmp_df2=df_ref_orig.merge(VDJDB_ref,on=['v_gene_TRB','cdr3_TRB','j_gene_TRB','peptide'],how='left')\n",
    "        Filtered=tmp_df2.loc[(tmp_df2[\"Gene\"]=='TRB') & (tmp_df2[\"Score\"]>0),]                       \n",
    "        Filtered=Filtered[[ 'sequence_id','cdr3_TRB', 'v_call', 'j_call', 'peptide','Score', 'source', 'v_gene_TRB', 'j_gene_TRB', 'new_v_call', 'cdr1_no_gaps', 'cdr2_no_gaps', 'cdr1_cdr2_no_gaps', 'clono_id', 'v_gene_TRA', 'j_gene_TRA', 'cdr3_TRA']]\n",
    "        Filtered=Filtered.sort_values(by=['clono_id','Score'], ascending=False)\n",
    "        df_ref=Filtered.drop_duplicates('clono_id')\n",
    "    elif reference=='tcrvalid':\n",
    "        df_ref=get_data('TRB', False)\n",
    "\n",
    "        \n",
    "    for n in range(1,6):\n",
    "        path='../Spike_splits/S'+str(n)+'_1.csv'\n",
    "        df_merge=prep_gliph_data('TRB',path)\n",
    "\n",
    "        df_merge['spike_fold']=n\n",
    "        \n",
    "\n",
    "        spike_score=pd.concat([df_ref,df_merge],join='inner', ignore_index=True)    \n",
    "        spike_score['subject']='NA'\n",
    "        spike_score['count']=1\n",
    "        df_spike_4GLIP_NA=spike_score[[\"cdr3_TRB\",'v_gene_TRB','j_gene_TRB',\"peptide\",'subject','count']]\n",
    "\n",
    "        save_name_NA='df_ref_'+str(reference)+'_spike_'+str(n)+'_4GLIP_NA1.csv'\n",
    "        df_spike_4GLIP_NA.to_csv(save_name_NA, sep ='\\t',header=False,index=False)\n",
    "\n",
    "        df_merge['peptide']=pd.util.hash_pandas_object(df_merge).astype(str)\n",
    "        spike_score=pd.concat([df_ref,df_merge],join='inner', ignore_index=True)    \n",
    "        spike_score['subject']='NA'\n",
    "        spike_score['count']=1\n",
    "\n",
    "        df_spike_4GLIP_hash=spike_score[[\"cdr3_TRB\",'v_gene_TRB','j_gene_TRB',\"peptide\",'subject','count']]\n",
    "        save_name_hash='df_ref_'+str(reference)+'_spike_'+str(n)+'_4GLIP_hash1.csv'\n",
    "        df_spike_4GLIP_hash.to_csv(save_name_hash, sep ='\\t',header=False,index=False)\n",
    "\n",
    "\n",
    "        save_name_full='df_spike_'+str(reference)+'_spike_'+str(n)+'_hash1.csv'\n",
    "        spike_score.to_csv(save_name_full, sep =',')\n"
   ]
  },
  {
   "cell_type": "code",
   "execution_count": 41,
   "id": "92288e0f-33c0-4884-b351-bde801884e9c",
   "metadata": {
    "execution": {
     "iopub.execute_input": "2023-11-17T22:07:07.309510Z",
     "iopub.status.busy": "2023-11-17T22:07:07.309129Z",
     "iopub.status.idle": "2023-11-17T22:07:09.975195Z",
     "shell.execute_reply": "2023-11-17T22:07:09.974221Z",
     "shell.execute_reply.started": "2023-11-17T22:07:07.309481Z"
    }
   },
   "outputs": [],
   "source": [
    "Generate_spike_ins('tcrvalid')"
   ]
  },
  {
   "cell_type": "code",
   "execution_count": null,
   "id": "4d90ae38-82c4-46bc-a1bb-b693484a3a16",
   "metadata": {},
   "outputs": [],
   "source": []
  }
 ],
 "metadata": {
  "kernelspec": {
   "display_name": "tcrvalid",
   "language": "python",
   "name": "tcrvalid"
  },
  "language_info": {
   "codemirror_mode": {
    "name": "ipython",
    "version": 3
   },
   "file_extension": ".py",
   "mimetype": "text/x-python",
   "name": "python",
   "nbconvert_exporter": "python",
   "pygments_lexer": "ipython3",
   "version": "3.8.16"
  }
 },
 "nbformat": 4,
 "nbformat_minor": 5
}
